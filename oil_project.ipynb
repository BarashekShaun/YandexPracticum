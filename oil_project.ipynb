{
 "cells": [
  {
   "cell_type": "markdown",
   "id": "d4b147e9",
   "metadata": {},
   "source": [
    "### Инструкция по выполнению проекта\n",
    "\n",
    "* 1.Загрузите и подготовьте данные. Поясните порядок действий.\n",
    "* 2.Обучите и проверьте модель для каждого региона:\n",
    "* 2.1. Разбейте данные на обучающую и валидационную выборки в\n",
    "соотношении 75:25.\n",
    "* 2.2. Обучите модель и сделайте предсказания на валидационной\n",
    "выборке.\n",
    "* 2.3. Сохраните предсказания и правильные ответы на валидационной\n",
    "выборке.\n",
    "* 2.4. Напечатайте на экране средний запас предсказанного сырья и\n",
    "RMSE модели.\n",
    "* 2.5. Проанализируйте результаты.\n",
    "* 3.Подготовьтесь к расчёту прибыли:\n",
    "* 3.1. Все ключевые значения для расчётов сохраните в отдельных\n",
    "переменных.\n",
    "* 3.2. Рассчитайте достаточный объём сырья для безубыточной\n",
    "разработки новой скважины. Сравните полученный объём сырья со\n",
    "средним запасом в каждом регионе.\n",
    "* 3.3. Напишите выводы по этапу подготовки расчёта прибыли.\n",
    "* 4.Напишите функцию для расчёта прибыли по выбранным скважинам и\n",
    "предсказаниям модели:\n",
    "* 4.1. Выберите скважины с максимальными значениями предсказаний.\n",
    "* 4.2. Просуммируйте целевое значение объёма сырья, соответствующее\n",
    "этим предсказаниям.\n",
    "* 4.3. Рассчитайте прибыль для полученного объёма сырья.\n",
    "* 5.Посчитайте риски и прибыль для каждого региона:\n",
    "* 5.1. Примените технику Bootstrap с 1000 выборок, чтобы найти\n",
    "распределение прибыли.\n",
    "* 5.2. Найдите среднюю прибыль, 95%-й доверительный интервал и риск\n",
    "убытков. Убыток — это отрицательная прибыль.\n",
    "* 5.3. Напишите выводы: предложите регион для разработки скважин и\n",
    "обоснуйте выбор.\n",
    "\n",
    "### Описание данных\n",
    "\n",
    "* id — уникальный идентификатор скважины;\n",
    "* f0, f1, f2 — три признака точек (неважно, что они означают, но сами\n",
    "признаки значимы);\n",
    "* product — объём запасов в скважине (тыс. баррелей).\n",
    "\n",
    "### Условия задачи:\n",
    "\n",
    "* Для обучения модели подходит только линейная регрессия (остальные\n",
    "— недостаточно предсказуемые).\n",
    "* При разведке региона исследуют 500 точек, из которых с помощью\n",
    "машинного обучения выбирают 200 лучших для разработки.\n",
    "* Бюджет на разработку скважин в регионе — 10 млрд рублей.\n",
    "* При нынешних ценах один баррель сырья приносит 450 рублей дохода.\n",
    "Доход с каждой единицы продукта составляет 450 тыс. рублей,\n",
    "поскольку объём указан в тысячах баррелей.\n",
    "* После оценки рисков нужно оставить лишь те регионы, в которых\n",
    "вероятность убытков меньше 2.5%. Среди них выбирают регион с\n",
    "наибольшей средней прибылью.\n",
    "\n",
    "*Данные синтетические: детали контрактов и характеристики месторождений\n",
    "не разглашаются.*\n"
   ]
  },
  {
   "cell_type": "code",
   "execution_count": 3,
   "id": "d626f95d",
   "metadata": {},
   "outputs": [],
   "source": [
    "# имортированные библиотеки:\n",
    "\n",
    "import pandas as pd\n",
    "from sklearn.model_selection import train_test_split\n",
    "from sklearn.linear_model import LinearRegression\n",
    "from sklearn.metrics import mean_squared_error\n",
    "import numpy as np"
   ]
  },
  {
   "cell_type": "markdown",
   "id": "543a9e5e",
   "metadata": {},
   "source": [
    "## Подготовка данных"
   ]
  },
  {
   "cell_type": "code",
   "execution_count": 6,
   "id": "c76f2ebb",
   "metadata": {},
   "outputs": [
    {
     "name": "stdout",
     "output_type": "stream",
     "text": [
      "Head\n",
      "      id        f0        f1        f2     product\n",
      "0  txEyH  0.705745 -0.497823  1.221170  105.280062\n",
      "1  2acmU  1.334711 -0.340164  4.365080   73.037750\n",
      "2  409Wp  1.022732  0.151990  1.419926   85.265647\n",
      "3  iJLyR -0.032172  0.139033  2.978566  168.620776\n",
      "4  Xdl7t  1.988431  0.155413  4.751769  154.036647\n",
      "      id         f0         f1        f2     product\n",
      "0  kBEdx -15.001348  -8.276000 -0.005876    3.179103\n",
      "1  62mP7  14.272088  -3.475083  0.999183   26.953261\n",
      "2  vyE1P   6.263187  -5.948386  5.001160  134.766305\n",
      "3  KcrkZ -13.081196 -11.506057  4.999415  137.945408\n",
      "4  AHL4O  12.702195  -8.147433  5.004363  134.766305\n",
      "      id        f0        f1        f2     product\n",
      "0  fwXo0 -1.146987  0.963328 -0.828965   27.758673\n",
      "1  WJtFt  0.262778  0.269839 -2.530187   56.069697\n",
      "2  ovLUW  0.194587  0.289035 -5.586433   62.871910\n",
      "3  q6cA6  2.236060 -0.553760  0.930038  114.572842\n",
      "4  WPMUX -0.515993  1.716266  5.899011  149.600746\n",
      "\n",
      "Info\n",
      "<class 'pandas.core.frame.DataFrame'>\n",
      "RangeIndex: 100000 entries, 0 to 99999\n",
      "Data columns (total 5 columns):\n",
      " #   Column   Non-Null Count   Dtype  \n",
      "---  ------   --------------   -----  \n",
      " 0   id       100000 non-null  object \n",
      " 1   f0       100000 non-null  float64\n",
      " 2   f1       100000 non-null  float64\n",
      " 3   f2       100000 non-null  float64\n",
      " 4   product  100000 non-null  float64\n",
      "dtypes: float64(4), object(1)\n",
      "memory usage: 3.8+ MB\n",
      "<class 'pandas.core.frame.DataFrame'>\n",
      "RangeIndex: 100000 entries, 0 to 99999\n",
      "Data columns (total 5 columns):\n",
      " #   Column   Non-Null Count   Dtype  \n",
      "---  ------   --------------   -----  \n",
      " 0   id       100000 non-null  object \n",
      " 1   f0       100000 non-null  float64\n",
      " 2   f1       100000 non-null  float64\n",
      " 3   f2       100000 non-null  float64\n",
      " 4   product  100000 non-null  float64\n",
      "dtypes: float64(4), object(1)\n",
      "memory usage: 3.8+ MB\n",
      "<class 'pandas.core.frame.DataFrame'>\n",
      "RangeIndex: 100000 entries, 0 to 99999\n",
      "Data columns (total 5 columns):\n",
      " #   Column   Non-Null Count   Dtype  \n",
      "---  ------   --------------   -----  \n",
      " 0   id       100000 non-null  object \n",
      " 1   f0       100000 non-null  float64\n",
      " 2   f1       100000 non-null  float64\n",
      " 3   f2       100000 non-null  float64\n",
      " 4   product  100000 non-null  float64\n",
      "dtypes: float64(4), object(1)\n",
      "memory usage: 3.8+ MB\n",
      "None\n",
      "None\n",
      "None\n"
     ]
    }
   ],
   "source": [
    "try:\n",
    "    data1 = pd.read_csv('D:\\geo_data_0.csv')\n",
    "    data2 = pd.read_csv('D:\\geo_data_1.csv')\n",
    "    data3 = pd.read_csv('D:\\geo_data_2.csv')\n",
    "except:\n",
    "    data1 = pd.read_csv('datasets/geo_data_0.csv')\n",
    "    data2 = pd.read_csv('datasets/geo_data_1.csv')\n",
    "    data3 = pd.read_csv('datasets/geo_data_2.csv')\n",
    "    \n",
    "def data_print(one, two, three):\n",
    "    print('Head')\n",
    "    print(one.head(), two.head(), three.head(), sep='\\n', end='\\n'*2)\n",
    "    print('Info')\n",
    "    print(one.info(), two.info(), three.info(), sep='\\n')\n",
    "      \n",
    "data_print(data1, data2, data3)"
   ]
  },
  {
   "cell_type": "code",
   "execution_count": 7,
   "id": "6a61213c",
   "metadata": {},
   "outputs": [
    {
     "name": "stdout",
     "output_type": "stream",
     "text": [
      "10 4 4\n"
     ]
    }
   ],
   "source": [
    "print(\n",
    "    data1['id'].duplicated().sum(),\n",
    "    data2['id'].duplicated().sum(),\n",
    "    data3['id'].duplicated().sum()\n",
    ")\n",
    "\n",
    "data1 = data1.drop_duplicates(['id'])\n",
    "data2 = data2.drop_duplicates(['id'])\n",
    "data3 = data3.drop_duplicates(['id'])"
   ]
  },
  {
   "cell_type": "code",
   "execution_count": 8,
   "id": "6c99c6e0",
   "metadata": {},
   "outputs": [
    {
     "name": "stdout",
     "output_type": "stream",
     "text": [
      "Head\n",
      "         f0        f1        f2     product\n",
      "0  0.705745 -0.497823  1.221170  105.280062\n",
      "1  1.334711 -0.340164  4.365080   73.037750\n",
      "2  1.022732  0.151990  1.419926   85.265647\n",
      "3 -0.032172  0.139033  2.978566  168.620776\n",
      "4  1.988431  0.155413  4.751769  154.036647\n",
      "          f0         f1        f2     product\n",
      "0 -15.001348  -8.276000 -0.005876    3.179103\n",
      "1  14.272088  -3.475083  0.999183   26.953261\n",
      "2   6.263187  -5.948386  5.001160  134.766305\n",
      "3 -13.081196 -11.506057  4.999415  137.945408\n",
      "4  12.702195  -8.147433  5.004363  134.766305\n",
      "         f0        f1        f2     product\n",
      "0 -1.146987  0.963328 -0.828965   27.758673\n",
      "1  0.262778  0.269839 -2.530187   56.069697\n",
      "2  0.194587  0.289035 -5.586433   62.871910\n",
      "3  2.236060 -0.553760  0.930038  114.572842\n",
      "4 -0.515993  1.716266  5.899011  149.600746\n",
      "\n",
      "Info\n",
      "<class 'pandas.core.frame.DataFrame'>\n",
      "Int64Index: 99990 entries, 0 to 99999\n",
      "Data columns (total 4 columns):\n",
      " #   Column   Non-Null Count  Dtype  \n",
      "---  ------   --------------  -----  \n",
      " 0   f0       99990 non-null  float64\n",
      " 1   f1       99990 non-null  float64\n",
      " 2   f2       99990 non-null  float64\n",
      " 3   product  99990 non-null  float64\n",
      "dtypes: float64(4)\n",
      "memory usage: 3.8 MB\n",
      "<class 'pandas.core.frame.DataFrame'>\n",
      "Int64Index: 99996 entries, 0 to 99999\n",
      "Data columns (total 4 columns):\n",
      " #   Column   Non-Null Count  Dtype  \n",
      "---  ------   --------------  -----  \n",
      " 0   f0       99996 non-null  float64\n",
      " 1   f1       99996 non-null  float64\n",
      " 2   f2       99996 non-null  float64\n",
      " 3   product  99996 non-null  float64\n",
      "dtypes: float64(4)\n",
      "memory usage: 3.8 MB\n",
      "<class 'pandas.core.frame.DataFrame'>\n",
      "Int64Index: 99996 entries, 0 to 99999\n",
      "Data columns (total 4 columns):\n",
      " #   Column   Non-Null Count  Dtype  \n",
      "---  ------   --------------  -----  \n",
      " 0   f0       99996 non-null  float64\n",
      " 1   f1       99996 non-null  float64\n",
      " 2   f2       99996 non-null  float64\n",
      " 3   product  99996 non-null  float64\n",
      "dtypes: float64(4)\n",
      "memory usage: 3.8 MB\n",
      "None\n",
      "None\n",
      "None\n",
      "None\n"
     ]
    }
   ],
   "source": [
    "data1 = data1.drop(['id'], axis=1)\n",
    "data2 = data2.drop(['id'], axis=1)\n",
    "data3 = data3.drop(['id'], axis=1)\n",
    "\n",
    "print(data_print(data1, data2, data3))"
   ]
  },
  {
   "cell_type": "markdown",
   "id": "ad0b2bb5",
   "metadata": {},
   "source": [
    "**На этом этапе было выполнено:**\n",
    "* Созданы переменные для каждого региона\n",
    "* Исследованны значения в датафреймах\n",
    "* Данные проверены на наличие пропусков\n",
    "* Обнаружены и удалены дубликаты по id скважин"
   ]
  },
  {
   "cell_type": "markdown",
   "id": "a753f11a",
   "metadata": {},
   "source": [
    "#### Создание обучающих выборок"
   ]
  },
  {
   "cell_type": "code",
   "execution_count": 9,
   "id": "bebce6cf",
   "metadata": {},
   "outputs": [
    {
     "name": "stdout",
     "output_type": "stream",
     "text": [
      "Отношение обучающей выборки к датасету: 0.75\n",
      "Отношение валидационной выборки к датасету: 0.25\n"
     ]
    }
   ],
   "source": [
    "def train_split(data):\n",
    "    data_train, data_valid = train_test_split(\n",
    "                        data, test_size=0.25, \n",
    "                        random_state=666\n",
    "                        )\n",
    "    features_train = data_train.drop(['product'], axis=1)\n",
    "    target_train = data_train['product']\n",
    "    features_valid = data_valid.drop(['product'], axis=1)\n",
    "    target_valid = data_valid['product']\n",
    "        \n",
    "    return features_train, target_train, features_valid, target_valid\n",
    "\n",
    "features_train_one, target_train_one, features_valid_one, target_valid_one = train_split(data1)\n",
    "features_train_two, target_train_two, features_valid_two, target_valid_two = train_split(data2)\n",
    "features_train_three, target_train_three, features_valid_three, target_valid_three = train_split(data3)\n",
    "\n",
    "print(\n",
    "    'Отношение обучающей выборки к датасету: {:.2f}'.format(features_train_one.shape[0]/data1.shape[0]),\n",
    "    'Отношение валидационной выборки к датасету: {:.2f}'.format(features_valid_one.shape[0]/data1.shape[0]), sep='\\n'\n",
    "     )"
   ]
  },
  {
   "cell_type": "markdown",
   "id": "7e32afad",
   "metadata": {},
   "source": [
    "**На этом этапе выполнено:**\n",
    "* Создана функция для применения train_test_split к датафреймам каждого региона и разделения на признаки\n",
    "* Выполнена проверка соотношения выборок на примере первой"
   ]
  },
  {
   "cell_type": "markdown",
   "id": "6dd93a48",
   "metadata": {},
   "source": [
    "### Обучение и расчет ошибок модели"
   ]
  },
  {
   "cell_type": "code",
   "execution_count": 10,
   "id": "d5b97bd8",
   "metadata": {},
   "outputs": [],
   "source": [
    "def model(features_train, target_train, features_valid):\n",
    "    model = LinearRegression()\n",
    "    model.fit(features_train, target_train)\n",
    "    predict = model.predict(features_valid)\n",
    "    return model, predict\n",
    "\n",
    "model_one, predict_one = model(features_train_one, target_train_one, features_valid_one)\n",
    "model_two, predict_two = model(features_train_two, target_train_two, features_valid_two)\n",
    "model_three, predict_three = model(features_train_three, target_train_three, features_valid_three)"
   ]
  },
  {
   "cell_type": "code",
   "execution_count": 11,
   "id": "158d7739",
   "metadata": {},
   "outputs": [
    {
     "name": "stdout",
     "output_type": "stream",
     "text": [
      "Первый регион - 92187 средний объем скважин.\n",
      "RMSE:\n",
      "37.69025980070204\n",
      "Второй регион - 68946 средний объем скважин.\n",
      "RMSE:\n",
      "0.8919858351135961\n",
      "Третий регион - 94944 средний объем скважин\n",
      "RMSE:\n",
      "40.122571305287025\n"
     ]
    }
   ],
   "source": [
    "def mse(target_valid, predict):\n",
    "    mse = mean_squared_error(target_valid, predict)\n",
    "    rmse = mse ** 0.5\n",
    "    mean_reserve = predict.mean()\n",
    "    return rmse, mean_reserve\n",
    "\n",
    "rmse_one, reserve_one = mse(target_valid_one, predict_one)\n",
    "rmse_two, reserve_two = mse(target_valid_two, predict_two)\n",
    "rmse_three, reserve_three = mse(target_valid_three, predict_three)\n",
    "\n",
    "print(\n",
    "    'Первый регион - {:.0f} средний объем скважин.'.format(reserve_one*10**3), \n",
    "    'RMSE:', rmse_one,\n",
    "    'Второй регион - {:.0f} средний объем скважин.'.format(reserve_two*10**3),\n",
    "    'RMSE:', rmse_two,\n",
    "    'Третий регион - {:.0f} средний объем скважин'.format(reserve_three*10**3),\n",
    "    'RMSE:', rmse_three, sep='\\n'\n",
    "    )"
   ]
  },
  {
   "cell_type": "markdown",
   "id": "f929ccd9",
   "metadata": {},
   "source": [
    "**На этом этапе выполнено:**\n",
    "* Создана функция для обучения модели линейной регресии на данных трех регионов\n",
    "* Создана функция для расчета средней квадратичной ошибки предсказаний модели и среднего объема скважины в каждом регионе\n",
    "\n",
    "**Вывод:**\n",
    "Второй регион по предсказаниям модели имеет самые низкие показатели среднего объема нефти в скважинах, однако, мы видим, что с данными этого региона на входе модель почти не ошибается. Это значит, что предсказания двух других регионов значительно менее показательны."
   ]
  },
  {
   "cell_type": "markdown",
   "id": "fd1dfcfa",
   "metadata": {},
   "source": [
    "### Расчет объема сырья в регионах"
   ]
  },
  {
   "cell_type": "code",
   "execution_count": 12,
   "id": "70b5bc79",
   "metadata": {},
   "outputs": [
    {
     "name": "stdout",
     "output_type": "stream",
     "text": [
      "Минимальный объем необходимой выработки одной скважины в регионе составляет: 111111 баррелей.\n",
      "Сравнение со средним объемом первого региона: -18925\n",
      "Сравнение со средним объемом второго региона: -42165\n",
      "Сравнение со средним объемом третьего региона: -16167\n"
     ]
    }
   ],
   "source": [
    "invest, barrel, borehole = [10*10**9, 450, 200]\n",
    "min_production = invest/200/barrel\n",
    "\n",
    "print(\n",
    "     'Минимальный объем необходимой выработки одной скважины в регионе составляет: {:.0f} баррелей.'.format(min_production),\n",
    "     'Сравнение со средним объемом первого региона: {:.0f}'.format(reserve_one*10**3 - min_production),\n",
    "     'Сравнение со средним объемом второго региона: {:.0f}'.format(reserve_two*10**3 - min_production),\n",
    "     'Сравнение со средним объемом третьего региона: {:.0f}'.format(reserve_three*10**3 - min_production), sep='\\n'\n",
    "    )                                                                                  "
   ]
  },
  {
   "cell_type": "code",
   "execution_count": 13,
   "id": "fc2e59af",
   "metadata": {
    "scrolled": true
   },
   "outputs": [
    {
     "name": "stdout",
     "output_type": "stream",
     "text": [
      "Общий запас в 200 лучших скважинах первого региона: 30757532 баррелей.\n",
      "Общий запас в 200 лучших скважинах второго региона: 27741272 баррелей.\n",
      "Общий запас в 200 лучших скважинах третьего региона: 29791723 баррелей.\n"
     ]
    }
   ],
   "source": [
    "def sum_production(prediction):\n",
    "    production = pd.Series(prediction)\n",
    "    max_production = production.sort_values(ascending=False)[:200]\n",
    "    sum_production = max_production.sum()\n",
    "    return sum_production\n",
    "\n",
    "sum_one = sum_production(predict_one)\n",
    "sum_two = sum_production(predict_two)\n",
    "sum_three = sum_production(predict_three)\n",
    "    \n",
    "print(\n",
    "    'Общий запас в 200 лучших скважинах первого региона: {:.0f} баррелей.'.format(sum_one*10**3),\n",
    "     'Общий запас в 200 лучших скважинах второго региона: {:.0f} баррелей.'.format(sum_two*10**3),\n",
    "     'Общий запас в 200 лучших скважинах третьего региона: {:.0f} баррелей.'.format(sum_three*10**3), sep='\\n'\n",
    ")"
   ]
  },
  {
   "cell_type": "markdown",
   "id": "e9acc348",
   "metadata": {},
   "source": [
    "**На этом этапе выполнено:**\n",
    "* Расчитан минимальный объем выработки одной скважины в регионе для безубыточной разработки с двухста скважин\n",
    "* Создана функция для расчета общего запаса нефти двухста лучших скважин в регионе по предсказанным данным\n",
    "\n",
    "**Вывод:**\n",
    "* Если сравнивать необходимый запас в одной скважине и среднее значение, то большая вероятность безубыточности у третьего региона. Однако, после сортировки по убыванию мы видим, что больше всего нефти в скважинах первого региона. При этом разрыв в количестве относительно небольшой, а данные второго региона точнее. "
   ]
  },
  {
   "cell_type": "markdown",
   "id": "24cffe1f",
   "metadata": {},
   "source": [
    "### Расчет возможной прибыли в регионах по лучшим скважинам"
   ]
  },
  {
   "cell_type": "code",
   "execution_count": 14,
   "id": "c116259f",
   "metadata": {},
   "outputs": [
    {
     "name": "stdout",
     "output_type": "stream",
     "text": [
      "Возможная прибыль 200 лучших скважин первого региона: 3840889206.\n",
      "Возможная прибыль 200 лучших скважин второго региона: 2483572253.\n",
      "Возможная прибыль 200 лучших скважин третьего региона: 3406275266.\n"
     ]
    }
   ],
   "source": [
    "def profit(production):\n",
    "    profit_region = (production*10**3 * barrel) - invest\n",
    "    return profit_region\n",
    "\n",
    "profit_one = profit(sum_one)\n",
    "profit_two = profit(sum_two)\n",
    "profit_three = profit(sum_three)\n",
    "\n",
    "print(\n",
    "    'Возможная прибыль 200 лучших скважин первого региона: {:.0f}.'.format(profit_one),\n",
    "     'Возможная прибыль 200 лучших скважин второго региона: {:.0f}.'.format(profit_two),\n",
    "     'Возможная прибыль 200 лучших скважин третьего региона: {:.0f}.'.format(profit_three), sep='\\n'\n",
    ")"
   ]
  },
  {
   "cell_type": "markdown",
   "id": "7bf6cee7",
   "metadata": {},
   "source": [
    "**На этом этапе выполнено:**\n",
    "* Создана функция для расчета общей возможной прибыли двухста лучших скважин\n",
    "\n",
    "**Вывод:**\n",
    "* По итогам проверки на данном этапе мы видим, что все три региона, согласно предсказаниям для двухста лучших вариантов, могут иметь высокую прибыль. Самая большая прибыль прогнозируется в первом регионе."
   ]
  },
  {
   "cell_type": "markdown",
   "id": "6dd39981",
   "metadata": {},
   "source": [
    "### Расчет рисков"
   ]
  },
  {
   "cell_type": "code",
   "execution_count": 15,
   "id": "818786ac",
   "metadata": {},
   "outputs": [],
   "source": [
    "prediction_one = pd.Series(predict_one, index=target_valid_one.index)\n",
    "prediction_two = pd.Series(predict_two, index=target_valid_two.index)\n",
    "prediction_three = pd.Series(predict_three, index=target_valid_three.index)"
   ]
  },
  {
   "cell_type": "code",
   "execution_count": 20,
   "id": "96c72371",
   "metadata": {},
   "outputs": [],
   "source": [
    "def revenue(target, prediction, borehole):\n",
    "    probs_sorted = prediction.sort_values(ascending=False)\n",
    "    selected = target[probs_sorted.index][:borehole]\n",
    "    sum_prod = selected.sum()\n",
    "    return ((sum_prod * barrel)*10**3) - invest\n",
    "\n",
    "def bootstrap(target, prediction):\n",
    "    state = np.random.RandomState(666)\n",
    "    values = []\n",
    "    lesion = 0\n",
    "    \n",
    "    for i in range(1000):\n",
    "        target_subsample = target.sample(n=500, replace=True, random_state=state)\n",
    "        probs_subsample = prediction[target_subsample.index]\n",
    "        revenue_get = revenue(target_subsample, probs_subsample, 200)\n",
    "\n",
    "        if revenue_get < 0:\n",
    "            lesion += 1\n",
    "        values.append(revenue_get)\n",
    "        \n",
    "    values = pd.Series(values)\n",
    "    lower = values.quantile(0.025)\n",
    "    upper = values.quantile(0.975)\n",
    "    mean = values.mean()\n",
    "    lesion = lesion / 1000\n",
    "    \n",
    "    return lower, upper, mean, lesion\n",
    "\n",
    "lower_one, upper_one, mean_one, lesion_one = bootstrap(target_valid_one, prediction_one)\n",
    "lower_two, upper_two, mean_two, lesion_two = bootstrap(target_valid_two, prediction_two)\n",
    "lower_three, upper_three, mean_three, lesion_three = bootstrap(target_valid_three, prediction_three)"
   ]
  },
  {
   "cell_type": "markdown",
   "id": "c70bd793",
   "metadata": {},
   "source": [
    "**На этом этапе выполнено:**\n",
    "* Создана функция для расчета рисков и определения верхнего и нижнего квантиля 95% доверительного интервала, а также для просчета среднего значения прибыли двухста случайных скважин в каждом регионе"
   ]
  },
  {
   "cell_type": "code",
   "execution_count": 21,
   "id": "2ead6743",
   "metadata": {},
   "outputs": [
    {
     "name": "stdout",
     "output_type": "stream",
     "text": [
      "Нижний квантиль 95% доверительного интервала первого региона: -36730671.\n",
      "Верхний квантиль 95% доверительного интервала первого региона: 1032628363.\n",
      "\n",
      "Нижний квантиль 95% доверительного интервала второго региона: 123032175.\n",
      "Верхний квантиль 95% доверительного интервала второго региона: 958010510.\n",
      "\n",
      "Нижний квантиль 95% доверительного интервала третьего региона: -143273177.\n",
      "Верхний квантиль 95% доверительного интервала третьего региона: 967553576.\n"
     ]
    }
   ],
   "source": [
    "print(\n",
    "    'Нижний квантиль 95% доверительного интервала первого региона: {:.0f}.'.format(lower_one),\n",
    "    'Верхний квантиль 95% доверительного интервала первого региона: {:.0f}.'.format(upper_one),\n",
    "    '\\nНижний квантиль 95% доверительного интервала второго региона: {:.0f}.'.format(lower_two),\n",
    "    'Верхний квантиль 95% доверительного интервала второго региона: {:.0f}.'.format(upper_two),\n",
    "    '\\nНижний квантиль 95% доверительного интервала третьего региона: {:.0f}.'.format(lower_three), \n",
    "    'Верхний квантиль 95% доверительного интервала третьего региона: {:.0f}.'.format(upper_three), sep='\\n'\n",
    ")"
   ]
  },
  {
   "cell_type": "code",
   "execution_count": 22,
   "id": "bf883fc9",
   "metadata": {},
   "outputs": [
    {
     "name": "stdout",
     "output_type": "stream",
     "text": [
      "Среднее значение возможной прибыли первого региона: 492013661.\n",
      "\n",
      "Среднее значение возможной прибыли второго региона: 519322489.\n",
      "\n",
      "Среднее значение возможной прибыли третьего региона: 383762604.\n"
     ]
    }
   ],
   "source": [
    "print(\n",
    "    'Среднее значение возможной прибыли первого региона: {:.0f}.'.format(mean_one),\n",
    "    '\\nСреднее значение возможной прибыли второго региона: {:.0f}.'.format(mean_two),\n",
    "    '\\nСреднее значение возможной прибыли третьего региона: {:.0f}.'.format(mean_three), sep='\\n'\n",
    ")"
   ]
  },
  {
   "cell_type": "code",
   "execution_count": 23,
   "id": "46451bba",
   "metadata": {},
   "outputs": [
    {
     "name": "stdout",
     "output_type": "stream",
     "text": [
      "Уровень риска для первого региона: 3%.\n",
      "\n",
      "Уровень риска для второго региона: 1%.\n",
      "\n",
      "Уровень риска для третьего региона: 9%.\n"
     ]
    }
   ],
   "source": [
    "print(\n",
    "    'Уровень риска для первого региона: {:.0%}.'.format(lesion_one),\n",
    "    '\\nУровень риска для второго региона: {:.0%}.'.format(lesion_two),\n",
    "    '\\nУровень риска для третьего региона: {:.0%}.'.format(lesion_three), sep='\\n'\n",
    ")"
   ]
  },
  {
   "cell_type": "markdown",
   "id": "87109708",
   "metadata": {},
   "source": [
    "**Общий вывод:**\n",
    "По итогам проверки двухста случайных скважин в каждом регионе можно сделать вывод, что **лучшим регионом для разработки является регион номер два**. Мы видим, что именно в этом регионе самый низкий уровень риска убыточности - всего *1%*, а также самое высокое значение возможной средней прибыли - *519 млн.р.*\n",
    "Кроме этого, второй регион единственный, чей нижний квантиль выше нуля. При этом данные второго региона являются наиболее подходящими для точных предсказаний, согласно расчету средней квадратичной ошибки. \n",
    "\n",
    "Самый рискованный **регион третий**, уровень риска здесь целых *9%*, а также третий регион имеет самое низкое среднее значение возможной прибыли. \n",
    "\n",
    "**Первый регион**, несмотря на самые большие запасы в двухста лучших скважнах не подходит для разработки, так как имеет уровень риска, превышающий *2.5%*."
   ]
  }
 ],
 "metadata": {
  "ExecuteTimeLog": [
   {
    "duration": 6872,
    "start_time": "2023-01-19T22:26:17.312Z"
   },
   {
    "duration": 178,
    "start_time": "2023-01-19T22:26:24.186Z"
   },
   {
    "duration": 0,
    "start_time": "2023-01-19T22:26:24.367Z"
   },
   {
    "duration": 0,
    "start_time": "2023-01-19T22:26:24.368Z"
   },
   {
    "duration": 0,
    "start_time": "2023-01-19T22:26:24.370Z"
   },
   {
    "duration": 0,
    "start_time": "2023-01-19T22:26:24.372Z"
   },
   {
    "duration": 0,
    "start_time": "2023-01-19T22:26:24.373Z"
   },
   {
    "duration": 0,
    "start_time": "2023-01-19T22:26:24.375Z"
   },
   {
    "duration": 0,
    "start_time": "2023-01-19T22:26:24.377Z"
   },
   {
    "duration": 0,
    "start_time": "2023-01-19T22:26:24.378Z"
   },
   {
    "duration": 0,
    "start_time": "2023-01-19T22:26:24.380Z"
   },
   {
    "duration": 0,
    "start_time": "2023-01-19T22:26:24.381Z"
   },
   {
    "duration": 0,
    "start_time": "2023-01-19T22:26:24.383Z"
   },
   {
    "duration": 0,
    "start_time": "2023-01-19T22:26:24.385Z"
   },
   {
    "duration": 0,
    "start_time": "2023-01-19T22:26:24.386Z"
   },
   {
    "duration": 3,
    "start_time": "2023-01-19T22:26:43.352Z"
   },
   {
    "duration": 91,
    "start_time": "2023-01-19T22:26:43.357Z"
   },
   {
    "duration": 0,
    "start_time": "2023-01-19T22:26:43.451Z"
   },
   {
    "duration": 0,
    "start_time": "2023-01-19T22:26:43.454Z"
   },
   {
    "duration": 0,
    "start_time": "2023-01-19T22:26:43.456Z"
   },
   {
    "duration": 0,
    "start_time": "2023-01-19T22:26:43.457Z"
   },
   {
    "duration": 0,
    "start_time": "2023-01-19T22:26:43.458Z"
   },
   {
    "duration": 0,
    "start_time": "2023-01-19T22:26:43.459Z"
   },
   {
    "duration": 0,
    "start_time": "2023-01-19T22:26:43.461Z"
   },
   {
    "duration": 0,
    "start_time": "2023-01-19T22:26:43.462Z"
   },
   {
    "duration": 0,
    "start_time": "2023-01-19T22:26:43.463Z"
   },
   {
    "duration": 0,
    "start_time": "2023-01-19T22:26:43.464Z"
   },
   {
    "duration": 0,
    "start_time": "2023-01-19T22:26:43.465Z"
   },
   {
    "duration": 0,
    "start_time": "2023-01-19T22:26:43.467Z"
   },
   {
    "duration": 0,
    "start_time": "2023-01-19T22:26:43.468Z"
   },
   {
    "duration": 1131,
    "start_time": "2023-01-19T22:27:08.221Z"
   },
   {
    "duration": 865,
    "start_time": "2023-01-19T22:27:13.444Z"
   },
   {
    "duration": 167,
    "start_time": "2023-01-19T22:27:14.311Z"
   },
   {
    "duration": 61,
    "start_time": "2023-01-19T22:27:14.481Z"
   },
   {
    "duration": 40,
    "start_time": "2023-01-19T22:27:14.544Z"
   },
   {
    "duration": 73,
    "start_time": "2023-01-19T22:27:14.586Z"
   },
   {
    "duration": 97,
    "start_time": "2023-01-19T22:27:14.741Z"
   },
   {
    "duration": 9,
    "start_time": "2023-01-19T22:27:14.842Z"
   },
   {
    "duration": 19,
    "start_time": "2023-01-19T22:27:14.853Z"
   },
   {
    "duration": 5,
    "start_time": "2023-01-19T22:27:14.874Z"
   },
   {
    "duration": 7,
    "start_time": "2023-01-19T22:27:14.882Z"
   },
   {
    "duration": 4512,
    "start_time": "2023-01-19T22:27:14.891Z"
   },
   {
    "duration": 6,
    "start_time": "2023-01-19T22:27:19.405Z"
   },
   {
    "duration": 12,
    "start_time": "2023-01-19T22:27:19.413Z"
   },
   {
    "duration": 17,
    "start_time": "2023-01-19T22:27:19.437Z"
   },
   {
    "duration": 4375,
    "start_time": "2023-01-19T22:28:42.351Z"
   },
   {
    "duration": 15,
    "start_time": "2023-01-19T22:28:46.728Z"
   },
   {
    "duration": 5,
    "start_time": "2023-01-19T22:28:46.745Z"
   },
   {
    "duration": 36,
    "start_time": "2023-01-19T22:28:46.753Z"
   }
  ],
  "celltoolbar": "Отсутствует",
  "kernelspec": {
   "display_name": "Python 3 (ipykernel)",
   "language": "python",
   "name": "python3"
  },
  "language_info": {
   "codemirror_mode": {
    "name": "ipython",
    "version": 3
   },
   "file_extension": ".py",
   "mimetype": "text/x-python",
   "name": "python",
   "nbconvert_exporter": "python",
   "pygments_lexer": "ipython3",
   "version": "3.9.13"
  },
  "toc": {
   "base_numbering": 1,
   "nav_menu": {},
   "number_sections": true,
   "sideBar": true,
   "skip_h1_title": true,
   "title_cell": "Table of Contents",
   "title_sidebar": "Contents",
   "toc_cell": false,
   "toc_position": {},
   "toc_section_display": true,
   "toc_window_display": false
  }
 },
 "nbformat": 4,
 "nbformat_minor": 5
}
