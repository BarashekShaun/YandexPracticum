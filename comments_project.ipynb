{
 "cells": [
  {
   "cell_type": "markdown",
   "metadata": {
    "toc": true
   },
   "source": [
    "<h1>Содержание<span class=\"tocSkip\"></span></h1>\n",
    "<div class=\"toc\"><ul class=\"toc-item\"><li><span><a href=\"#Подготовка\" data-toc-modified-id=\"Подготовка-1\"><span class=\"toc-item-num\">1&nbsp;&nbsp;</span>Подготовка</a></span></li><li><span><a href=\"#Обучение\" data-toc-modified-id=\"Обучение-2\"><span class=\"toc-item-num\">2&nbsp;&nbsp;</span>Обучение</a></span></li><li><span><a href=\"#Выводы\" data-toc-modified-id=\"Выводы-3\"><span class=\"toc-item-num\">3&nbsp;&nbsp;</span>Выводы</a></span></li></ul></div>"
   ]
  },
  {
   "cell_type": "markdown",
   "metadata": {},
   "source": [
    "# Проект для «Викишоп»"
   ]
  },
  {
   "cell_type": "markdown",
   "metadata": {},
   "source": [
    "Интернет-магазин «Викишоп» запускает новый сервис. Теперь пользователи могут редактировать и дополнять описания товаров, как в вики-сообществах. То есть клиенты предлагают свои правки и комментируют изменения других. Магазину нужен инструмент, который будет искать токсичные комментарии и отправлять их на модерацию. \n",
    "\n",
    "Обучите модель классифицировать комментарии на позитивные и негативные. В вашем распоряжении набор данных с разметкой о токсичности правок.\n",
    "\n",
    "Постройте модель со значением метрики качества *F1* не меньше 0.75. \n",
    "\n",
    "**Инструкция по выполнению проекта**\n",
    "\n",
    "1. Загрузите и подготовьте данные.\n",
    "2. Обучите разные модели. \n",
    "3. Сделайте выводы.\n",
    "\n",
    "Для выполнения проекта применять *BERT* необязательно, но вы можете попробовать.\n",
    "\n",
    "**Описание данных**\n",
    "\n",
    "Данные находятся в файле `toxic_comments.csv`. Столбец *text* в нём содержит текст комментария, а *toxic* — целевой признак."
   ]
  },
  {
   "cell_type": "markdown",
   "metadata": {},
   "source": [
    "## Подготовка"
   ]
  },
  {
   "cell_type": "code",
   "execution_count": 1,
   "metadata": {},
   "outputs": [],
   "source": [
    "#!pip install -U spacy\n",
    "#!python -m spacy download en_core_web_lg \n",
    "#!python -m spacy download en"
   ]
  },
  {
   "cell_type": "markdown",
   "metadata": {},
   "source": [
    "Устанавливаем библиотеки (2 нижние строчки не обязательны, но у меня без них не работало)"
   ]
  },
  {
   "cell_type": "code",
   "execution_count": 2,
   "metadata": {},
   "outputs": [],
   "source": [
    "import pandas as pd\n",
    "from tqdm.notebook import tqdm\n",
    "tqdm.pandas()\n",
    "\n",
    "import spacy\n",
    "import re\n",
    "import nltk\n",
    "\n",
    "from sklearn.utils import resample\n",
    "from nltk.corpus import stopwords as nltk_stopwords\n",
    "\n",
    "from sklearn.model_selection import train_test_split\n",
    "\n",
    "from sklearn.feature_extraction.text import TfidfVectorizer\n",
    "\n",
    "from sklearn.metrics import f1_score\n",
    "from sklearn.linear_model import LogisticRegression\n",
    "import lightgbm as lgb\n",
    "from sklearn.model_selection import GridSearchCV\n",
    "from sklearn.pipeline import Pipeline"
   ]
  },
  {
   "cell_type": "markdown",
   "metadata": {},
   "source": [
    "Импортируем нужные инструменты"
   ]
  },
  {
   "cell_type": "code",
   "execution_count": 3,
   "metadata": {
    "scrolled": false
   },
   "outputs": [
    {
     "name": "stdout",
     "output_type": "stream",
     "text": [
      "<class 'pandas.core.frame.DataFrame'>\n",
      "RangeIndex: 159292 entries, 0 to 159291\n",
      "Data columns (total 3 columns):\n",
      " #   Column      Non-Null Count   Dtype \n",
      "---  ------      --------------   ----- \n",
      " 0   Unnamed: 0  159292 non-null  int64 \n",
      " 1   text        159292 non-null  object\n",
      " 2   toxic       159292 non-null  int64 \n",
      "dtypes: int64(2), object(1)\n",
      "memory usage: 3.6+ MB\n"
     ]
    },
    {
     "data": {
      "text/plain": [
       "None"
      ]
     },
     "metadata": {},
     "output_type": "display_data"
    },
    {
     "data": {
      "text/html": [
       "<div>\n",
       "<style scoped>\n",
       "    .dataframe tbody tr th:only-of-type {\n",
       "        vertical-align: middle;\n",
       "    }\n",
       "\n",
       "    .dataframe tbody tr th {\n",
       "        vertical-align: top;\n",
       "    }\n",
       "\n",
       "    .dataframe thead th {\n",
       "        text-align: right;\n",
       "    }\n",
       "</style>\n",
       "<table border=\"1\" class=\"dataframe\">\n",
       "  <thead>\n",
       "    <tr style=\"text-align: right;\">\n",
       "      <th></th>\n",
       "      <th>Unnamed: 0</th>\n",
       "      <th>text</th>\n",
       "      <th>toxic</th>\n",
       "    </tr>\n",
       "  </thead>\n",
       "  <tbody>\n",
       "    <tr>\n",
       "      <th>0</th>\n",
       "      <td>0</td>\n",
       "      <td>Explanation\\nWhy the edits made under my usern...</td>\n",
       "      <td>0</td>\n",
       "    </tr>\n",
       "    <tr>\n",
       "      <th>1</th>\n",
       "      <td>1</td>\n",
       "      <td>D'aww! He matches this background colour I'm s...</td>\n",
       "      <td>0</td>\n",
       "    </tr>\n",
       "    <tr>\n",
       "      <th>2</th>\n",
       "      <td>2</td>\n",
       "      <td>Hey man, I'm really not trying to edit war. It...</td>\n",
       "      <td>0</td>\n",
       "    </tr>\n",
       "    <tr>\n",
       "      <th>3</th>\n",
       "      <td>3</td>\n",
       "      <td>\"\\nMore\\nI can't make any real suggestions on ...</td>\n",
       "      <td>0</td>\n",
       "    </tr>\n",
       "    <tr>\n",
       "      <th>4</th>\n",
       "      <td>4</td>\n",
       "      <td>You, sir, are my hero. Any chance you remember...</td>\n",
       "      <td>0</td>\n",
       "    </tr>\n",
       "  </tbody>\n",
       "</table>\n",
       "</div>"
      ],
      "text/plain": [
       "   Unnamed: 0                                               text  toxic\n",
       "0           0  Explanation\\nWhy the edits made under my usern...      0\n",
       "1           1  D'aww! He matches this background colour I'm s...      0\n",
       "2           2  Hey man, I'm really not trying to edit war. It...      0\n",
       "3           3  \"\\nMore\\nI can't make any real suggestions on ...      0\n",
       "4           4  You, sir, are my hero. Any chance you remember...      0"
      ]
     },
     "metadata": {},
     "output_type": "display_data"
    }
   ],
   "source": [
    "try:\n",
    "    data = pd.read_csv('/datasets/toxic_comments.csv')\n",
    "except:\n",
    "    data = pd.read_csv('/home/brshk-shaun/Документы/datasets/toxic_comments.csv')\n",
    "finally:\n",
    "    display(data.info(), data.head())"
   ]
  },
  {
   "cell_type": "markdown",
   "metadata": {},
   "source": [
    "Загружаем датасет и смотрим"
   ]
  },
  {
   "cell_type": "code",
   "execution_count": 4,
   "metadata": {},
   "outputs": [
    {
     "data": {
      "text/plain": [
       "16186"
      ]
     },
     "metadata": {},
     "output_type": "display_data"
    },
    {
     "data": {
      "text/plain": [
       "143106"
      ]
     },
     "metadata": {},
     "output_type": "display_data"
    }
   ],
   "source": [
    "display(len(data[data['toxic'] == 1]), len(data[data['toxic'] == 0]))\n",
    "\n",
    "toxic_sample = data[data['toxic'] == 1]\n",
    "untoxic_sample = data[data['toxic'] == 0]"
   ]
  },
  {
   "cell_type": "markdown",
   "metadata": {},
   "source": [
    "В датасете обнаружен дисбаланс классов"
   ]
  },
  {
   "cell_type": "code",
   "execution_count": 6,
   "metadata": {},
   "outputs": [
    {
     "data": {
      "application/vnd.jupyter.widget-view+json": {
       "model_id": "f9cf6fa8053f42e8bce685f085faf267",
       "version_major": 2,
       "version_minor": 0
      },
      "text/plain": [
       "  0%|          | 0/159292 [00:00<?, ?it/s]"
      ]
     },
     "metadata": {},
     "output_type": "display_data"
    }
   ],
   "source": [
    "disabled_pipes = ['parser',  'ner']\n",
    "spcy = spacy.load('en_core_web_sm',disable=disabled_pipes)\n",
    "\n",
    "def lemmatize(text):\n",
    "    text = text.lower()\n",
    "    text = re.sub(r'\\n', ' ', text)\n",
    "    text = re.sub(r'[^a-zA-Z]', ' ', text)\n",
    "    \n",
    "    text = text.split()\n",
    "    \n",
    "    filtered = spcy(' '.join(text))\n",
    "    lemma = [y.lemma_ for y in filtered]\n",
    "    \n",
    "    final = ' '.join(lemma)\n",
    "    \n",
    "    return final\n",
    "\n",
    "data['text_new'] = data['text'].progress_apply(lambda x: lemmatize(x))"
   ]
  },
  {
   "cell_type": "markdown",
   "metadata": {},
   "source": [
    "Так как фичи загрязнены, пишем функцию для очистки текста от знаков переноса и лишних символов. В этой же функции применяем лемматизацию на основе **Spacy**. Лемматизированные признаки добавим в новый столбец датафрейма, на всякий случай сохранив основной текст."
   ]
  },
  {
   "cell_type": "code",
   "execution_count": 7,
   "metadata": {},
   "outputs": [
    {
     "data": {
      "text/plain": [
       "0    128791\n",
       "1     14571\n",
       "Name: toxic, dtype: int64"
      ]
     },
     "metadata": {},
     "output_type": "display_data"
    },
    {
     "data": {
      "text/plain": [
       "0    14315\n",
       "1     1615\n",
       "Name: toxic, dtype: int64"
      ]
     },
     "metadata": {},
     "output_type": "display_data"
    }
   ],
   "source": [
    "features = data['text_new']\n",
    "target = data['toxic']\n",
    "\n",
    "features_train, features_test, target_train, target_test = train_test_split(\n",
    "    features, target, test_size=0.1, random_state=666\n",
    ")\n",
    "\n",
    "display(target_train.value_counts(), target_test.value_counts())"
   ]
  },
  {
   "cell_type": "code",
   "execution_count": 8,
   "metadata": {},
   "outputs": [],
   "source": [
    "stopwords = nltk.corpus.stopwords.words(\"english\")\n",
    "\n",
    "count_tf_idf = TfidfVectorizer(stop_words=stopwords)"
   ]
  },
  {
   "cell_type": "markdown",
   "metadata": {},
   "source": [
    "Делим датасет на выборки и вызываем конвертер строк для дальнейшего его применения в пайплайне."
   ]
  },
  {
   "cell_type": "markdown",
   "metadata": {},
   "source": [
    "## Обучение"
   ]
  },
  {
   "cell_type": "code",
   "execution_count": 11,
   "metadata": {},
   "outputs": [
    {
     "name": "stdout",
     "output_type": "stream",
     "text": [
      "CPU times: user 6min 29s, sys: 3min 46s, total: 10min 16s\n",
      "Wall time: 10min 18s\n",
      "Best score: 0.778371586320071\n"
     ]
    }
   ],
   "source": [
    "logreg = LogisticRegression()\n",
    "logreg_pipe = Pipeline([('vectorize', count_tf_idf), ('logreg', logreg)])\n",
    "\n",
    "\n",
    "params_log = {\n",
    "    'logreg__random_state': [666],\n",
    "    'logreg__solver': ['liblinear'],\n",
    "    'logreg__C': range(5, 15)\n",
    "}\n",
    "\n",
    "logreg_grid = GridSearchCV(logreg_pipe, param_grid=params_log, cv=3, scoring='f1')\n",
    "%time logreg_grid.fit(features_train, target_train)\n",
    "\n",
    "print('Best score: {}'.format(logreg_grid.best_score_))"
   ]
  },
  {
   "cell_type": "markdown",
   "metadata": {},
   "source": [
    "С помощью пайплайна передаем в гридсерч **логической регрессии** подготовленные конвертером фичи.\n",
    "При времени обучения **5 min 32s.** результат на тренировочной выборке составил **0.77**."
   ]
  },
  {
   "cell_type": "code",
   "execution_count": 12,
   "metadata": {},
   "outputs": [
    {
     "name": "stdout",
     "output_type": "stream",
     "text": [
      "CPU times: user 14min 50s, sys: 0 ns, total: 14min 50s\n",
      "Wall time: 14min 53s\n",
      "Best score: 0.7542186152246199\n"
     ]
    }
   ],
   "source": [
    "lgb_model = lgb.LGBMClassifier(random_state=666)\n",
    "lgb_pipe = Pipeline([('vectorize', count_tf_idf), ('lgb', lgb_model)])\n",
    "\n",
    "params_lgb = {\n",
    "    'lgb__boosting_type': ['gbdt', 'dart'],\n",
    "    'lgb__objective': ['binary']\n",
    "}\n",
    "\n",
    "lgb_grid = GridSearchCV(lgb_pipe, params_lgb, cv=3, scoring='f1')\n",
    "%time lgb_grid.fit(features_train, target_train)\n",
    "\n",
    "print('Best score: {}'.format(lgb_grid.best_score_))"
   ]
  },
  {
   "cell_type": "markdown",
   "metadata": {},
   "source": [
    "Также поступаем с **LightGBM**. Время обучения составило **16 минут 57 секунд**, при этом результат хуже - **0.75**."
   ]
  },
  {
   "cell_type": "markdown",
   "metadata": {},
   "source": [
    "## Выводы"
   ]
  },
  {
   "cell_type": "code",
   "execution_count": 13,
   "metadata": {},
   "outputs": [
    {
     "name": "stdout",
     "output_type": "stream",
     "text": [
      "F1 score: 0.781515460414543\n"
     ]
    }
   ],
   "source": [
    "logreg_final_pred = logreg_grid.best_estimator_.predict(features_test)\n",
    "\n",
    "print('F1 score: {}'.format(f1_score(target_test, logreg_final_pred)))"
   ]
  },
  {
   "cell_type": "markdown",
   "metadata": {},
   "source": [
    "Так как логическая регрессия оказалась лучше, тестовую выборку проверяем на ней. Финальный результат составил **0.78**, что довольно не плохо. Также стоит отметить, что логическая регрессия очень быстрая, поэтому даже на больших выборках вычисления не будут занимать много времени."
   ]
  }
 ],
 "metadata": {
  "ExecuteTimeLog": [
   {
    "duration": 464,
    "start_time": "2023-03-21T10:07:51.967Z"
   },
   {
    "duration": 71,
    "start_time": "2023-03-21T10:08:57.247Z"
   },
   {
    "duration": 74,
    "start_time": "2023-03-21T10:09:35.858Z"
   },
   {
    "duration": 126,
    "start_time": "2023-03-21T10:09:41.435Z"
   },
   {
    "duration": 9,
    "start_time": "2023-03-21T10:09:59.729Z"
   },
   {
    "duration": 44,
    "start_time": "2023-03-21T10:10:10.950Z"
   },
   {
    "duration": 4392,
    "start_time": "2023-03-21T10:10:15.289Z"
   },
   {
    "duration": 96,
    "start_time": "2023-03-21T10:10:27.435Z"
   },
   {
    "duration": 857,
    "start_time": "2023-03-21T10:10:35.124Z"
   },
   {
    "duration": 21,
    "start_time": "2023-03-21T10:16:55.796Z"
   },
   {
    "duration": 36,
    "start_time": "2023-03-21T10:18:24.765Z"
   },
   {
    "duration": 5,
    "start_time": "2023-03-21T10:18:29.731Z"
   },
   {
    "duration": 11,
    "start_time": "2023-03-21T10:18:36.291Z"
   },
   {
    "duration": 31,
    "start_time": "2023-03-21T10:18:48.418Z"
   },
   {
    "duration": 18,
    "start_time": "2023-03-21T10:19:02.163Z"
   },
   {
    "duration": 6,
    "start_time": "2023-03-21T10:19:11.100Z"
   },
   {
    "duration": 34,
    "start_time": "2023-03-21T10:20:54.192Z"
   },
   {
    "duration": 722,
    "start_time": "2023-03-21T10:20:56.558Z"
   },
   {
    "duration": 706,
    "start_time": "2023-03-21T10:21:01.810Z"
   },
   {
    "duration": 17,
    "start_time": "2023-03-21T10:21:12.943Z"
   },
   {
    "duration": 1901,
    "start_time": "2023-03-21T10:22:35.318Z"
   },
   {
    "duration": 13,
    "start_time": "2023-03-21T10:22:39.453Z"
   },
   {
    "duration": 424,
    "start_time": "2023-03-21T10:23:05.080Z"
   },
   {
    "duration": 945,
    "start_time": "2023-03-21T10:23:05.506Z"
   },
   {
    "duration": 1970,
    "start_time": "2023-03-21T10:23:06.453Z"
   },
   {
    "duration": 92,
    "start_time": "2023-03-21T10:23:08.425Z"
   },
   {
    "duration": 13,
    "start_time": "2023-03-21T10:24:10.718Z"
   },
   {
    "duration": 10,
    "start_time": "2023-03-21T10:25:11.699Z"
   },
   {
    "duration": 411,
    "start_time": "2023-03-21T10:25:38.709Z"
   },
   {
    "duration": 4186,
    "start_time": "2023-03-21T10:25:39.122Z"
   },
   {
    "duration": 1945,
    "start_time": "2023-03-21T10:25:43.309Z"
   },
   {
    "duration": 70,
    "start_time": "2023-03-21T10:25:45.263Z"
   },
   {
    "duration": 52,
    "start_time": "2023-03-21T10:26:12.638Z"
   },
   {
    "duration": 8,
    "start_time": "2023-03-21T10:26:18.082Z"
   },
   {
    "duration": 446,
    "start_time": "2023-03-21T10:26:29.648Z"
   },
   {
    "duration": 4251,
    "start_time": "2023-03-21T10:26:30.096Z"
   },
   {
    "duration": 3898,
    "start_time": "2023-03-21T10:26:34.349Z"
   },
   {
    "duration": 85,
    "start_time": "2023-03-21T10:26:38.249Z"
   },
   {
    "duration": 4070,
    "start_time": "2023-03-21T10:27:58.463Z"
   },
   {
    "duration": 5728,
    "start_time": "2023-03-21T10:28:36.713Z"
   },
   {
    "duration": 457,
    "start_time": "2023-03-21T10:29:09.687Z"
   },
   {
    "duration": 4828,
    "start_time": "2023-03-21T10:29:10.147Z"
   },
   {
    "duration": 4,
    "start_time": "2023-03-21T10:29:14.978Z"
   },
   {
    "duration": 6505,
    "start_time": "2023-03-21T10:29:14.985Z"
   },
   {
    "duration": 486,
    "start_time": "2023-03-21T10:30:51.893Z"
   },
   {
    "duration": 5020,
    "start_time": "2023-03-21T10:30:52.382Z"
   },
   {
    "duration": 4,
    "start_time": "2023-03-21T10:30:57.404Z"
   },
   {
    "duration": 6596,
    "start_time": "2023-03-21T10:30:57.410Z"
   },
   {
    "duration": 414,
    "start_time": "2023-03-21T10:32:12.094Z"
   },
   {
    "duration": 4694,
    "start_time": "2023-03-21T10:32:12.511Z"
   },
   {
    "duration": 6,
    "start_time": "2023-03-21T10:32:17.207Z"
   },
   {
    "duration": 6291,
    "start_time": "2023-03-21T10:32:17.215Z"
   },
   {
    "duration": 422,
    "start_time": "2023-03-21T10:33:12.536Z"
   },
   {
    "duration": 4701,
    "start_time": "2023-03-21T10:33:12.960Z"
   },
   {
    "duration": 5,
    "start_time": "2023-03-21T10:33:17.663Z"
   },
   {
    "duration": 7174,
    "start_time": "2023-03-21T10:33:17.670Z"
   },
   {
    "duration": 4,
    "start_time": "2023-03-21T10:34:34.817Z"
   },
   {
    "duration": 443,
    "start_time": "2023-03-21T10:34:56.548Z"
   },
   {
    "duration": 4642,
    "start_time": "2023-03-21T10:34:56.993Z"
   },
   {
    "duration": 3,
    "start_time": "2023-03-21T10:35:01.637Z"
   },
   {
    "duration": 7382,
    "start_time": "2023-03-21T10:35:01.642Z"
   },
   {
    "duration": 7,
    "start_time": "2023-03-21T10:36:11.260Z"
   },
   {
    "duration": 449,
    "start_time": "2023-03-21T10:36:44.048Z"
   },
   {
    "duration": 4786,
    "start_time": "2023-03-21T10:36:44.499Z"
   },
   {
    "duration": 4,
    "start_time": "2023-03-21T10:36:49.288Z"
   },
   {
    "duration": 7274,
    "start_time": "2023-03-21T10:36:49.295Z"
   },
   {
    "duration": 5,
    "start_time": "2023-03-21T10:37:30.057Z"
   },
   {
    "duration": 417,
    "start_time": "2023-03-21T10:37:46.097Z"
   },
   {
    "duration": 4761,
    "start_time": "2023-03-21T10:37:46.516Z"
   },
   {
    "duration": 7,
    "start_time": "2023-03-21T10:37:51.279Z"
   },
   {
    "duration": 7167,
    "start_time": "2023-03-21T10:37:51.289Z"
   },
   {
    "duration": 4,
    "start_time": "2023-03-21T10:39:30.424Z"
   },
   {
    "duration": 389,
    "start_time": "2023-03-21T10:39:44.517Z"
   },
   {
    "duration": 4618,
    "start_time": "2023-03-21T10:39:44.908Z"
   },
   {
    "duration": 4,
    "start_time": "2023-03-21T10:39:49.528Z"
   },
   {
    "duration": 6667,
    "start_time": "2023-03-21T10:39:49.534Z"
   },
   {
    "duration": 5,
    "start_time": "2023-03-21T10:41:20.623Z"
   },
   {
    "duration": 429,
    "start_time": "2023-03-21T10:41:38.937Z"
   },
   {
    "duration": 4669,
    "start_time": "2023-03-21T10:41:39.371Z"
   },
   {
    "duration": 5,
    "start_time": "2023-03-21T10:41:44.042Z"
   },
   {
    "duration": 6365,
    "start_time": "2023-03-21T10:41:44.049Z"
   },
   {
    "duration": 5,
    "start_time": "2023-03-21T10:42:12.784Z"
   },
   {
    "duration": 897,
    "start_time": "2023-03-21T10:53:23.707Z"
   },
   {
    "duration": 106,
    "start_time": "2023-03-21T10:54:39.168Z"
   },
   {
    "duration": 273,
    "start_time": "2023-03-21T10:54:58.486Z"
   },
   {
    "duration": 212,
    "start_time": "2023-03-21T10:55:02.781Z"
   },
   {
    "duration": 1464,
    "start_time": "2023-03-21T10:55:49.187Z"
   },
   {
    "duration": 4098,
    "start_time": "2023-03-21T10:55:50.653Z"
   },
   {
    "duration": 4,
    "start_time": "2023-03-21T10:55:54.753Z"
   },
   {
    "duration": 5763,
    "start_time": "2023-03-21T10:55:54.761Z"
   },
   {
    "duration": 0,
    "start_time": "2023-03-21T10:56:00.526Z"
   },
   {
    "duration": 1509,
    "start_time": "2023-03-21T10:56:23.238Z"
   },
   {
    "duration": 4063,
    "start_time": "2023-03-21T10:56:24.749Z"
   },
   {
    "duration": 4,
    "start_time": "2023-03-21T10:56:28.814Z"
   },
   {
    "duration": 5882,
    "start_time": "2023-03-21T10:56:28.821Z"
   },
   {
    "duration": 0,
    "start_time": "2023-03-21T10:56:34.705Z"
   },
   {
    "duration": 1383,
    "start_time": "2023-03-21T10:57:19.073Z"
   },
   {
    "duration": 919,
    "start_time": "2023-03-21T10:57:20.458Z"
   },
   {
    "duration": 4,
    "start_time": "2023-03-21T10:57:21.379Z"
   },
   {
    "duration": 5761,
    "start_time": "2023-03-21T10:57:23.817Z"
   },
   {
    "duration": 1756,
    "start_time": "2023-03-21T10:58:59.083Z"
   },
   {
    "duration": 3983,
    "start_time": "2023-03-21T10:59:00.841Z"
   },
   {
    "duration": 4,
    "start_time": "2023-03-21T10:59:04.825Z"
   },
   {
    "duration": 5754,
    "start_time": "2023-03-21T10:59:13.117Z"
   },
   {
    "duration": 1858,
    "start_time": "2023-03-21T10:59:37.146Z"
   },
   {
    "duration": 3978,
    "start_time": "2023-03-21T10:59:39.006Z"
   },
   {
    "duration": 5,
    "start_time": "2023-03-21T10:59:42.986Z"
   },
   {
    "duration": 5880,
    "start_time": "2023-03-21T10:59:50.765Z"
   },
   {
    "duration": 4,
    "start_time": "2023-03-21T11:00:01.704Z"
   },
   {
    "duration": 1858,
    "start_time": "2023-03-21T11:01:38.440Z"
   },
   {
    "duration": 4095,
    "start_time": "2023-03-21T11:01:40.300Z"
   },
   {
    "duration": 4,
    "start_time": "2023-03-21T11:01:44.396Z"
   },
   {
    "duration": 5849,
    "start_time": "2023-03-21T11:01:44.402Z"
   },
   {
    "duration": 5,
    "start_time": "2023-03-21T11:01:52.820Z"
   },
   {
    "duration": 5,
    "start_time": "2023-03-21T11:03:14.118Z"
   },
   {
    "duration": 460,
    "start_time": "2023-03-21T11:03:16.505Z"
   },
   {
    "duration": 4,
    "start_time": "2023-03-21T11:03:28.025Z"
   },
   {
    "duration": 1944,
    "start_time": "2023-03-21T11:03:43.316Z"
   },
   {
    "duration": 4067,
    "start_time": "2023-03-21T11:03:45.262Z"
   },
   {
    "duration": 4,
    "start_time": "2023-03-21T11:03:49.331Z"
   },
   {
    "duration": 5488,
    "start_time": "2023-03-21T11:03:49.337Z"
   },
   {
    "duration": 6,
    "start_time": "2023-03-21T11:03:59.621Z"
   },
   {
    "duration": 2736,
    "start_time": "2023-03-21T11:05:19.603Z"
   },
   {
    "duration": 1918,
    "start_time": "2023-03-21T11:05:22.341Z"
   },
   {
    "duration": 4,
    "start_time": "2023-03-21T11:05:24.261Z"
   },
   {
    "duration": 440,
    "start_time": "2023-03-21T11:05:24.266Z"
   },
   {
    "duration": 4,
    "start_time": "2023-03-21T11:05:42.135Z"
   },
   {
    "duration": 5396,
    "start_time": "2023-03-21T11:05:43.998Z"
   },
   {
    "duration": 7,
    "start_time": "2023-03-21T11:05:54.769Z"
   },
   {
    "duration": 5,
    "start_time": "2023-03-21T11:07:36.967Z"
   },
   {
    "duration": 354,
    "start_time": "2023-03-21T11:07:40.690Z"
   },
   {
    "duration": 5,
    "start_time": "2023-03-21T11:07:54.728Z"
   },
   {
    "duration": 2884,
    "start_time": "2023-03-21T11:08:10.281Z"
   },
   {
    "duration": 4090,
    "start_time": "2023-03-21T11:08:13.167Z"
   },
   {
    "duration": 4,
    "start_time": "2023-03-21T11:08:17.259Z"
   },
   {
    "duration": 5821,
    "start_time": "2023-03-21T11:08:17.265Z"
   },
   {
    "duration": 6,
    "start_time": "2023-03-21T11:08:30.400Z"
   },
   {
    "duration": 1323,
    "start_time": "2023-03-21T11:09:04.507Z"
   },
   {
    "duration": 928,
    "start_time": "2023-03-21T11:09:05.832Z"
   },
   {
    "duration": 4,
    "start_time": "2023-03-21T11:09:06.762Z"
   },
   {
    "duration": 5400,
    "start_time": "2023-03-21T11:09:06.768Z"
   },
   {
    "duration": 5,
    "start_time": "2023-03-21T11:09:12.170Z"
   },
   {
    "duration": 4,
    "start_time": "2023-03-21T12:30:19.129Z"
   },
   {
    "duration": 2025,
    "start_time": "2023-03-21T12:30:33.930Z"
   },
   {
    "duration": 3680,
    "start_time": "2023-03-21T12:30:35.958Z"
   },
   {
    "duration": 4,
    "start_time": "2023-03-21T12:30:39.640Z"
   },
   {
    "duration": 5820,
    "start_time": "2023-03-21T12:30:39.647Z"
   },
   {
    "duration": 6,
    "start_time": "2023-03-21T12:30:45.470Z"
   },
   {
    "duration": 4,
    "start_time": "2023-03-21T12:34:02.711Z"
   },
   {
    "duration": 1412,
    "start_time": "2023-03-21T12:34:12.939Z"
   },
   {
    "duration": 958,
    "start_time": "2023-03-21T12:34:14.353Z"
   },
   {
    "duration": 4,
    "start_time": "2023-03-21T12:34:15.313Z"
   },
   {
    "duration": 774,
    "start_time": "2023-03-21T12:34:15.319Z"
   },
   {
    "duration": 28,
    "start_time": "2023-03-21T12:34:23.689Z"
   },
   {
    "duration": 6,
    "start_time": "2023-03-21T12:34:49.775Z"
   },
   {
    "duration": 921,
    "start_time": "2023-03-21T12:34:51.550Z"
   },
   {
    "duration": 27,
    "start_time": "2023-03-21T12:34:55.882Z"
   },
   {
    "duration": 4,
    "start_time": "2023-03-21T12:35:55.325Z"
   },
   {
    "duration": 799,
    "start_time": "2023-03-21T12:35:56.722Z"
   },
   {
    "duration": 27,
    "start_time": "2023-03-21T12:35:58.727Z"
   },
   {
    "duration": 4,
    "start_time": "2023-03-21T12:36:08.583Z"
   },
   {
    "duration": 858,
    "start_time": "2023-03-21T12:36:09.780Z"
   },
   {
    "duration": 31,
    "start_time": "2023-03-21T12:36:11.412Z"
   },
   {
    "duration": 4,
    "start_time": "2023-03-21T12:36:25.768Z"
   },
   {
    "duration": 783,
    "start_time": "2023-03-21T12:36:27.311Z"
   },
   {
    "duration": 38,
    "start_time": "2023-03-21T12:36:28.759Z"
   },
   {
    "duration": 8,
    "start_time": "2023-03-21T12:37:46.486Z"
   },
   {
    "duration": 921,
    "start_time": "2023-03-21T12:37:48.859Z"
   },
   {
    "duration": 73,
    "start_time": "2023-03-21T12:38:32.782Z"
   },
   {
    "duration": 5,
    "start_time": "2023-03-21T12:38:49.836Z"
   },
   {
    "duration": 973,
    "start_time": "2023-03-21T12:38:51.512Z"
   },
   {
    "duration": 44,
    "start_time": "2023-03-21T12:38:53.466Z"
   },
   {
    "duration": 236,
    "start_time": "2023-03-21T12:40:52.793Z"
   },
   {
    "duration": 11,
    "start_time": "2023-03-21T12:43:28.930Z"
   },
   {
    "duration": 3371,
    "start_time": "2023-03-21T12:43:35.318Z"
   },
   {
    "duration": 5,
    "start_time": "2023-03-21T12:43:39.892Z"
   },
   {
    "duration": 5,
    "start_time": "2023-03-21T12:44:17.252Z"
   },
   {
    "duration": 74,
    "start_time": "2023-03-21T12:45:00.611Z"
   },
   {
    "duration": 2332,
    "start_time": "2023-03-21T12:45:10.912Z"
   },
   {
    "duration": 4540,
    "start_time": "2023-03-21T12:45:13.247Z"
   },
   {
    "duration": 8,
    "start_time": "2023-03-21T12:45:17.789Z"
   },
   {
    "duration": 9236,
    "start_time": "2023-03-21T12:45:24.939Z"
   },
   {
    "duration": 8,
    "start_time": "2023-03-21T12:45:36.052Z"
   },
   {
    "duration": 5,
    "start_time": "2023-03-21T12:46:11.569Z"
   },
   {
    "duration": 13,
    "start_time": "2023-03-21T12:48:29.937Z"
   },
   {
    "duration": 1852,
    "start_time": "2023-03-21T12:48:34.916Z"
   },
   {
    "duration": 4811,
    "start_time": "2023-03-21T12:48:36.776Z"
   },
   {
    "duration": 555,
    "start_time": "2023-03-21T12:48:44.844Z"
   },
   {
    "duration": 4,
    "start_time": "2023-03-21T12:49:21.512Z"
   },
   {
    "duration": 4,
    "start_time": "2023-03-21T12:49:26.752Z"
   },
   {
    "duration": 8695,
    "start_time": "2023-03-21T12:49:28.312Z"
   },
   {
    "duration": 6,
    "start_time": "2023-03-21T12:49:40.038Z"
   },
   {
    "duration": 6,
    "start_time": "2023-03-21T12:49:46.016Z"
   },
   {
    "duration": 4,
    "start_time": "2023-03-21T12:51:21.483Z"
   },
   {
    "duration": 1463,
    "start_time": "2023-03-21T12:52:45.275Z"
   },
   {
    "duration": 1122,
    "start_time": "2023-03-21T12:52:46.741Z"
   },
   {
    "duration": 5,
    "start_time": "2023-03-21T12:52:47.865Z"
   },
   {
    "duration": 851,
    "start_time": "2023-03-21T12:52:47.873Z"
   },
   {
    "duration": 53,
    "start_time": "2023-03-21T12:52:48.726Z"
   },
   {
    "duration": 5,
    "start_time": "2023-03-21T12:53:00.895Z"
   },
   {
    "duration": 842,
    "start_time": "2023-03-21T12:53:07.999Z"
   },
   {
    "duration": 28,
    "start_time": "2023-03-21T12:53:16.532Z"
   },
   {
    "duration": 3130,
    "start_time": "2023-03-21T13:18:20.454Z"
   },
   {
    "duration": 51,
    "start_time": "2023-03-21T13:18:35.995Z"
   },
   {
    "duration": 938,
    "start_time": "2023-03-21T13:18:40.664Z"
   },
   {
    "duration": 4,
    "start_time": "2023-03-21T13:19:21.848Z"
   },
   {
    "duration": 181,
    "start_time": "2023-03-21T13:19:26.611Z"
   },
   {
    "duration": 4,
    "start_time": "2023-03-21T13:19:42.559Z"
   },
   {
    "duration": 1318,
    "start_time": "2023-03-21T13:19:43.730Z"
   },
   {
    "duration": 4,
    "start_time": "2023-03-21T13:20:11.982Z"
   },
   {
    "duration": 1457,
    "start_time": "2023-03-21T13:20:11.988Z"
   },
   {
    "duration": 999,
    "start_time": "2023-03-21T13:20:13.447Z"
   },
   {
    "duration": 15,
    "start_time": "2023-03-21T13:20:14.448Z"
   },
   {
    "duration": 1506,
    "start_time": "2023-03-21T13:20:14.466Z"
   },
   {
    "duration": 26,
    "start_time": "2023-03-21T13:28:16.886Z"
   },
   {
    "duration": 4764,
    "start_time": "2023-03-21T13:42:01.925Z"
   },
   {
    "duration": 514,
    "start_time": "2023-03-21T13:43:52.237Z"
   },
   {
    "duration": 3393,
    "start_time": "2023-03-21T13:44:24.929Z"
   },
   {
    "duration": 42,
    "start_time": "2023-03-21T13:55:07.494Z"
   },
   {
    "duration": 109,
    "start_time": "2023-03-21T13:55:11.802Z"
   },
   {
    "duration": 6,
    "start_time": "2023-03-21T13:55:45.234Z"
   },
   {
    "duration": 63,
    "start_time": "2023-03-21T13:55:48.143Z"
   },
   {
    "duration": 41,
    "start_time": "2023-03-21T13:55:57.340Z"
   },
   {
    "duration": 4,
    "start_time": "2023-03-21T13:56:26.835Z"
   },
   {
    "duration": 65,
    "start_time": "2023-03-21T13:56:29.133Z"
   },
   {
    "duration": 7,
    "start_time": "2023-03-21T13:56:41.635Z"
   },
   {
    "duration": 73,
    "start_time": "2023-03-21T13:56:44.555Z"
   },
   {
    "duration": 53,
    "start_time": "2023-03-21T13:56:52.235Z"
   },
   {
    "duration": 668,
    "start_time": "2023-03-21T13:57:13.144Z"
   },
   {
    "duration": 42,
    "start_time": "2023-03-21T13:57:16.032Z"
   },
   {
    "duration": 604,
    "start_time": "2023-03-21T13:57:26.131Z"
   },
   {
    "duration": 63,
    "start_time": "2023-03-21T13:57:29.736Z"
   },
   {
    "duration": 620,
    "start_time": "2023-03-21T13:57:50.893Z"
   },
   {
    "duration": 818,
    "start_time": "2023-03-21T13:57:56.049Z"
   },
   {
    "duration": 5,
    "start_time": "2023-03-21T13:58:00.858Z"
   },
   {
    "duration": 40,
    "start_time": "2023-03-21T13:58:03.132Z"
   },
   {
    "duration": 545,
    "start_time": "2023-03-21T13:59:00.788Z"
   },
   {
    "duration": 193883,
    "start_time": "2023-03-21T13:59:59.704Z"
   },
   {
    "duration": 4412,
    "start_time": "2023-03-21T14:04:32.687Z"
   },
   {
    "duration": 948,
    "start_time": "2023-03-21T14:04:37.101Z"
   },
   {
    "duration": 3,
    "start_time": "2023-03-21T14:04:38.050Z"
   },
   {
    "duration": 8880,
    "start_time": "2023-03-21T14:04:38.064Z"
   },
   {
    "duration": 5,
    "start_time": "2023-03-21T14:04:46.946Z"
   },
   {
    "duration": 4,
    "start_time": "2023-03-21T14:05:15.156Z"
   },
   {
    "duration": 3,
    "start_time": "2023-03-21T14:05:27.943Z"
   },
   {
    "duration": 6,
    "start_time": "2023-03-21T14:05:40.936Z"
   },
   {
    "duration": 8367,
    "start_time": "2023-03-21T14:06:27.141Z"
   },
   {
    "duration": 4492,
    "start_time": "2023-03-21T14:06:42.736Z"
   },
   {
    "duration": 897,
    "start_time": "2023-03-21T14:06:47.231Z"
   },
   {
    "duration": 3,
    "start_time": "2023-03-21T14:06:48.129Z"
   },
   {
    "duration": 9265,
    "start_time": "2023-03-21T14:06:48.134Z"
   },
   {
    "duration": 6,
    "start_time": "2023-03-21T14:06:57.401Z"
   },
   {
    "duration": 8107,
    "start_time": "2023-03-21T14:08:16.392Z"
   },
   {
    "duration": 7,
    "start_time": "2023-03-21T14:08:32.160Z"
   },
   {
    "duration": 8140,
    "start_time": "2023-03-21T14:09:25.042Z"
   },
   {
    "duration": 1267,
    "start_time": "2023-03-21T14:09:43.464Z"
   },
   {
    "duration": 4711,
    "start_time": "2023-03-21T14:09:52.389Z"
   },
   {
    "duration": 943,
    "start_time": "2023-03-21T14:09:57.102Z"
   },
   {
    "duration": 16,
    "start_time": "2023-03-21T14:09:58.047Z"
   },
   {
    "duration": 1593,
    "start_time": "2023-03-21T14:09:58.066Z"
   },
   {
    "duration": 0,
    "start_time": "2023-03-21T14:09:59.662Z"
   },
   {
    "duration": 4169,
    "start_time": "2023-03-21T14:12:19.003Z"
   },
   {
    "duration": 904,
    "start_time": "2023-03-21T14:12:23.174Z"
   },
   {
    "duration": 3,
    "start_time": "2023-03-21T14:12:24.080Z"
   },
   {
    "duration": 4109,
    "start_time": "2023-03-21T14:12:24.085Z"
   },
   {
    "duration": 4,
    "start_time": "2023-03-21T14:12:28.196Z"
   },
   {
    "duration": 4163,
    "start_time": "2023-03-21T14:12:41.339Z"
   },
   {
    "duration": 860,
    "start_time": "2023-03-21T14:12:45.504Z"
   },
   {
    "duration": 7,
    "start_time": "2023-03-21T14:12:46.372Z"
   },
   {
    "duration": 7427,
    "start_time": "2023-03-21T14:12:46.382Z"
   },
   {
    "duration": 5,
    "start_time": "2023-03-21T14:12:53.810Z"
   },
   {
    "duration": 3,
    "start_time": "2023-03-21T14:17:47.739Z"
   },
   {
    "duration": 5,
    "start_time": "2023-03-21T14:18:04.391Z"
   },
   {
    "duration": 4,
    "start_time": "2023-03-21T14:18:12.445Z"
   },
   {
    "duration": 7032,
    "start_time": "2023-03-21T14:18:54.069Z"
   },
   {
    "duration": 4,
    "start_time": "2023-03-21T14:19:03.294Z"
   },
   {
    "duration": 8238,
    "start_time": "2023-03-21T14:19:31.087Z"
   },
   {
    "duration": 7,
    "start_time": "2023-03-21T14:20:08.544Z"
   },
   {
    "duration": 6751,
    "start_time": "2023-03-21T14:52:25.780Z"
   },
   {
    "duration": 5,
    "start_time": "2023-03-21T14:52:41.649Z"
   },
   {
    "duration": 5,
    "start_time": "2023-03-21T14:55:46.912Z"
   },
   {
    "duration": 43,
    "start_time": "2023-03-21T14:58:41.489Z"
   },
   {
    "duration": 24,
    "start_time": "2023-03-21T14:58:52.620Z"
   },
   {
    "duration": 455,
    "start_time": "2023-03-21T14:59:09.805Z"
   },
   {
    "duration": 6,
    "start_time": "2023-03-21T14:59:19.888Z"
   },
   {
    "duration": 11,
    "start_time": "2023-03-21T15:07:51.431Z"
   },
   {
    "duration": 6,
    "start_time": "2023-03-21T15:07:53.911Z"
   },
   {
    "duration": 102,
    "start_time": "2023-03-21T15:14:01.240Z"
   },
   {
    "duration": 5,
    "start_time": "2023-03-21T15:14:19.738Z"
   },
   {
    "duration": 4,
    "start_time": "2023-03-21T15:14:28.339Z"
   },
   {
    "duration": 6,
    "start_time": "2023-03-21T15:16:32.235Z"
   },
   {
    "duration": 47,
    "start_time": "2023-03-21T15:16:57.459Z"
   },
   {
    "duration": 54,
    "start_time": "2023-03-21T15:17:27.307Z"
   },
   {
    "duration": 45,
    "start_time": "2023-03-21T15:18:03.603Z"
   },
   {
    "duration": 5,
    "start_time": "2023-03-21T15:18:05.186Z"
   },
   {
    "duration": 54,
    "start_time": "2023-03-21T15:18:06.489Z"
   },
   {
    "duration": 6,
    "start_time": "2023-03-21T15:19:55.485Z"
   },
   {
    "duration": 37,
    "start_time": "2023-03-21T15:19:57.884Z"
   },
   {
    "duration": 5,
    "start_time": "2023-03-21T15:21:09.433Z"
   },
   {
    "duration": 52,
    "start_time": "2023-03-21T15:21:12.783Z"
   },
   {
    "duration": 33,
    "start_time": "2023-03-21T15:22:47.947Z"
   },
   {
    "duration": 10,
    "start_time": "2023-03-21T15:22:51.460Z"
   },
   {
    "duration": 7,
    "start_time": "2023-03-21T15:22:53.940Z"
   },
   {
    "duration": 18,
    "start_time": "2023-03-21T15:23:05.852Z"
   },
   {
    "duration": 5,
    "start_time": "2023-03-21T15:26:36.854Z"
   },
   {
    "duration": 10,
    "start_time": "2023-03-21T15:26:52.938Z"
   },
   {
    "duration": 24,
    "start_time": "2023-03-21T15:26:57.745Z"
   },
   {
    "duration": 19,
    "start_time": "2023-03-21T15:29:52.922Z"
   },
   {
    "duration": 19,
    "start_time": "2023-03-21T15:30:00.653Z"
   },
   {
    "duration": 38,
    "start_time": "2023-03-21T15:30:04.917Z"
   },
   {
    "duration": 19,
    "start_time": "2023-03-21T15:30:09.949Z"
   },
   {
    "duration": 4,
    "start_time": "2023-03-21T15:30:40.503Z"
   },
   {
    "duration": 13,
    "start_time": "2023-03-21T15:35:53.203Z"
   },
   {
    "duration": 18,
    "start_time": "2023-03-21T15:35:59.348Z"
   },
   {
    "duration": 30,
    "start_time": "2023-03-21T15:39:43.738Z"
   },
   {
    "duration": 8,
    "start_time": "2023-03-21T15:39:48.697Z"
   },
   {
    "duration": 10,
    "start_time": "2023-03-21T15:40:08.096Z"
   },
   {
    "duration": 12,
    "start_time": "2023-03-21T15:40:17.804Z"
   },
   {
    "duration": 10,
    "start_time": "2023-03-21T15:40:22.306Z"
   },
   {
    "duration": 12,
    "start_time": "2023-03-21T15:40:32.340Z"
   },
   {
    "duration": 9,
    "start_time": "2023-03-21T15:40:34.800Z"
   },
   {
    "duration": 4818,
    "start_time": "2023-03-21T15:40:49.197Z"
   },
   {
    "duration": 1003,
    "start_time": "2023-03-21T15:40:54.022Z"
   },
   {
    "duration": 3,
    "start_time": "2023-03-21T15:40:55.027Z"
   },
   {
    "duration": 7802,
    "start_time": "2023-03-21T15:40:55.032Z"
   },
   {
    "duration": 40,
    "start_time": "2023-03-21T15:41:02.836Z"
   },
   {
    "duration": 20,
    "start_time": "2023-03-21T15:41:02.879Z"
   },
   {
    "duration": 51,
    "start_time": "2023-03-21T15:41:02.901Z"
   },
   {
    "duration": 11,
    "start_time": "2023-03-21T15:41:57.997Z"
   },
   {
    "duration": 491,
    "start_time": "2023-03-21T15:42:02.532Z"
   },
   {
    "duration": 23,
    "start_time": "2023-03-21T15:42:23.860Z"
   },
   {
    "duration": 10,
    "start_time": "2023-03-21T15:42:27.714Z"
   },
   {
    "duration": 5,
    "start_time": "2023-03-21T15:44:49.833Z"
   },
   {
    "duration": 4,
    "start_time": "2023-03-21T15:45:08.497Z"
   },
   {
    "duration": 10,
    "start_time": "2023-03-21T15:48:04.024Z"
   },
   {
    "duration": 1146,
    "start_time": "2023-03-21T15:48:35.048Z"
   },
   {
    "duration": 8236,
    "start_time": "2023-03-21T15:48:56.598Z"
   },
   {
    "duration": 5,
    "start_time": "2023-03-21T15:51:11.052Z"
   },
   {
    "duration": 7,
    "start_time": "2023-03-21T15:52:06.886Z"
   },
   {
    "duration": 33,
    "start_time": "2023-03-21T15:53:20.181Z"
   },
   {
    "duration": 58,
    "start_time": "2023-03-21T15:53:29.648Z"
   },
   {
    "duration": 51,
    "start_time": "2023-03-21T15:53:39.689Z"
   },
   {
    "duration": 58,
    "start_time": "2023-03-21T15:55:32.858Z"
   },
   {
    "duration": 50,
    "start_time": "2023-03-21T15:56:39.494Z"
   },
   {
    "duration": 9,
    "start_time": "2023-03-21T15:56:58.742Z"
   },
   {
    "duration": 44,
    "start_time": "2023-03-21T15:57:06.609Z"
   },
   {
    "duration": 3,
    "start_time": "2023-03-21T16:00:58.704Z"
   },
   {
    "duration": 59,
    "start_time": "2023-03-21T16:03:58.617Z"
   },
   {
    "duration": 54,
    "start_time": "2023-03-21T16:04:07.053Z"
   },
   {
    "duration": 42,
    "start_time": "2023-03-21T16:04:46.728Z"
   },
   {
    "duration": 41,
    "start_time": "2023-03-21T16:05:07.244Z"
   },
   {
    "duration": 4351,
    "start_time": "2023-03-21T16:05:57.503Z"
   },
   {
    "duration": 901,
    "start_time": "2023-03-21T16:06:01.856Z"
   },
   {
    "duration": 1295960,
    "start_time": "2023-03-21T16:06:02.762Z"
   },
   {
    "duration": 0,
    "start_time": "2023-03-21T16:27:38.724Z"
   },
   {
    "duration": 0,
    "start_time": "2023-03-21T16:27:38.725Z"
   },
   {
    "duration": 0,
    "start_time": "2023-03-21T16:27:38.726Z"
   },
   {
    "duration": 0,
    "start_time": "2023-03-21T16:27:38.728Z"
   },
   {
    "duration": 0,
    "start_time": "2023-03-21T16:27:38.729Z"
   },
   {
    "duration": 5,
    "start_time": "2023-03-24T10:41:53.235Z"
   },
   {
    "duration": 5202,
    "start_time": "2023-03-24T10:41:53.243Z"
   },
   {
    "duration": 4029,
    "start_time": "2023-03-24T10:41:58.447Z"
   },
   {
    "duration": 38,
    "start_time": "2023-03-24T10:42:02.478Z"
   },
   {
    "duration": 5,
    "start_time": "2023-03-24T10:42:02.518Z"
   },
   {
    "duration": 1263924,
    "start_time": "2023-03-24T10:42:02.525Z"
   },
   {
    "duration": 65,
    "start_time": "2023-03-24T11:03:06.451Z"
   },
   {
    "duration": 5,
    "start_time": "2023-03-24T11:03:06.517Z"
   },
   {
    "duration": 676300,
    "start_time": "2023-03-24T11:03:06.524Z"
   },
   {
    "duration": 4,
    "start_time": "2023-03-24T12:08:28.064Z"
   },
   {
    "duration": 3863,
    "start_time": "2023-03-24T12:08:28.069Z"
   },
   {
    "duration": 3977,
    "start_time": "2023-03-24T12:08:31.933Z"
   },
   {
    "duration": 29,
    "start_time": "2023-03-24T12:08:35.912Z"
   },
   {
    "duration": 4,
    "start_time": "2023-03-24T12:08:35.943Z"
   },
   {
    "duration": 1020018,
    "start_time": "2023-03-24T12:08:35.948Z"
   },
   {
    "duration": 57,
    "start_time": "2023-03-24T12:25:35.968Z"
   },
   {
    "duration": 5,
    "start_time": "2023-03-24T12:25:36.027Z"
   },
   {
    "duration": 79,
    "start_time": "2023-03-24T12:25:36.034Z"
   },
   {
    "duration": 0,
    "start_time": "2023-03-24T12:25:36.115Z"
   },
   {
    "duration": 0,
    "start_time": "2023-03-24T12:25:36.117Z"
   },
   {
    "duration": 608632,
    "start_time": "2023-03-24T12:28:49.054Z"
   },
   {
    "duration": 618260,
    "start_time": "2023-03-24T12:43:51.568Z"
   },
   {
    "duration": 893114,
    "start_time": "2023-03-24T12:54:09.830Z"
   },
   {
    "duration": 717,
    "start_time": "2023-03-24T13:09:02.946Z"
   }
  ],
  "kernelspec": {
   "display_name": "Python 3 (ipykernel)",
   "language": "python",
   "name": "python3"
  },
  "language_info": {
   "codemirror_mode": {
    "name": "ipython",
    "version": 3
   },
   "file_extension": ".py",
   "mimetype": "text/x-python",
   "name": "python",
   "nbconvert_exporter": "python",
   "pygments_lexer": "ipython3",
   "version": "3.9.13"
  },
  "toc": {
   "base_numbering": 1,
   "nav_menu": {},
   "number_sections": true,
   "sideBar": true,
   "skip_h1_title": true,
   "title_cell": "Содержание",
   "title_sidebar": "Contents",
   "toc_cell": true,
   "toc_position": {
    "height": "calc(100% - 180px)",
    "left": "10px",
    "top": "150px",
    "width": "302.391px"
   },
   "toc_section_display": true,
   "toc_window_display": false
  }
 },
 "nbformat": 4,
 "nbformat_minor": 2
}
