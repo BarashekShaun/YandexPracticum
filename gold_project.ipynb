{
 "cells": [
  {
   "cell_type": "markdown",
   "id": "473bc48a",
   "metadata": {},
   "source": [
    "**Инструкция по выполнению проекта:**\n",
    "\n",
    "* 1. Подготовьте данные\n",
    "* 1.1. Откройте файлы и изучите их.\n",
    "* 1.2. Проверьте, что эффективность обогащения рассчитана правильно. Вычислите её на обучающей выборке для признака rougher.output.recovery. Найдите MAE между вашими расчётами и значением признака. Опишите выводы.\n",
    "* 1.3. Проанализируйте признаки, недоступные в тестовой выборке. Что это за параметры? К какому типу относятся?\n",
    "* 1.4. Проведите предобработку данных.\n",
    "* 2. Проанализируйте данные\n",
    "* 2.1. Посмотрите, как меняется концентрация металлов (Au, Ag, Pb) на различных этапах очистки. Опишите выводы.\n",
    "* 2.2.  Сравните распределения размеров гранул сырья на обучающей и тестовой выборках. Если распределения сильно отличаются друг от друга, оценка модели будет неправильной.\n",
    "* 2.3. Исследуйте суммарную концентрацию всех веществ на разных стадиях: в сырье, в черновом и финальном концентратах. \n",
    "* 3. Постройте модель\n",
    "* 3.1. Напишите функцию для вычисления итоговой sMAPE.\n",
    "* 3.2. Обучите разные модели и оцените их качество кросс-валидацией. Выберите лучшую модель и проверьте её на тестовой выборке. Опишите выводы.\n",
    "\n",
    "**Описание данных**\n",
    "**Технологический процесс**\n",
    "* Rougher feed — исходное сырье\n",
    "* Rougher additions (или reagent additions) — флотационные реагенты: Xanthate, Sulphate, Depressant  \n",
    "* Xanthate **— ксантогенат (промотер, или активатор флотации);\n",
    "* Sulphate — сульфат (на данном производстве сульфид натрия);\n",
    "* Depressant — депрессант (силикат натрия).\n",
    "* Rougher process (англ. «грубый процесс») — флотация\n",
    "* Rougher tails — отвальные хвосты\n",
    "* Float banks — флотационная установка\n",
    "* Cleaner process — очистка\n",
    "* Rougher Au — черновой концентрат золота\n",
    "* Final Au — финальный концентрат золота\n",
    "\n",
    "**Параметры этапов**\n",
    "* air amount — объём воздуха\n",
    "* fluid levels — уровень жидкости\n",
    "* feed size — размер гранул сырья\n",
    "* feed rate — скорость подачи\n",
    "\n",
    "**Наименование признаков**\n",
    "\n",
    "Наименование признаков должно быть такое:\n",
    "*[этап].[тип_параметра].[название_параметра]*\n",
    "Пример: **rougher.input.feed_ag**\n",
    "\n",
    "**Возможные значения для блока [этап]:**\n",
    "* rougher — флотация\n",
    "* primary_cleaner — первичная очистка\n",
    "* secondary_cleaner — вторичная очистка\n",
    "* final — финальные характеристики\n",
    "\n",
    "**Возможные значения для блока [тип_параметра]:**\n",
    "* input — параметры сырья\n",
    "* output — параметры продукта\n",
    "* state — параметры, характеризующие текущее состояние этапа\n",
    "* calculation — расчётные характеристики"
   ]
  },
  {
   "cell_type": "code",
   "execution_count": 1,
   "id": "5abd9021",
   "metadata": {},
   "outputs": [],
   "source": [
    "import pandas as pd\n",
    "from sklearn.metrics import mean_absolute_error\n",
    "import matplotlib.pyplot as plt\n",
    "import seaborn as sns\n",
    "from sklearn.model_selection import cross_val_score\n",
    "import numpy as np\n",
    "from sklearn.preprocessing import StandardScaler\n",
    "from sklearn.linear_model import LinearRegression\n",
    "from sklearn.tree import DecisionTreeRegressor\n",
    "from sklearn.ensemble import RandomForestRegressor\n",
    "from sklearn.model_selection import GridSearchCV\n",
    "from sklearn.metrics import make_scorer\n",
    "from sklearn.dummy import DummyRegressor"
   ]
  },
  {
   "cell_type": "markdown",
   "id": "64678201",
   "metadata": {},
   "source": [
    "## Подготовка данных"
   ]
  },
  {
   "cell_type": "code",
   "execution_count": 2,
   "id": "d21d9541",
   "metadata": {},
   "outputs": [],
   "source": [
    "try:\n",
    "    data_train = pd.read_csv('D:\\gold_recovery_train_new.csv')\n",
    "    data_test = pd.read_csv('D:\\gold_recovery_test_new.csv')\n",
    "    data_full = pd.read_csv('D:\\gold_recovery_full_new.csv')\n",
    "except:\n",
    "    data_train = pd.read_csv('/datasets/gold_recovery_train_new.csv')\n",
    "    data_test = pd.read_csv('/datasets/gold_recovery_test_new.csv')\n",
    "    data_full = pd.read_csv('/datasets/gold_recovery_full_new.csv')"
   ]
  },
  {
   "cell_type": "code",
   "execution_count": 3,
   "id": "34d6c939",
   "metadata": {
    "collapsed": true
   },
   "outputs": [
    {
     "name": "stdout",
     "output_type": "stream",
     "text": [
      "<class 'pandas.core.frame.DataFrame'>\n",
      "RangeIndex: 14149 entries, 0 to 14148\n",
      "Data columns (total 87 columns):\n",
      " #   Column                                              Non-Null Count  Dtype  \n",
      "---  ------                                              --------------  -----  \n",
      " 0   date                                                14149 non-null  object \n",
      " 1   final.output.concentrate_ag                         14148 non-null  float64\n",
      " 2   final.output.concentrate_pb                         14148 non-null  float64\n",
      " 3   final.output.concentrate_sol                        13938 non-null  float64\n",
      " 4   final.output.concentrate_au                         14149 non-null  float64\n",
      " 5   final.output.recovery                               14149 non-null  float64\n",
      " 6   final.output.tail_ag                                14149 non-null  float64\n",
      " 7   final.output.tail_pb                                14049 non-null  float64\n",
      " 8   final.output.tail_sol                               14144 non-null  float64\n",
      " 9   final.output.tail_au                                14149 non-null  float64\n",
      " 10  primary_cleaner.input.sulfate                       14129 non-null  float64\n",
      " 11  primary_cleaner.input.depressant                    14117 non-null  float64\n",
      " 12  primary_cleaner.input.feed_size                     14149 non-null  float64\n",
      " 13  primary_cleaner.input.xanthate                      14049 non-null  float64\n",
      " 14  primary_cleaner.output.concentrate_ag               14149 non-null  float64\n",
      " 15  primary_cleaner.output.concentrate_pb               14063 non-null  float64\n",
      " 16  primary_cleaner.output.concentrate_sol              13863 non-null  float64\n",
      " 17  primary_cleaner.output.concentrate_au               14149 non-null  float64\n",
      " 18  primary_cleaner.output.tail_ag                      14148 non-null  float64\n",
      " 19  primary_cleaner.output.tail_pb                      14134 non-null  float64\n",
      " 20  primary_cleaner.output.tail_sol                     14103 non-null  float64\n",
      " 21  primary_cleaner.output.tail_au                      14149 non-null  float64\n",
      " 22  primary_cleaner.state.floatbank8_a_air              14145 non-null  float64\n",
      " 23  primary_cleaner.state.floatbank8_a_level            14148 non-null  float64\n",
      " 24  primary_cleaner.state.floatbank8_b_air              14145 non-null  float64\n",
      " 25  primary_cleaner.state.floatbank8_b_level            14148 non-null  float64\n",
      " 26  primary_cleaner.state.floatbank8_c_air              14147 non-null  float64\n",
      " 27  primary_cleaner.state.floatbank8_c_level            14148 non-null  float64\n",
      " 28  primary_cleaner.state.floatbank8_d_air              14146 non-null  float64\n",
      " 29  primary_cleaner.state.floatbank8_d_level            14148 non-null  float64\n",
      " 30  rougher.calculation.sulfate_to_au_concentrate       14148 non-null  float64\n",
      " 31  rougher.calculation.floatbank10_sulfate_to_au_feed  14148 non-null  float64\n",
      " 32  rougher.calculation.floatbank11_sulfate_to_au_feed  14148 non-null  float64\n",
      " 33  rougher.calculation.au_pb_ratio                     14149 non-null  float64\n",
      " 34  rougher.input.feed_ag                               14149 non-null  float64\n",
      " 35  rougher.input.feed_pb                               14049 non-null  float64\n",
      " 36  rougher.input.feed_rate                             14141 non-null  float64\n",
      " 37  rougher.input.feed_size                             14005 non-null  float64\n",
      " 38  rougher.input.feed_sol                              14071 non-null  float64\n",
      " 39  rougher.input.feed_au                               14149 non-null  float64\n",
      " 40  rougher.input.floatbank10_sulfate                   14120 non-null  float64\n",
      " 41  rougher.input.floatbank10_xanthate                  14141 non-null  float64\n",
      " 42  rougher.input.floatbank11_sulfate                   14113 non-null  float64\n",
      " 43  rougher.input.floatbank11_xanthate                  13721 non-null  float64\n",
      " 44  rougher.output.concentrate_ag                       14149 non-null  float64\n",
      " 45  rougher.output.concentrate_pb                       14149 non-null  float64\n",
      " 46  rougher.output.concentrate_sol                      14127 non-null  float64\n",
      " 47  rougher.output.concentrate_au                       14149 non-null  float64\n",
      " 48  rougher.output.recovery                             14149 non-null  float64\n",
      " 49  rougher.output.tail_ag                              14148 non-null  float64\n",
      " 50  rougher.output.tail_pb                              14149 non-null  float64\n",
      " 51  rougher.output.tail_sol                             14149 non-null  float64\n",
      " 52  rougher.output.tail_au                              14149 non-null  float64\n",
      " 53  rougher.state.floatbank10_a_air                     14148 non-null  float64\n",
      " 54  rougher.state.floatbank10_a_level                   14148 non-null  float64\n",
      " 55  rougher.state.floatbank10_b_air                     14148 non-null  float64\n",
      " 56  rougher.state.floatbank10_b_level                   14148 non-null  float64\n",
      " 57  rougher.state.floatbank10_c_air                     14148 non-null  float64\n",
      " 58  rougher.state.floatbank10_c_level                   14148 non-null  float64\n",
      " 59  rougher.state.floatbank10_d_air                     14149 non-null  float64\n",
      " 60  rougher.state.floatbank10_d_level                   14149 non-null  float64\n",
      " 61  rougher.state.floatbank10_e_air                     13713 non-null  float64\n",
      " 62  rougher.state.floatbank10_e_level                   14149 non-null  float64\n",
      " 63  rougher.state.floatbank10_f_air                     14149 non-null  float64\n",
      " 64  rougher.state.floatbank10_f_level                   14149 non-null  float64\n",
      " 65  secondary_cleaner.output.tail_ag                    14147 non-null  float64\n",
      " 66  secondary_cleaner.output.tail_pb                    14139 non-null  float64\n",
      " 67  secondary_cleaner.output.tail_sol                   12544 non-null  float64\n",
      " 68  secondary_cleaner.output.tail_au                    14149 non-null  float64\n",
      " 69  secondary_cleaner.state.floatbank2_a_air            13932 non-null  float64\n",
      " 70  secondary_cleaner.state.floatbank2_a_level          14148 non-null  float64\n",
      " 71  secondary_cleaner.state.floatbank2_b_air            14128 non-null  float64\n",
      " 72  secondary_cleaner.state.floatbank2_b_level          14148 non-null  float64\n",
      " 73  secondary_cleaner.state.floatbank3_a_air            14145 non-null  float64\n",
      " 74  secondary_cleaner.state.floatbank3_a_level          14148 non-null  float64\n",
      " 75  secondary_cleaner.state.floatbank3_b_air            14148 non-null  float64\n",
      " 76  secondary_cleaner.state.floatbank3_b_level          14148 non-null  float64\n",
      " 77  secondary_cleaner.state.floatbank4_a_air            14143 non-null  float64\n",
      " 78  secondary_cleaner.state.floatbank4_a_level          14148 non-null  float64\n",
      " 79  secondary_cleaner.state.floatbank4_b_air            14148 non-null  float64\n",
      " 80  secondary_cleaner.state.floatbank4_b_level          14148 non-null  float64\n",
      " 81  secondary_cleaner.state.floatbank5_a_air            14148 non-null  float64\n",
      " 82  secondary_cleaner.state.floatbank5_a_level          14148 non-null  float64\n",
      " 83  secondary_cleaner.state.floatbank5_b_air            14148 non-null  float64\n",
      " 84  secondary_cleaner.state.floatbank5_b_level          14148 non-null  float64\n",
      " 85  secondary_cleaner.state.floatbank6_a_air            14147 non-null  float64\n",
      " 86  secondary_cleaner.state.floatbank6_a_level          14148 non-null  float64\n",
      "dtypes: float64(86), object(1)\n",
      "memory usage: 9.4+ MB\n",
      "                  date  final.output.concentrate_ag  \\\n",
      "0  2016-01-15 00:00:00                     6.055403   \n",
      "1  2016-01-15 01:00:00                     6.029369   \n",
      "2  2016-01-15 02:00:00                     6.055926   \n",
      "3  2016-01-15 03:00:00                     6.047977   \n",
      "4  2016-01-15 04:00:00                     6.148599   \n",
      "\n",
      "   final.output.concentrate_pb  final.output.concentrate_sol  \\\n",
      "0                     9.889648                      5.507324   \n",
      "1                     9.968944                      5.257781   \n",
      "2                    10.213995                      5.383759   \n",
      "3                     9.977019                      4.858634   \n",
      "4                    10.142511                      4.939416   \n",
      "\n",
      "   final.output.concentrate_au  final.output.recovery  final.output.tail_ag  \\\n",
      "0                    42.192020              70.541216             10.411962   \n",
      "1                    42.701629              69.266198             10.462676   \n",
      "2                    42.657501              68.116445             10.507046   \n",
      "3                    42.689819              68.347543             10.422762   \n",
      "4                    42.774141              66.927016             10.360302   \n",
      "\n",
      "   final.output.tail_pb  final.output.tail_sol  final.output.tail_au  ...  \\\n",
      "0              0.895447              16.904297              2.143149  ...   \n",
      "1              0.927452              16.634514              2.224930  ...   \n",
      "2              0.953716              16.208849              2.257889  ...   \n",
      "3              0.883763              16.532835              2.146849  ...   \n",
      "4              0.792826              16.525686              2.055292  ...   \n",
      "\n",
      "   secondary_cleaner.state.floatbank4_a_air  \\\n",
      "0                                 14.016835   \n",
      "1                                 13.992281   \n",
      "2                                 14.015015   \n",
      "3                                 14.036510   \n",
      "4                                 14.027298   \n",
      "\n",
      "   secondary_cleaner.state.floatbank4_a_level  \\\n",
      "0                                 -502.488007   \n",
      "1                                 -505.503262   \n",
      "2                                 -502.520901   \n",
      "3                                 -500.857308   \n",
      "4                                 -499.838632   \n",
      "\n",
      "   secondary_cleaner.state.floatbank4_b_air  \\\n",
      "0                                 12.099931   \n",
      "1                                 11.950531   \n",
      "2                                 11.912783   \n",
      "3                                 11.999550   \n",
      "4                                 11.953070   \n",
      "\n",
      "   secondary_cleaner.state.floatbank4_b_level  \\\n",
      "0                                 -504.715942   \n",
      "1                                 -501.331529   \n",
      "2                                 -501.133383   \n",
      "3                                 -501.193686   \n",
      "4                                 -501.053894   \n",
      "\n",
      "   secondary_cleaner.state.floatbank5_a_air  \\\n",
      "0                                  9.925633   \n",
      "1                                 10.039245   \n",
      "2                                 10.070913   \n",
      "3                                  9.970366   \n",
      "4                                  9.925709   \n",
      "\n",
      "   secondary_cleaner.state.floatbank5_a_level  \\\n",
      "0                                 -498.310211   \n",
      "1                                 -500.169983   \n",
      "2                                 -500.129135   \n",
      "3                                 -499.201640   \n",
      "4                                 -501.686727   \n",
      "\n",
      "   secondary_cleaner.state.floatbank5_b_air  \\\n",
      "0                                  8.079666   \n",
      "1                                  7.984757   \n",
      "2                                  8.013877   \n",
      "3                                  7.977324   \n",
      "4                                  7.894242   \n",
      "\n",
      "   secondary_cleaner.state.floatbank5_b_level  \\\n",
      "0                                 -500.470978   \n",
      "1                                 -500.582168   \n",
      "2                                 -500.517572   \n",
      "3                                 -500.255908   \n",
      "4                                 -500.356035   \n",
      "\n",
      "   secondary_cleaner.state.floatbank6_a_air  \\\n",
      "0                                 14.151341   \n",
      "1                                 13.998353   \n",
      "2                                 14.028663   \n",
      "3                                 14.005551   \n",
      "4                                 13.996647   \n",
      "\n",
      "   secondary_cleaner.state.floatbank6_a_level  \n",
      "0                                 -605.841980  \n",
      "1                                 -599.787184  \n",
      "2                                 -601.427363  \n",
      "3                                 -599.996129  \n",
      "4                                 -601.496691  \n",
      "\n",
      "[5 rows x 87 columns] None\n"
     ]
    }
   ],
   "source": [
    "print(data_train.head(), data_train.info())"
   ]
  },
  {
   "cell_type": "markdown",
   "id": "77923390",
   "metadata": {},
   "source": [
    "**На этом этапе выполнено:**\n",
    "* Импортирование датасетов\n",
    "* Первичный обзор данных\n",
    "* Оценка количества пропусков\n",
    "\n",
    "*выведен только Train датасет для более простого обзора (мной проверены все)*"
   ]
  },
  {
   "cell_type": "markdown",
   "id": "6aeae734",
   "metadata": {},
   "source": [
    "### Расчет MAE для recovery"
   ]
  },
  {
   "cell_type": "code",
   "execution_count": 4,
   "id": "23988218",
   "metadata": {},
   "outputs": [
    {
     "data": {
      "text/plain": [
       "9.73512347450521e-15"
      ]
     },
     "execution_count": 4,
     "metadata": {},
     "output_type": "execute_result"
    }
   ],
   "source": [
    "def recovery_calc(C, F, T):\n",
    "    recovery = (C*(F-T))/(F*(C-T))\n",
    "    return recovery * 100\n",
    "    \n",
    "\n",
    "rougher_recovery = recovery_calc(\n",
    "                                data_train['rougher.output.concentrate_au'],\n",
    "                                data_train['rougher.input.feed_au'],\n",
    "                                data_train['rougher.output.tail_au']\n",
    ")\n",
    "\n",
    "rougher_au_mae = mean_absolute_error(data_train['rougher.output.recovery'], rougher_recovery)\n",
    "\n",
    "rougher_au_mae"
   ]
  },
  {
   "cell_type": "markdown",
   "id": "14e39e37",
   "metadata": {},
   "source": [
    "**На данном этапе:**\n",
    "* Создана функция для расчета recovery\n",
    "* Расчитана величина расхождения между данными в датасете и recovery по формуле\n",
    "\n",
    "**Вывод:**\n",
    "\n",
    "После ручной проверки мы видим, что ошибки в столбце recovery нет."
   ]
  },
  {
   "cell_type": "markdown",
   "id": "ca890a15",
   "metadata": {},
   "source": [
    "### Признаки, недоступные в тестовой выборке"
   ]
  },
  {
   "cell_type": "code",
   "execution_count": 5,
   "id": "c26ca739",
   "metadata": {},
   "outputs": [
    {
     "name": "stdout",
     "output_type": "stream",
     "text": [
      "['final.output.concentrate_ag', 'final.output.concentrate_pb', 'final.output.concentrate_sol', 'final.output.concentrate_au', 'final.output.recovery', 'final.output.tail_ag', 'final.output.tail_pb', 'final.output.tail_sol', 'final.output.tail_au', 'primary_cleaner.output.concentrate_ag', 'primary_cleaner.output.concentrate_pb', 'primary_cleaner.output.concentrate_sol', 'primary_cleaner.output.concentrate_au', 'primary_cleaner.output.tail_ag', 'primary_cleaner.output.tail_pb', 'primary_cleaner.output.tail_sol', 'primary_cleaner.output.tail_au', 'rougher.calculation.sulfate_to_au_concentrate', 'rougher.calculation.floatbank10_sulfate_to_au_feed', 'rougher.calculation.floatbank11_sulfate_to_au_feed', 'rougher.calculation.au_pb_ratio', 'rougher.output.concentrate_ag', 'rougher.output.concentrate_pb', 'rougher.output.concentrate_sol', 'rougher.output.concentrate_au', 'rougher.output.recovery', 'rougher.output.tail_ag', 'rougher.output.tail_pb', 'rougher.output.tail_sol', 'rougher.output.tail_au', 'secondary_cleaner.output.tail_ag', 'secondary_cleaner.output.tail_pb', 'secondary_cleaner.output.tail_sol', 'secondary_cleaner.output.tail_au']\n"
     ]
    }
   ],
   "source": [
    "data_train_columns = list(data_train.columns)\n",
    "data_test_columns = list(data_test.columns)\n",
    "data_diff = []\n",
    "\n",
    "for i in data_train_columns:\n",
    "    if i not in data_test_columns:\n",
    "        data_diff.append(i)\n",
    "        \n",
    "print(data_diff)"
   ]
  },
  {
   "cell_type": "markdown",
   "id": "c1f438a0",
   "metadata": {},
   "source": [
    "При сравнении названий столбцов мы видим, что в тестовую выборку **не попадают** значения **парметров продукта, расчетные характеристики, а также целевой признак.**"
   ]
  },
  {
   "cell_type": "markdown",
   "id": "3fc89814",
   "metadata": {},
   "source": [
    "### Предобработка данных"
   ]
  },
  {
   "cell_type": "code",
   "execution_count": 6,
   "id": "9e4d18e9",
   "metadata": {
    "scrolled": false
   },
   "outputs": [
    {
     "name": "stdout",
     "output_type": "stream",
     "text": [
      "0\n"
     ]
    }
   ],
   "source": [
    "data_train = data_train.ffill()\n",
    "data_test = data_test.ffill()\n",
    "data_full = data_full.ffill()\n",
    "\n",
    "print(data_full.duplicated().sum())"
   ]
  },
  {
   "cell_type": "code",
   "execution_count": 7,
   "id": "3c8b1c28",
   "metadata": {},
   "outputs": [],
   "source": [
    "data_train = data_train.loc[data_train['rougher.output.concentrate_au'] > 2]\n",
    "data_train = data_train.loc[data_train['primary_cleaner.output.concentrate_au'] > 2]\n",
    "data_train = data_train.loc[data_train['final.output.concentrate_au'] > 2]\n",
    "\n",
    "data_train = data_train.loc[data_train['primary_cleaner.output.concentrate_ag'] > 2]\n",
    "data_train = data_train.loc[data_train['final.output.concentrate_ag'] > 2]\n",
    "\n",
    "data_train = data_train.loc[data_train['primary_cleaner.output.concentrate_pb'] > 2]\n",
    "data_train = data_train.loc[data_train['final.output.concentrate_pb'] > 2]\n",
    "\n",
    "data_train = data_train.loc[data_train['primary_cleaner.output.concentrate_sol'] > 2]\n",
    "data_train = data_train.loc[data_train['final.output.concentrate_sol'] > 2]"
   ]
  },
  {
   "cell_type": "markdown",
   "id": "1e067eda",
   "metadata": {},
   "source": [
    "**На этом этапе выполнено:**\n",
    "* Пропуски во всех датасетах заполнены методом ffil\n",
    "* Данные проверены на наличие дубликатов\n",
    "* Из обучающей выборки удалены аномальные данные"
   ]
  },
  {
   "cell_type": "markdown",
   "id": "7830ccce",
   "metadata": {},
   "source": [
    "## Анализ данных"
   ]
  },
  {
   "cell_type": "markdown",
   "id": "5fbdfca9",
   "metadata": {},
   "source": [
    "### Золото"
   ]
  },
  {
   "cell_type": "code",
   "execution_count": 8,
   "id": "0832995a",
   "metadata": {
    "scrolled": false
   },
   "outputs": [
    {
     "name": "stderr",
     "output_type": "stream",
     "text": [
      "C:\\anaconda\\lib\\site-packages\\seaborn\\distributions.py:2619: FutureWarning: `distplot` is a deprecated function and will be removed in a future version. Please adapt your code to use either `displot` (a figure-level function with similar flexibility) or `kdeplot` (an axes-level function for kernel density plots).\n",
      "  warnings.warn(msg, FutureWarning)\n",
      "C:\\anaconda\\lib\\site-packages\\seaborn\\distributions.py:2619: FutureWarning: `distplot` is a deprecated function and will be removed in a future version. Please adapt your code to use either `displot` (a figure-level function with similar flexibility) or `kdeplot` (an axes-level function for kernel density plots).\n",
      "  warnings.warn(msg, FutureWarning)\n",
      "C:\\anaconda\\lib\\site-packages\\seaborn\\distributions.py:2619: FutureWarning: `distplot` is a deprecated function and will be removed in a future version. Please adapt your code to use either `displot` (a figure-level function with similar flexibility) or `kdeplot` (an axes-level function for kernel density plots).\n",
      "  warnings.warn(msg, FutureWarning)\n"
     ]
    },
    {
     "data": {
      "image/png": "[encoded data removed]",
      "text/plain": [
       "<Figure size 720x576 with 1 Axes>"
      ]
     },
     "metadata": {
      "needs_background": "light"
     },
     "output_type": "display_data"
    }
   ],
   "source": [
    "plt.figure(figsize=(10,8))\n",
    "sns.distplot(data_train['rougher.output.concentrate_au'], hist=False, kde_kws = {'linewidth': 3}, label='Флотация')\n",
    "sns.distplot(data_train['primary_cleaner.output.concentrate_au'], hist=False, kde_kws = {'linewidth': 3}, label='Первая очистка')\n",
    "sns.distplot(data_train['final.output.concentrate_au'], hist=False, kde_kws = {'linewidth': 3}, label='Вторая очистка')\n",
    "plt.ylabel('')\n",
    "plt.xlabel('')\n",
    "plt.title('Концентрация золота')\n",
    "plt.legend()\n",
    "plt.show()"
   ]
  },
  {
   "cell_type": "markdown",
   "id": "5dc08f97",
   "metadata": {},
   "source": [
    "На данном графике мы можем увидеть, как меняется концетрация золота в продукте на каждом этапе. Так, мы можем сказать, что с каждым этапом концетрация золота увеличивается."
   ]
  },
  {
   "cell_type": "markdown",
   "id": "fbaf963c",
   "metadata": {},
   "source": [
    "### Серебро"
   ]
  },
  {
   "cell_type": "code",
   "execution_count": 9,
   "id": "68a4845d",
   "metadata": {
    "scrolled": false
   },
   "outputs": [
    {
     "name": "stderr",
     "output_type": "stream",
     "text": [
      "C:\\anaconda\\lib\\site-packages\\seaborn\\distributions.py:2619: FutureWarning: `distplot` is a deprecated function and will be removed in a future version. Please adapt your code to use either `displot` (a figure-level function with similar flexibility) or `kdeplot` (an axes-level function for kernel density plots).\n",
      "  warnings.warn(msg, FutureWarning)\n",
      "C:\\anaconda\\lib\\site-packages\\seaborn\\distributions.py:2619: FutureWarning: `distplot` is a deprecated function and will be removed in a future version. Please adapt your code to use either `displot` (a figure-level function with similar flexibility) or `kdeplot` (an axes-level function for kernel density plots).\n",
      "  warnings.warn(msg, FutureWarning)\n",
      "C:\\anaconda\\lib\\site-packages\\seaborn\\distributions.py:2619: FutureWarning: `distplot` is a deprecated function and will be removed in a future version. Please adapt your code to use either `displot` (a figure-level function with similar flexibility) or `kdeplot` (an axes-level function for kernel density plots).\n",
      "  warnings.warn(msg, FutureWarning)\n"
     ]
    },
    {
     "data": {
      "image/png": "[encoded data removed]",
      "text/plain": [
       "<Figure size 720x576 with 1 Axes>"
      ]
     },
     "metadata": {
      "needs_background": "light"
     },
     "output_type": "display_data"
    }
   ],
   "source": [
    "plt.figure(figsize=(10,8))\n",
    "sns.distplot(data_train['rougher.output.concentrate_ag'], hist=False, kde_kws = {'linewidth': 3}, label='Флотация')\n",
    "sns.distplot(data_train['primary_cleaner.output.concentrate_ag'], hist=False, kde_kws = {'linewidth': 3}, label='Первая очистка')\n",
    "sns.distplot(data_train['final.output.concentrate_ag'], hist=False, kde_kws = {'linewidth': 3}, label='Вторая очистка')\n",
    "plt.ylabel('')\n",
    "plt.xlabel('')\n",
    "plt.title('Концентрация серебра')\n",
    "plt.legend()\n",
    "plt.show()"
   ]
  },
  {
   "cell_type": "markdown",
   "id": "41050e96",
   "metadata": {},
   "source": [
    "На данном графике представлено изменение концетрации серебра. Концетрация серебра в продукте уменьшается, однако ширина разброса концетраций в продукте становится ниже."
   ]
  },
  {
   "cell_type": "markdown",
   "id": "b1816e1b",
   "metadata": {},
   "source": [
    "### Свинец"
   ]
  },
  {
   "cell_type": "code",
   "execution_count": 10,
   "id": "caeb9ecb",
   "metadata": {},
   "outputs": [
    {
     "name": "stderr",
     "output_type": "stream",
     "text": [
      "C:\\anaconda\\lib\\site-packages\\seaborn\\distributions.py:2619: FutureWarning: `distplot` is a deprecated function and will be removed in a future version. Please adapt your code to use either `displot` (a figure-level function with similar flexibility) or `kdeplot` (an axes-level function for kernel density plots).\n",
      "  warnings.warn(msg, FutureWarning)\n",
      "C:\\anaconda\\lib\\site-packages\\seaborn\\distributions.py:2619: FutureWarning: `distplot` is a deprecated function and will be removed in a future version. Please adapt your code to use either `displot` (a figure-level function with similar flexibility) or `kdeplot` (an axes-level function for kernel density plots).\n",
      "  warnings.warn(msg, FutureWarning)\n",
      "C:\\anaconda\\lib\\site-packages\\seaborn\\distributions.py:2619: FutureWarning: `distplot` is a deprecated function and will be removed in a future version. Please adapt your code to use either `displot` (a figure-level function with similar flexibility) or `kdeplot` (an axes-level function for kernel density plots).\n",
      "  warnings.warn(msg, FutureWarning)\n"
     ]
    },
    {
     "data": {
      "image/png": "[encoded data removed]",
      "text/plain": [
       "<Figure size 720x576 with 1 Axes>"
      ]
     },
     "metadata": {
      "needs_background": "light"
     },
     "output_type": "display_data"
    }
   ],
   "source": [
    "plt.figure(figsize=(10,8))\n",
    "sns.distplot(data_train['rougher.output.concentrate_pb'], hist=False, kde_kws = {'linewidth': 3}, label='Флотация')\n",
    "sns.distplot(data_train['primary_cleaner.output.concentrate_pb'], hist=False, kde_kws = {'linewidth': 3}, label='Первая очистка')\n",
    "sns.distplot(data_train['final.output.concentrate_pb'], hist=False, kde_kws = {'linewidth': 3}, label='Вторая очистка')\n",
    "plt.ylabel('')\n",
    "plt.xlabel('')\n",
    "plt.title('Концентрация свинца')\n",
    "plt.legend()\n",
    "plt.show()"
   ]
  },
  {
   "cell_type": "markdown",
   "id": "80428ade",
   "metadata": {},
   "source": [
    "Концетрация свинца, однако, не сильно меняется. После первой и второй очистки она почти не меняется."
   ]
  },
  {
   "cell_type": "markdown",
   "id": "819beed3",
   "metadata": {},
   "source": [
    "### Размер гранул"
   ]
  },
  {
   "cell_type": "code",
   "execution_count": 11,
   "id": "b67fd53d",
   "metadata": {},
   "outputs": [
    {
     "name": "stderr",
     "output_type": "stream",
     "text": [
      "C:\\anaconda\\lib\\site-packages\\seaborn\\distributions.py:2619: FutureWarning: `distplot` is a deprecated function and will be removed in a future version. Please adapt your code to use either `displot` (a figure-level function with similar flexibility) or `kdeplot` (an axes-level function for kernel density plots).\n",
      "  warnings.warn(msg, FutureWarning)\n",
      "C:\\anaconda\\lib\\site-packages\\seaborn\\distributions.py:2619: FutureWarning: `distplot` is a deprecated function and will be removed in a future version. Please adapt your code to use either `displot` (a figure-level function with similar flexibility) or `kdeplot` (an axes-level function for kernel density plots).\n",
      "  warnings.warn(msg, FutureWarning)\n"
     ]
    },
    {
     "data": {
      "image/png": "[encoded data removed]",
      "text/plain": [
       "<Figure size 720x576 with 1 Axes>"
      ]
     },
     "metadata": {
      "needs_background": "light"
     },
     "output_type": "display_data"
    }
   ],
   "source": [
    "plt.figure(figsize=(10,8))\n",
    "sns.distplot(data_train['rougher.input.feed_size'], hist=False, kde_kws = {'linewidth': 3}, label='Обучающая выборка')\n",
    "sns.distplot(data_test['rougher.input.feed_size'], hist=False, kde_kws = {'linewidth': 3}, label='Тренировочная выборка')\n",
    "plt.xlim(0, 200)\n",
    "plt.ylabel('')\n",
    "plt.xlabel('')\n",
    "plt.title('Распределение размера гранул')\n",
    "plt.legend()\n",
    "plt.show()"
   ]
  },
  {
   "cell_type": "markdown",
   "id": "7b9bf030",
   "metadata": {},
   "source": [
    "На данном графике мы видим распределение размера гранул на тестовой и обучающей выборках. Разница есть, но не существенная."
   ]
  },
  {
   "cell_type": "markdown",
   "id": "a5ef4931",
   "metadata": {},
   "source": [
    "### Общая концетрация металлов"
   ]
  },
  {
   "cell_type": "code",
   "execution_count": 12,
   "id": "d1e67b90",
   "metadata": {
    "scrolled": false
   },
   "outputs": [
    {
     "name": "stderr",
     "output_type": "stream",
     "text": [
      "C:\\anaconda\\lib\\site-packages\\seaborn\\distributions.py:2619: FutureWarning: `distplot` is a deprecated function and will be removed in a future version. Please adapt your code to use either `displot` (a figure-level function with similar flexibility) or `kdeplot` (an axes-level function for kernel density plots).\n",
      "  warnings.warn(msg, FutureWarning)\n",
      "C:\\anaconda\\lib\\site-packages\\seaborn\\distributions.py:2619: FutureWarning: `distplot` is a deprecated function and will be removed in a future version. Please adapt your code to use either `displot` (a figure-level function with similar flexibility) or `kdeplot` (an axes-level function for kernel density plots).\n",
      "  warnings.warn(msg, FutureWarning)\n",
      "C:\\anaconda\\lib\\site-packages\\seaborn\\distributions.py:2619: FutureWarning: `distplot` is a deprecated function and will be removed in a future version. Please adapt your code to use either `displot` (a figure-level function with similar flexibility) or `kdeplot` (an axes-level function for kernel density plots).\n",
      "  warnings.warn(msg, FutureWarning)\n"
     ]
    },
    {
     "data": {
      "image/png": "[encoded data removed]",
      "text/plain": [
       "<Figure size 720x576 with 1 Axes>"
      ]
     },
     "metadata": {
      "needs_background": "light"
     },
     "output_type": "display_data"
    }
   ],
   "source": [
    "first_sum = data_train['rougher.input.feed_au'] + data_train['rougher.input.feed_ag'] \\\n",
    "+ data_train['rougher.input.feed_pb'] + data_train['rougher.input.feed_sol']\n",
    "\n",
    "second_sum = data_train['rougher.output.concentrate_au'] + data_train['rougher.output.concentrate_ag'] \\\n",
    "+ data_train['rougher.output.concentrate_pb'] + data_train['rougher.output.concentrate_sol']\n",
    "\n",
    "third_sum = data_train['final.output.concentrate_au'] + data_train['final.output.concentrate_ag'] \\\n",
    "+ data_train['final.output.concentrate_pb'] + data_train['final.output.concentrate_sol']\n",
    "\n",
    "plt.figure(figsize=(10,8))\n",
    "sns.distplot(first_sum, hist=False, kde_kws = {'linewidth': 3}, label='Флотация')\n",
    "sns.distplot(second_sum, hist=False, kde_kws = {'linewidth': 3}, label='Первая очистка')\n",
    "sns.distplot(third_sum, hist=False, kde_kws = {'linewidth': 3}, label='Вторая очистка')\n",
    "plt.xlim(0, 80)\n",
    "plt.ylabel('')\n",
    "plt.xlabel('')\n",
    "plt.title('Общая концентрация металлов')\n",
    "plt.legend()\n",
    "plt.show()"
   ]
  },
  {
   "cell_type": "markdown",
   "id": "061cff25",
   "metadata": {},
   "source": [
    "Да данном графике представлена общая концетрация металлов на разных стадиях. Мы видим, что после флотации концетрация растет. Также мы видим, что после финальной очистки разброс концетраций становится значительно ниже, чем после предыдущих двух этапов."
   ]
  },
  {
   "cell_type": "markdown",
   "id": "f4c4cda5",
   "metadata": {},
   "source": [
    "## Выбор модели"
   ]
  },
  {
   "cell_type": "markdown",
   "id": "e7713fec",
   "metadata": {},
   "source": [
    "### Функция для расчета sMAPE"
   ]
  },
  {
   "cell_type": "code",
   "execution_count": 13,
   "id": "ff4cf1c5",
   "metadata": {},
   "outputs": [],
   "source": [
    "def smape(target , pred):\n",
    "    return 1/ len(target) * np.sum(2 * np.abs(pred-target) / (np.abs(target) + np.abs(pred))*100)\n",
    "\n",
    "smape_scorer = make_scorer(smape, greater_is_better=False)"
   ]
  },
  {
   "cell_type": "markdown",
   "id": "19461eaf",
   "metadata": {},
   "source": [
    "<font color='blue'><b>Комментарий ревьюера: </b></font> ✔️\\\n",
    "<font color='green'> `smape` расчитана верно.</font>"
   ]
  },
  {
   "cell_type": "markdown",
   "id": "c87c9164",
   "metadata": {},
   "source": [
    "<font color='blue'><b>Комментарий ревьюера 2: </b></font> ✔️ <br>\n",
    "<font color='green'>Верно, что не забываешь указать greater_is_better=False, Это пригодится для SearchCV. SMAPE — ошибка, её минимизируем.</font>"
   ]
  },
  {
   "cell_type": "markdown",
   "id": "c5bc99d1",
   "metadata": {},
   "source": [
    "### Подготовим данные для обучения моделей"
   ]
  },
  {
   "cell_type": "markdown",
   "id": "d3751b27",
   "metadata": {},
   "source": [
    "#### Флотация"
   ]
  },
  {
   "cell_type": "code",
   "execution_count": 14,
   "id": "18a66812",
   "metadata": {
    "scrolled": true
   },
   "outputs": [],
   "source": [
    "rougher_data = data_train.loc[:, 'rougher.calculation.sulfate_to_au_concentrate':'rougher.state.floatbank10_f_level']\n",
    "\n",
    "rougher_data = rougher_data.drop(\n",
    "                                    ['rougher.calculation.sulfate_to_au_concentrate', \n",
    "                                    'rougher.calculation.floatbank10_sulfate_to_au_feed',\n",
    "                                    'rougher.calculation.floatbank11_sulfate_to_au_feed', \n",
    "                                    'rougher.calculation.au_pb_ratio',\n",
    "                                    'rougher.output.tail_ag',\n",
    "                                    'rougher.output.tail_pb',\n",
    "                                    'rougher.output.tail_sol',\n",
    "                                    'rougher.output.tail_au',\n",
    "                                    'rougher.output.concentrate_ag',\n",
    "                                    'rougher.output.concentrate_pb', \n",
    "                                    'rougher.output.concentrate_sol',\n",
    "                                    'rougher.output.concentrate_au'], axis=1\n",
    ")\n",
    "\n",
    "\n",
    "\n",
    "rougher_feat = rougher_data.drop(['rougher.output.recovery'], axis=1)\n",
    "rougher_target = rougher_data['rougher.output.recovery']"
   ]
  },
  {
   "cell_type": "code",
   "execution_count": 15,
   "id": "86179e23",
   "metadata": {
    "scrolled": false
   },
   "outputs": [],
   "source": [
    "rougher_test_feat = data_test[rougher_feat.columns]\n",
    "rougher_test_target = data_full[data_full['date'].isin(data_test['date'])] \n",
    "rougher_test_target = rougher_test_target['rougher.output.recovery']"
   ]
  },
  {
   "cell_type": "markdown",
   "id": "88a4bb5d",
   "metadata": {},
   "source": [
    "**На данном этапе было выполнено:**\n",
    "* Подготовлены выборки для обучения и тестирования для предказаний после флотации"
   ]
  },
  {
   "cell_type": "code",
   "execution_count": 16,
   "id": "e160d14c",
   "metadata": {},
   "outputs": [
    {
     "name": "stdout",
     "output_type": "stream",
     "text": [
      "-6.792787241659826\n"
     ]
    }
   ],
   "source": [
    "LR = LinearRegression()\n",
    "\n",
    "LR_score = cross_val_score(LR, rougher_feat, rougher_target, cv=5, scoring=smape_scorer)\n",
    "\n",
    "print(LR_score.mean())"
   ]
  },
  {
   "cell_type": "code",
   "execution_count": 17,
   "id": "12b751b3",
   "metadata": {},
   "outputs": [
    {
     "name": "stdout",
     "output_type": "stream",
     "text": [
      "-8.3100246886141\n"
     ]
    }
   ],
   "source": [
    "DT = DecisionTreeRegressor(random_state=666, max_depth=20)\n",
    "\n",
    "DT_score = cross_val_score(DT, rougher_feat, rougher_target, cv=5, scoring=smape_scorer)\n",
    "\n",
    "print(DT_score.mean())"
   ]
  },
  {
   "cell_type": "code",
   "execution_count": 18,
   "id": "30885b1e",
   "metadata": {},
   "outputs": [
    {
     "name": "stdout",
     "output_type": "stream",
     "text": [
      "-6.481089362859019\n"
     ]
    }
   ],
   "source": [
    "FT = RandomForestRegressor(random_state=666, max_depth=17, n_estimators=12)\n",
    "\n",
    "FT_score = cross_val_score(FT, rougher_feat, rougher_target, cv=5, scoring=smape_scorer)\n",
    "\n",
    "print(FT_score.mean())"
   ]
  },
  {
   "cell_type": "markdown",
   "id": "f109ab5e",
   "metadata": {},
   "source": [
    "**На этом этапе выполнено:**\n",
    "* Созданы модели для расчета предзказаний на этапе флотации\n",
    "* Модели проверены с помощью техники кросс-валидация для выбора наиболее подходящей"
   ]
  },
  {
   "cell_type": "markdown",
   "id": "a4e503a5",
   "metadata": {},
   "source": [
    "#### Финальный recovery"
   ]
  },
  {
   "cell_type": "code",
   "execution_count": 19,
   "id": "3977fe01",
   "metadata": {
    "scrolled": false
   },
   "outputs": [],
   "source": [
    "final_data = data_train.drop(data_diff, axis=1)\n",
    "final_data = final_data.drop(\n",
    "                            ['date',\n",
    "                            'rougher.input.feed_ag', \n",
    "                            'rougher.input.feed_pb',                       \n",
    "                            'rougher.input.feed_rate',                    \n",
    "                            'rougher.input.feed_size',                     \n",
    "                            'rougher.input.feed_sol',                      \n",
    "                            'rougher.input.feed_au',                      \n",
    "                            'rougher.input.floatbank10_sulfate',           \n",
    "                            'rougher.input.floatbank10_xanthate',         \n",
    "                            'rougher.input.floatbank11_sulfate',           \n",
    "                            'rougher.input.floatbank11_xanthate',          \n",
    "                            'rougher.state.floatbank10_a_air',             \n",
    "                            'rougher.state.floatbank10_a_level',           \n",
    "                            'rougher.state.floatbank10_b_air',             \n",
    "                            'rougher.state.floatbank10_b_level',           \n",
    "                            'rougher.state.floatbank10_c_air',             \n",
    "                            'rougher.state.floatbank10_c_level',           \n",
    "                            'rougher.state.floatbank10_d_air',             \n",
    "                            'rougher.state.floatbank10_d_level',           \n",
    "                            'rougher.state.floatbank10_e_air',             \n",
    "                            'rougher.state.floatbank10_e_level',           \n",
    "                            'rougher.state.floatbank10_f_air',            \n",
    "                            'rougher.state.floatbank10_f_level'], axis=1)\n",
    "\n",
    "final_data = final_data.join(data_train['final.output.recovery'])\n",
    "\n",
    "\n",
    "final_feat = final_data.drop(['final.output.recovery'], axis=1)\n",
    "final_target = final_data['final.output.recovery']"
   ]
  },
  {
   "cell_type": "code",
   "execution_count": 20,
   "id": "2a395b07",
   "metadata": {},
   "outputs": [],
   "source": [
    "final_test_feat = data_test[final_feat.columns]\n",
    "final_test_target = data_full[data_full['date'].isin(data_test['date'])] \n",
    "final_test_target = final_test_target['final.output.recovery']"
   ]
  },
  {
   "cell_type": "markdown",
   "id": "4d8aebcf",
   "metadata": {},
   "source": [
    "**На данном этапе было выполнено:**\n",
    "* Подготовлены выборки для обучения и тестирования для предсказаний после финальной очистки"
   ]
  },
  {
   "cell_type": "code",
   "execution_count": 21,
   "id": "932a91f0",
   "metadata": {},
   "outputs": [
    {
     "name": "stdout",
     "output_type": "stream",
     "text": [
      "-9.534474490955736\n"
     ]
    }
   ],
   "source": [
    "LRF = LinearRegression()\n",
    "\n",
    "LRF_score = cross_val_score(LRF, final_feat, final_target, cv=5, scoring=smape_scorer)\n",
    "\n",
    "print(LRF_score.mean())"
   ]
  },
  {
   "cell_type": "code",
   "execution_count": 22,
   "id": "5de4a8fa",
   "metadata": {},
   "outputs": [
    {
     "name": "stdout",
     "output_type": "stream",
     "text": [
      "-18.331616762652818\n"
     ]
    }
   ],
   "source": [
    "DTF = DecisionTreeRegressor(random_state=666, max_depth=20)\n",
    "\n",
    "DTF_score = cross_val_score(DTF, final_feat, final_target, cv=5, scoring=smape_scorer)\n",
    "\n",
    "print(DTF_score.mean())"
   ]
  },
  {
   "cell_type": "code",
   "execution_count": 23,
   "id": "f28d3f63",
   "metadata": {},
   "outputs": [
    {
     "name": "stdout",
     "output_type": "stream",
     "text": [
      "-12.912752826320084\n"
     ]
    }
   ],
   "source": [
    "FTF = RandomForestRegressor(random_state=666, max_depth=17, n_estimators=12)\n",
    "\n",
    "FTF_score = cross_val_score(FTF, final_feat, final_target, cv=5, scoring=smape_scorer)\n",
    "\n",
    "print(FTF_score.mean())"
   ]
  },
  {
   "cell_type": "markdown",
   "id": "abac6039",
   "metadata": {},
   "source": [
    "**На этом этапе выполнено:**\n",
    "* Созданы модели для расчета предзказаний на финальном этапе\n",
    "* Модели проверены с помощью техники кросс-валидация для выбора наиболее подходящей\n",
    "\n",
    "**Вывод:**\n",
    "\n",
    "Наиболее подходящей под нашу задачу оказались модели *леса деревьев и линейной регрессии*."
   ]
  },
  {
   "cell_type": "markdown",
   "id": "009028a4",
   "metadata": {},
   "source": [
    "### Итоговые модели"
   ]
  },
  {
   "cell_type": "markdown",
   "id": "466f0538",
   "metadata": {},
   "source": [
    "#### Подберем лучшие параметры с помощью GridSearch"
   ]
  },
  {
   "cell_type": "code",
   "execution_count": 24,
   "id": "fc903db6",
   "metadata": {},
   "outputs": [
    {
     "name": "stdout",
     "output_type": "stream",
     "text": [
      "sMAPE флотации: 8.422023221887535\n"
     ]
    }
   ],
   "source": [
    "parametrs = {\n",
    "    'max_depth': range(1, 40, 1),\n",
    "    'n_estimators': range(1, 5, 1)\n",
    "}\n",
    "\n",
    "grid = GridSearchCV(FT, param_grid=parametrs, cv=5, scoring=smape_scorer, n_jobs=-1)\n",
    "\n",
    "FT_best = grid.fit(rougher_feat, rougher_target)\n",
    "FT_proba = FT_best.predict(rougher_test_feat)\n",
    "rougher_smape = smape(rougher_test_target, FT_proba)\n",
    "\n",
    "print('sMAPE флотации:', rougher_smape)"
   ]
  },
  {
   "cell_type": "code",
   "execution_count": 25,
   "id": "f573ea1d",
   "metadata": {},
   "outputs": [
    {
     "name": "stdout",
     "output_type": "stream",
     "text": [
      "sMAPE dummy флотации: 8.910428537608551\n"
     ]
    }
   ],
   "source": [
    "dummy = DummyRegressor(strategy=\"mean\")\n",
    "\n",
    "dummy.fit(rougher_feat, rougher_target)\n",
    "dummy_proba = dummy.predict(rougher_test_feat)\n",
    "dummy_smape = smape(rougher_test_target, dummy_proba)\n",
    "\n",
    "print('sMAPE dummy флотации:', dummy_smape)"
   ]
  },
  {
   "cell_type": "code",
   "execution_count": 26,
   "id": "576e701a",
   "metadata": {
    "scrolled": true
   },
   "outputs": [
    {
     "name": "stdout",
     "output_type": "stream",
     "text": [
      "sMAPE финальный: 9.632832359113555\n"
     ]
    }
   ],
   "source": [
    "LRF_best = LRF.fit(final_feat, final_target)\n",
    "LRF_proba = LRF_best.predict(final_test_feat)\n",
    "final_smape = smape(final_test_target, LRF_proba)\n",
    "\n",
    "print('sMAPE финальный:', final_smape)"
   ]
  },
  {
   "cell_type": "code",
   "execution_count": 27,
   "id": "da1e6da8",
   "metadata": {},
   "outputs": [
    {
     "name": "stdout",
     "output_type": "stream",
     "text": [
      "sMAPE dummy финальный: 9.970153610781711\n"
     ]
    }
   ],
   "source": [
    "dummy_f = DummyRegressor(strategy=\"mean\")\n",
    "\n",
    "dummy_f.fit(final_feat, final_target)\n",
    "dummy_f_proba = dummy_f.predict(final_test_feat)\n",
    "dummy_f_smape = smape(final_test_target, dummy_f_proba)\n",
    "\n",
    "print('sMAPE dummy финальный:', dummy_f_smape)"
   ]
  },
  {
   "cell_type": "markdown",
   "id": "75e5fbd3",
   "metadata": {},
   "source": [
    "**На этом этапе выполнено:**\n",
    "* Для обеих моделей подобраны наилучшие параметры с помощью техники GridSearch\n",
    "* С помощью созданной ранее формулы расчитано sMAPE для этапов флотации и финальной очистки"
   ]
  },
  {
   "cell_type": "markdown",
   "id": "360c1300",
   "metadata": {},
   "source": [
    "### Итоговый sMAPE"
   ]
  },
  {
   "cell_type": "code",
   "execution_count": 28,
   "id": "15c23523",
   "metadata": {},
   "outputs": [],
   "source": [
    "def smape_grand(rougher, final):\n",
    "    return (0.25 * rougher) + (0.75 * final)"
   ]
  },
  {
   "cell_type": "code",
   "execution_count": 29,
   "id": "4880128e",
   "metadata": {},
   "outputs": [
    {
     "name": "stdout",
     "output_type": "stream",
     "text": [
      "9.33013007480705\n"
     ]
    }
   ],
   "source": [
    "grand_smape = smape_grand(rougher_smape, final_smape)\n",
    "\n",
    "print(grand_smape)"
   ]
  },
  {
   "cell_type": "markdown",
   "id": "1557218b",
   "metadata": {},
   "source": [
    "**Вывод:**\n",
    "Наилучшей моделью для расчета предсказаний recovery этапов флотации и финальной очистки стали **лес деревьев и линейная регрессия**.\n",
    "Однако, несмотря на лучшие показатели, предсказания могут оказаться *не точными*, т.к. разница со средними значениями, предсказанными **dummy** моделью очень маленькая.\n",
    "Стоит отметить, что все модели показали слабые результаты и не подходят для реальной работы с подобными данными. Возможно, дело именно в самих данных или в их некорректных замерах. \n",
    "\n",
    "**Итоговый sMAPE на предсказанных данных составил 9.33.**"
   ]
  }
 ],
 "metadata": {
  "ExecuteTimeLog": [
   {
    "duration": 3672,
    "start_time": "2023-01-24T12:22:02.729Z"
   },
   {
    "duration": 843,
    "start_time": "2023-01-24T12:22:06.403Z"
   },
   {
    "duration": 28,
    "start_time": "2023-01-24T12:22:07.248Z"
   },
   {
    "duration": 35,
    "start_time": "2023-01-24T12:22:07.278Z"
   },
   {
    "duration": 29,
    "start_time": "2023-01-24T12:22:07.316Z"
   },
   {
    "duration": 180,
    "start_time": "2023-01-24T12:22:07.347Z"
   },
   {
    "duration": 989,
    "start_time": "2023-01-24T12:22:07.529Z"
   },
   {
    "duration": 1091,
    "start_time": "2023-01-24T12:22:08.521Z"
   },
   {
    "duration": 795,
    "start_time": "2023-01-24T12:22:09.614Z"
   },
   {
    "duration": 498,
    "start_time": "2023-01-24T12:22:10.412Z"
   },
   {
    "duration": 834,
    "start_time": "2023-01-24T12:22:10.912Z"
   },
   {
    "duration": 4,
    "start_time": "2023-01-24T12:22:11.748Z"
   },
   {
    "duration": 26,
    "start_time": "2023-01-24T12:22:11.754Z"
   },
   {
    "duration": 22,
    "start_time": "2023-01-24T12:22:11.782Z"
   },
   {
    "duration": 33,
    "start_time": "2023-01-24T12:22:32.999Z"
   },
   {
    "duration": 10,
    "start_time": "2023-01-24T12:26:23.793Z"
   }
  ],
  "kernelspec": {
   "display_name": "Python 3 (ipykernel)",
   "language": "python",
   "name": "python3"
  },
  "language_info": {
   "codemirror_mode": {
    "name": "ipython",
    "version": 3
   },
   "file_extension": ".py",
   "mimetype": "text/x-python",
   "name": "python",
   "nbconvert_exporter": "python",
   "pygments_lexer": "ipython3",
   "version": "3.9.13"
  },
  "toc": {
   "base_numbering": 1,
   "nav_menu": {},
   "number_sections": true,
   "sideBar": true,
   "skip_h1_title": true,
   "title_cell": "Table of Contents",
   "title_sidebar": "Contents",
   "toc_cell": false,
   "toc_position": {},
   "toc_section_display": true,
   "toc_window_display": false
  }
 },
 "nbformat": 4,
 "nbformat_minor": 5
}
