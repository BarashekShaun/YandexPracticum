{
 "cells": [
  {
   "cell_type": "markdown",
   "id": "20b76738",
   "metadata": {},
   "source": [
    "# Промышленность — задача проекта\n",
    "\n",
    "Чтобы оптимизировать производственные расходы, металлургический комбинат ООО «Так закаляем сталь» решил уменьшить потребление электроэнергии на этапе обработки стали. Вам предстоит построить модель, которая предскажет температуру стали.\n",
    "\n",
    "### Описание этапа обработки\n",
    "\n",
    "Сталь обрабатывают в металлическом ковше вместимостью около 100 тонн. Чтобы ковш выдерживал высокие температуры, изнутри его облицовывают огнеупорным кирпичом. Расплавленную сталь заливают в ковш и подогревают до нужной температуры графитовыми электродами. Они установлены в крышке ковша. \n",
    "\n",
    "Из сплава выводится сера (десульфурация), добавлением примесей корректируется химический состав и отбираются пробы. Сталь легируют — изменяют её состав — подавая куски сплава из бункера для сыпучих материалов или проволоку через специальный трайб-аппарат (англ. tribe, «масса»).\n",
    "\n",
    "Перед тем как первый раз ввести легирующие добавки, измеряют температуру стали и производят её химический анализ. Потом температуру на несколько минут повышают, добавляют легирующие материалы и продувают сплав инертным газом. Затем его перемешивают и снова проводят измерения. Такой цикл повторяется до достижения целевого химического состава и оптимальной температуры плавки.\n",
    "\n",
    "Тогда расплавленная сталь отправляется на доводку металла или поступает в машину непрерывной разливки. Оттуда готовый продукт выходит в виде заготовок-слябов (англ. *slab*, «плита»).\n",
    "\n",
    "### Описание данных\n",
    "\n",
    "Данные состоят из файлов, полученных из разных источников:\n",
    "\n",
    "- `data_arc_new.csv` — данные об электродах;\n",
    "- `data_bulk_new.csv` — данные о подаче сыпучих материалов (объём);\n",
    "- `data_bulk_time_new.csv` *—* данные о подаче сыпучих материалов (время);\n",
    "- `data_gas_new.csv` — данные о продувке сплава газом;\n",
    "- `data_temp_new.csv` — результаты измерения температуры;\n",
    "- `data_wire_new.csv` — данные о проволочных материалах (объём);\n",
    "- `data_wire_time_new.csv` — данные о проволочных материалах (время).\n",
    "\n",
    "Во всех файлах столбец `key` содержит номер партии. В файлах может быть несколько строк с одинаковым значением `key`: они соответствуют разным итерациям обработки."
   ]
  },
  {
   "cell_type": "code",
   "execution_count": 2,
   "id": "4e41dab1",
   "metadata": {},
   "outputs": [],
   "source": [
    "import pandas as pd\n",
    "from tqdm.notebook import tqdm\n",
    "\n",
    "import seaborn as sns\n",
    "import matplotlib.pyplot as plt\n",
    "\n",
    "from sklearn.model_selection import train_test_split, GridSearchCV\n",
    "from sklearn.metrics import mean_absolute_error, make_scorer\n",
    "\n",
    "from sklearn.linear_model import LinearRegression\n",
    "from sklearn.ensemble import RandomForestRegressor\n",
    "from catboost import CatBoostRegressor\n",
    "\n",
    "\n",
    "RANDOM_STATE = 80523"
   ]
  },
  {
   "cell_type": "markdown",
   "id": "6209ad20",
   "metadata": {},
   "source": [
    "## Загрузим"
   ]
  },
  {
   "cell_type": "code",
   "execution_count": 3,
   "id": "d56dfdde",
   "metadata": {
    "scrolled": false
   },
   "outputs": [
    {
     "name": "stdout",
     "output_type": "stream",
     "text": [
      "local data ready\n",
      "\n",
      "<class 'pandas.core.frame.DataFrame'>\n",
      "RangeIndex: 14876 entries, 0 to 14875\n",
      "Data columns (total 5 columns):\n",
      " #   Column                Non-Null Count  Dtype  \n",
      "---  ------                --------------  -----  \n",
      " 0   key                   14876 non-null  int64  \n",
      " 1   Начало нагрева дугой  14876 non-null  object \n",
      " 2   Конец нагрева дугой   14876 non-null  object \n",
      " 3   Активная мощность     14876 non-null  float64\n",
      " 4   Реактивная мощность   14876 non-null  float64\n",
      "dtypes: float64(2), int64(1), object(2)\n",
      "memory usage: 581.2+ KB\n"
     ]
    },
    {
     "data": {
      "text/plain": [
       "None"
      ]
     },
     "metadata": {},
     "output_type": "display_data"
    },
    {
     "data": {
      "text/html": [
       "<div>\n",
       "<style scoped>\n",
       "    .dataframe tbody tr th:only-of-type {\n",
       "        vertical-align: middle;\n",
       "    }\n",
       "\n",
       "    .dataframe tbody tr th {\n",
       "        vertical-align: top;\n",
       "    }\n",
       "\n",
       "    .dataframe thead th {\n",
       "        text-align: right;\n",
       "    }\n",
       "</style>\n",
       "<table border=\"1\" class=\"dataframe\">\n",
       "  <thead>\n",
       "    <tr style=\"text-align: right;\">\n",
       "      <th></th>\n",
       "      <th>key</th>\n",
       "      <th>Начало нагрева дугой</th>\n",
       "      <th>Конец нагрева дугой</th>\n",
       "      <th>Активная мощность</th>\n",
       "      <th>Реактивная мощность</th>\n",
       "    </tr>\n",
       "  </thead>\n",
       "  <tbody>\n",
       "    <tr>\n",
       "      <th>0</th>\n",
       "      <td>1</td>\n",
       "      <td>2019-05-03 11:02:14</td>\n",
       "      <td>2019-05-03 11:06:02</td>\n",
       "      <td>0.305130</td>\n",
       "      <td>0.211253</td>\n",
       "    </tr>\n",
       "    <tr>\n",
       "      <th>1</th>\n",
       "      <td>1</td>\n",
       "      <td>2019-05-03 11:07:28</td>\n",
       "      <td>2019-05-03 11:10:33</td>\n",
       "      <td>0.765658</td>\n",
       "      <td>0.477438</td>\n",
       "    </tr>\n",
       "    <tr>\n",
       "      <th>2</th>\n",
       "      <td>1</td>\n",
       "      <td>2019-05-03 11:11:44</td>\n",
       "      <td>2019-05-03 11:14:36</td>\n",
       "      <td>0.580313</td>\n",
       "      <td>0.430460</td>\n",
       "    </tr>\n",
       "    <tr>\n",
       "      <th>3</th>\n",
       "      <td>1</td>\n",
       "      <td>2019-05-03 11:18:14</td>\n",
       "      <td>2019-05-03 11:24:19</td>\n",
       "      <td>0.518496</td>\n",
       "      <td>0.379979</td>\n",
       "    </tr>\n",
       "    <tr>\n",
       "      <th>4</th>\n",
       "      <td>1</td>\n",
       "      <td>2019-05-03 11:26:09</td>\n",
       "      <td>2019-05-03 11:28:37</td>\n",
       "      <td>0.867133</td>\n",
       "      <td>0.643691</td>\n",
       "    </tr>\n",
       "  </tbody>\n",
       "</table>\n",
       "</div>"
      ],
      "text/plain": [
       "   key Начало нагрева дугой  Конец нагрева дугой  Активная мощность  \\\n",
       "0    1  2019-05-03 11:02:14  2019-05-03 11:06:02           0.305130   \n",
       "1    1  2019-05-03 11:07:28  2019-05-03 11:10:33           0.765658   \n",
       "2    1  2019-05-03 11:11:44  2019-05-03 11:14:36           0.580313   \n",
       "3    1  2019-05-03 11:18:14  2019-05-03 11:24:19           0.518496   \n",
       "4    1  2019-05-03 11:26:09  2019-05-03 11:28:37           0.867133   \n",
       "\n",
       "   Реактивная мощность  \n",
       "0             0.211253  \n",
       "1             0.477438  \n",
       "2             0.430460  \n",
       "3             0.379979  \n",
       "4             0.643691  "
      ]
     },
     "metadata": {},
     "output_type": "display_data"
    },
    {
     "name": "stdout",
     "output_type": "stream",
     "text": [
      "\n",
      "\n",
      "<class 'pandas.core.frame.DataFrame'>\n",
      "RangeIndex: 3129 entries, 0 to 3128\n",
      "Data columns (total 16 columns):\n",
      " #   Column   Non-Null Count  Dtype  \n",
      "---  ------   --------------  -----  \n",
      " 0   key      3129 non-null   int64  \n",
      " 1   Bulk 1   252 non-null    float64\n",
      " 2   Bulk 2   22 non-null     float64\n",
      " 3   Bulk 3   1298 non-null   float64\n",
      " 4   Bulk 4   1014 non-null   float64\n",
      " 5   Bulk 5   77 non-null     float64\n",
      " 6   Bulk 6   576 non-null    float64\n",
      " 7   Bulk 7   25 non-null     float64\n",
      " 8   Bulk 8   1 non-null      float64\n",
      " 9   Bulk 9   19 non-null     float64\n",
      " 10  Bulk 10  176 non-null    float64\n",
      " 11  Bulk 11  177 non-null    float64\n",
      " 12  Bulk 12  2450 non-null   float64\n",
      " 13  Bulk 13  18 non-null     float64\n",
      " 14  Bulk 14  2806 non-null   float64\n",
      " 15  Bulk 15  2248 non-null   float64\n",
      "dtypes: float64(15), int64(1)\n",
      "memory usage: 391.2 KB\n"
     ]
    },
    {
     "data": {
      "text/plain": [
       "None"
      ]
     },
     "metadata": {},
     "output_type": "display_data"
    },
    {
     "data": {
      "text/html": [
       "<div>\n",
       "<style scoped>\n",
       "    .dataframe tbody tr th:only-of-type {\n",
       "        vertical-align: middle;\n",
       "    }\n",
       "\n",
       "    .dataframe tbody tr th {\n",
       "        vertical-align: top;\n",
       "    }\n",
       "\n",
       "    .dataframe thead th {\n",
       "        text-align: right;\n",
       "    }\n",
       "</style>\n",
       "<table border=\"1\" class=\"dataframe\">\n",
       "  <thead>\n",
       "    <tr style=\"text-align: right;\">\n",
       "      <th></th>\n",
       "      <th>key</th>\n",
       "      <th>Bulk 1</th>\n",
       "      <th>Bulk 2</th>\n",
       "      <th>Bulk 3</th>\n",
       "      <th>Bulk 4</th>\n",
       "      <th>Bulk 5</th>\n",
       "      <th>Bulk 6</th>\n",
       "      <th>Bulk 7</th>\n",
       "      <th>Bulk 8</th>\n",
       "      <th>Bulk 9</th>\n",
       "      <th>Bulk 10</th>\n",
       "      <th>Bulk 11</th>\n",
       "      <th>Bulk 12</th>\n",
       "      <th>Bulk 13</th>\n",
       "      <th>Bulk 14</th>\n",
       "      <th>Bulk 15</th>\n",
       "    </tr>\n",
       "  </thead>\n",
       "  <tbody>\n",
       "    <tr>\n",
       "      <th>0</th>\n",
       "      <td>1</td>\n",
       "      <td>NaN</td>\n",
       "      <td>NaN</td>\n",
       "      <td>NaN</td>\n",
       "      <td>43.0</td>\n",
       "      <td>NaN</td>\n",
       "      <td>NaN</td>\n",
       "      <td>NaN</td>\n",
       "      <td>NaN</td>\n",
       "      <td>NaN</td>\n",
       "      <td>NaN</td>\n",
       "      <td>NaN</td>\n",
       "      <td>206.0</td>\n",
       "      <td>NaN</td>\n",
       "      <td>150.0</td>\n",
       "      <td>154.0</td>\n",
       "    </tr>\n",
       "    <tr>\n",
       "      <th>1</th>\n",
       "      <td>2</td>\n",
       "      <td>NaN</td>\n",
       "      <td>NaN</td>\n",
       "      <td>NaN</td>\n",
       "      <td>73.0</td>\n",
       "      <td>NaN</td>\n",
       "      <td>NaN</td>\n",
       "      <td>NaN</td>\n",
       "      <td>NaN</td>\n",
       "      <td>NaN</td>\n",
       "      <td>NaN</td>\n",
       "      <td>NaN</td>\n",
       "      <td>206.0</td>\n",
       "      <td>NaN</td>\n",
       "      <td>149.0</td>\n",
       "      <td>154.0</td>\n",
       "    </tr>\n",
       "    <tr>\n",
       "      <th>2</th>\n",
       "      <td>3</td>\n",
       "      <td>NaN</td>\n",
       "      <td>NaN</td>\n",
       "      <td>NaN</td>\n",
       "      <td>34.0</td>\n",
       "      <td>NaN</td>\n",
       "      <td>NaN</td>\n",
       "      <td>NaN</td>\n",
       "      <td>NaN</td>\n",
       "      <td>NaN</td>\n",
       "      <td>NaN</td>\n",
       "      <td>NaN</td>\n",
       "      <td>205.0</td>\n",
       "      <td>NaN</td>\n",
       "      <td>152.0</td>\n",
       "      <td>153.0</td>\n",
       "    </tr>\n",
       "    <tr>\n",
       "      <th>3</th>\n",
       "      <td>4</td>\n",
       "      <td>NaN</td>\n",
       "      <td>NaN</td>\n",
       "      <td>NaN</td>\n",
       "      <td>81.0</td>\n",
       "      <td>NaN</td>\n",
       "      <td>NaN</td>\n",
       "      <td>NaN</td>\n",
       "      <td>NaN</td>\n",
       "      <td>NaN</td>\n",
       "      <td>NaN</td>\n",
       "      <td>NaN</td>\n",
       "      <td>207.0</td>\n",
       "      <td>NaN</td>\n",
       "      <td>153.0</td>\n",
       "      <td>154.0</td>\n",
       "    </tr>\n",
       "    <tr>\n",
       "      <th>4</th>\n",
       "      <td>5</td>\n",
       "      <td>NaN</td>\n",
       "      <td>NaN</td>\n",
       "      <td>NaN</td>\n",
       "      <td>78.0</td>\n",
       "      <td>NaN</td>\n",
       "      <td>NaN</td>\n",
       "      <td>NaN</td>\n",
       "      <td>NaN</td>\n",
       "      <td>NaN</td>\n",
       "      <td>NaN</td>\n",
       "      <td>NaN</td>\n",
       "      <td>203.0</td>\n",
       "      <td>NaN</td>\n",
       "      <td>151.0</td>\n",
       "      <td>152.0</td>\n",
       "    </tr>\n",
       "  </tbody>\n",
       "</table>\n",
       "</div>"
      ],
      "text/plain": [
       "   key  Bulk 1  Bulk 2  Bulk 3  Bulk 4  Bulk 5  Bulk 6  Bulk 7  Bulk 8  \\\n",
       "0    1     NaN     NaN     NaN    43.0     NaN     NaN     NaN     NaN   \n",
       "1    2     NaN     NaN     NaN    73.0     NaN     NaN     NaN     NaN   \n",
       "2    3     NaN     NaN     NaN    34.0     NaN     NaN     NaN     NaN   \n",
       "3    4     NaN     NaN     NaN    81.0     NaN     NaN     NaN     NaN   \n",
       "4    5     NaN     NaN     NaN    78.0     NaN     NaN     NaN     NaN   \n",
       "\n",
       "   Bulk 9  Bulk 10  Bulk 11  Bulk 12  Bulk 13  Bulk 14  Bulk 15  \n",
       "0     NaN      NaN      NaN    206.0      NaN    150.0    154.0  \n",
       "1     NaN      NaN      NaN    206.0      NaN    149.0    154.0  \n",
       "2     NaN      NaN      NaN    205.0      NaN    152.0    153.0  \n",
       "3     NaN      NaN      NaN    207.0      NaN    153.0    154.0  \n",
       "4     NaN      NaN      NaN    203.0      NaN    151.0    152.0  "
      ]
     },
     "metadata": {},
     "output_type": "display_data"
    },
    {
     "name": "stdout",
     "output_type": "stream",
     "text": [
      "\n",
      "\n",
      "<class 'pandas.core.frame.DataFrame'>\n",
      "RangeIndex: 3129 entries, 0 to 3128\n",
      "Data columns (total 16 columns):\n",
      " #   Column   Non-Null Count  Dtype \n",
      "---  ------   --------------  ----- \n",
      " 0   key      3129 non-null   int64 \n",
      " 1   Bulk 1   252 non-null    object\n",
      " 2   Bulk 2   22 non-null     object\n",
      " 3   Bulk 3   1298 non-null   object\n",
      " 4   Bulk 4   1014 non-null   object\n",
      " 5   Bulk 5   77 non-null     object\n",
      " 6   Bulk 6   576 non-null    object\n",
      " 7   Bulk 7   25 non-null     object\n",
      " 8   Bulk 8   1 non-null      object\n",
      " 9   Bulk 9   19 non-null     object\n",
      " 10  Bulk 10  176 non-null    object\n",
      " 11  Bulk 11  177 non-null    object\n",
      " 12  Bulk 12  2450 non-null   object\n",
      " 13  Bulk 13  18 non-null     object\n",
      " 14  Bulk 14  2806 non-null   object\n",
      " 15  Bulk 15  2248 non-null   object\n",
      "dtypes: int64(1), object(15)\n",
      "memory usage: 391.2+ KB\n"
     ]
    },
    {
     "data": {
      "text/plain": [
       "None"
      ]
     },
     "metadata": {},
     "output_type": "display_data"
    },
    {
     "data": {
      "text/html": [
       "<div>\n",
       "<style scoped>\n",
       "    .dataframe tbody tr th:only-of-type {\n",
       "        vertical-align: middle;\n",
       "    }\n",
       "\n",
       "    .dataframe tbody tr th {\n",
       "        vertical-align: top;\n",
       "    }\n",
       "\n",
       "    .dataframe thead th {\n",
       "        text-align: right;\n",
       "    }\n",
       "</style>\n",
       "<table border=\"1\" class=\"dataframe\">\n",
       "  <thead>\n",
       "    <tr style=\"text-align: right;\">\n",
       "      <th></th>\n",
       "      <th>key</th>\n",
       "      <th>Bulk 1</th>\n",
       "      <th>Bulk 2</th>\n",
       "      <th>Bulk 3</th>\n",
       "      <th>Bulk 4</th>\n",
       "      <th>Bulk 5</th>\n",
       "      <th>Bulk 6</th>\n",
       "      <th>Bulk 7</th>\n",
       "      <th>Bulk 8</th>\n",
       "      <th>Bulk 9</th>\n",
       "      <th>Bulk 10</th>\n",
       "      <th>Bulk 11</th>\n",
       "      <th>Bulk 12</th>\n",
       "      <th>Bulk 13</th>\n",
       "      <th>Bulk 14</th>\n",
       "      <th>Bulk 15</th>\n",
       "    </tr>\n",
       "  </thead>\n",
       "  <tbody>\n",
       "    <tr>\n",
       "      <th>0</th>\n",
       "      <td>1</td>\n",
       "      <td>NaN</td>\n",
       "      <td>NaN</td>\n",
       "      <td>NaN</td>\n",
       "      <td>2019-05-03 11:28:48</td>\n",
       "      <td>NaN</td>\n",
       "      <td>NaN</td>\n",
       "      <td>NaN</td>\n",
       "      <td>NaN</td>\n",
       "      <td>NaN</td>\n",
       "      <td>NaN</td>\n",
       "      <td>NaN</td>\n",
       "      <td>2019-05-03 11:24:31</td>\n",
       "      <td>NaN</td>\n",
       "      <td>2019-05-03 11:14:50</td>\n",
       "      <td>2019-05-03 11:10:43</td>\n",
       "    </tr>\n",
       "    <tr>\n",
       "      <th>1</th>\n",
       "      <td>2</td>\n",
       "      <td>NaN</td>\n",
       "      <td>NaN</td>\n",
       "      <td>NaN</td>\n",
       "      <td>2019-05-03 11:36:50</td>\n",
       "      <td>NaN</td>\n",
       "      <td>NaN</td>\n",
       "      <td>NaN</td>\n",
       "      <td>NaN</td>\n",
       "      <td>NaN</td>\n",
       "      <td>NaN</td>\n",
       "      <td>NaN</td>\n",
       "      <td>2019-05-03 11:53:30</td>\n",
       "      <td>NaN</td>\n",
       "      <td>2019-05-03 11:48:37</td>\n",
       "      <td>2019-05-03 11:44:39</td>\n",
       "    </tr>\n",
       "    <tr>\n",
       "      <th>2</th>\n",
       "      <td>3</td>\n",
       "      <td>NaN</td>\n",
       "      <td>NaN</td>\n",
       "      <td>NaN</td>\n",
       "      <td>2019-05-03 12:32:39</td>\n",
       "      <td>NaN</td>\n",
       "      <td>NaN</td>\n",
       "      <td>NaN</td>\n",
       "      <td>NaN</td>\n",
       "      <td>NaN</td>\n",
       "      <td>NaN</td>\n",
       "      <td>NaN</td>\n",
       "      <td>2019-05-03 12:27:13</td>\n",
       "      <td>NaN</td>\n",
       "      <td>2019-05-03 12:21:01</td>\n",
       "      <td>2019-05-03 12:16:16</td>\n",
       "    </tr>\n",
       "    <tr>\n",
       "      <th>3</th>\n",
       "      <td>4</td>\n",
       "      <td>NaN</td>\n",
       "      <td>NaN</td>\n",
       "      <td>NaN</td>\n",
       "      <td>2019-05-03 12:43:22</td>\n",
       "      <td>NaN</td>\n",
       "      <td>NaN</td>\n",
       "      <td>NaN</td>\n",
       "      <td>NaN</td>\n",
       "      <td>NaN</td>\n",
       "      <td>NaN</td>\n",
       "      <td>NaN</td>\n",
       "      <td>2019-05-03 12:58:00</td>\n",
       "      <td>NaN</td>\n",
       "      <td>2019-05-03 12:51:11</td>\n",
       "      <td>2019-05-03 12:46:36</td>\n",
       "    </tr>\n",
       "    <tr>\n",
       "      <th>4</th>\n",
       "      <td>5</td>\n",
       "      <td>NaN</td>\n",
       "      <td>NaN</td>\n",
       "      <td>NaN</td>\n",
       "      <td>2019-05-03 13:30:47</td>\n",
       "      <td>NaN</td>\n",
       "      <td>NaN</td>\n",
       "      <td>NaN</td>\n",
       "      <td>NaN</td>\n",
       "      <td>NaN</td>\n",
       "      <td>NaN</td>\n",
       "      <td>NaN</td>\n",
       "      <td>2019-05-03 13:30:47</td>\n",
       "      <td>NaN</td>\n",
       "      <td>2019-05-03 13:34:12</td>\n",
       "      <td>2019-05-03 13:30:47</td>\n",
       "    </tr>\n",
       "  </tbody>\n",
       "</table>\n",
       "</div>"
      ],
      "text/plain": [
       "   key Bulk 1 Bulk 2 Bulk 3               Bulk 4 Bulk 5 Bulk 6 Bulk 7 Bulk 8  \\\n",
       "0    1    NaN    NaN    NaN  2019-05-03 11:28:48    NaN    NaN    NaN    NaN   \n",
       "1    2    NaN    NaN    NaN  2019-05-03 11:36:50    NaN    NaN    NaN    NaN   \n",
       "2    3    NaN    NaN    NaN  2019-05-03 12:32:39    NaN    NaN    NaN    NaN   \n",
       "3    4    NaN    NaN    NaN  2019-05-03 12:43:22    NaN    NaN    NaN    NaN   \n",
       "4    5    NaN    NaN    NaN  2019-05-03 13:30:47    NaN    NaN    NaN    NaN   \n",
       "\n",
       "  Bulk 9 Bulk 10 Bulk 11              Bulk 12 Bulk 13              Bulk 14  \\\n",
       "0    NaN     NaN     NaN  2019-05-03 11:24:31     NaN  2019-05-03 11:14:50   \n",
       "1    NaN     NaN     NaN  2019-05-03 11:53:30     NaN  2019-05-03 11:48:37   \n",
       "2    NaN     NaN     NaN  2019-05-03 12:27:13     NaN  2019-05-03 12:21:01   \n",
       "3    NaN     NaN     NaN  2019-05-03 12:58:00     NaN  2019-05-03 12:51:11   \n",
       "4    NaN     NaN     NaN  2019-05-03 13:30:47     NaN  2019-05-03 13:34:12   \n",
       "\n",
       "               Bulk 15  \n",
       "0  2019-05-03 11:10:43  \n",
       "1  2019-05-03 11:44:39  \n",
       "2  2019-05-03 12:16:16  \n",
       "3  2019-05-03 12:46:36  \n",
       "4  2019-05-03 13:30:47  "
      ]
     },
     "metadata": {},
     "output_type": "display_data"
    },
    {
     "name": "stdout",
     "output_type": "stream",
     "text": [
      "\n",
      "\n",
      "<class 'pandas.core.frame.DataFrame'>\n",
      "RangeIndex: 3239 entries, 0 to 3238\n",
      "Data columns (total 2 columns):\n",
      " #   Column  Non-Null Count  Dtype  \n",
      "---  ------  --------------  -----  \n",
      " 0   key     3239 non-null   int64  \n",
      " 1   Газ 1   3239 non-null   float64\n",
      "dtypes: float64(1), int64(1)\n",
      "memory usage: 50.7 KB\n"
     ]
    },
    {
     "data": {
      "text/plain": [
       "None"
      ]
     },
     "metadata": {},
     "output_type": "display_data"
    },
    {
     "data": {
      "text/html": [
       "<div>\n",
       "<style scoped>\n",
       "    .dataframe tbody tr th:only-of-type {\n",
       "        vertical-align: middle;\n",
       "    }\n",
       "\n",
       "    .dataframe tbody tr th {\n",
       "        vertical-align: top;\n",
       "    }\n",
       "\n",
       "    .dataframe thead th {\n",
       "        text-align: right;\n",
       "    }\n",
       "</style>\n",
       "<table border=\"1\" class=\"dataframe\">\n",
       "  <thead>\n",
       "    <tr style=\"text-align: right;\">\n",
       "      <th></th>\n",
       "      <th>key</th>\n",
       "      <th>Газ 1</th>\n",
       "    </tr>\n",
       "  </thead>\n",
       "  <tbody>\n",
       "    <tr>\n",
       "      <th>0</th>\n",
       "      <td>1</td>\n",
       "      <td>29.749986</td>\n",
       "    </tr>\n",
       "    <tr>\n",
       "      <th>1</th>\n",
       "      <td>2</td>\n",
       "      <td>12.555561</td>\n",
       "    </tr>\n",
       "    <tr>\n",
       "      <th>2</th>\n",
       "      <td>3</td>\n",
       "      <td>28.554793</td>\n",
       "    </tr>\n",
       "    <tr>\n",
       "      <th>3</th>\n",
       "      <td>4</td>\n",
       "      <td>18.841219</td>\n",
       "    </tr>\n",
       "    <tr>\n",
       "      <th>4</th>\n",
       "      <td>5</td>\n",
       "      <td>5.413692</td>\n",
       "    </tr>\n",
       "  </tbody>\n",
       "</table>\n",
       "</div>"
      ],
      "text/plain": [
       "   key      Газ 1\n",
       "0    1  29.749986\n",
       "1    2  12.555561\n",
       "2    3  28.554793\n",
       "3    4  18.841219\n",
       "4    5   5.413692"
      ]
     },
     "metadata": {},
     "output_type": "display_data"
    },
    {
     "name": "stdout",
     "output_type": "stream",
     "text": [
      "\n",
      "\n",
      "<class 'pandas.core.frame.DataFrame'>\n",
      "RangeIndex: 18092 entries, 0 to 18091\n",
      "Data columns (total 3 columns):\n",
      " #   Column        Non-Null Count  Dtype  \n",
      "---  ------        --------------  -----  \n",
      " 0   key           18092 non-null  int64  \n",
      " 1   Время замера  18092 non-null  object \n",
      " 2   Температура   14665 non-null  float64\n",
      "dtypes: float64(1), int64(1), object(1)\n",
      "memory usage: 424.2+ KB\n"
     ]
    },
    {
     "data": {
      "text/plain": [
       "None"
      ]
     },
     "metadata": {},
     "output_type": "display_data"
    },
    {
     "data": {
      "text/html": [
       "<div>\n",
       "<style scoped>\n",
       "    .dataframe tbody tr th:only-of-type {\n",
       "        vertical-align: middle;\n",
       "    }\n",
       "\n",
       "    .dataframe tbody tr th {\n",
       "        vertical-align: top;\n",
       "    }\n",
       "\n",
       "    .dataframe thead th {\n",
       "        text-align: right;\n",
       "    }\n",
       "</style>\n",
       "<table border=\"1\" class=\"dataframe\">\n",
       "  <thead>\n",
       "    <tr style=\"text-align: right;\">\n",
       "      <th></th>\n",
       "      <th>key</th>\n",
       "      <th>Время замера</th>\n",
       "      <th>Температура</th>\n",
       "    </tr>\n",
       "  </thead>\n",
       "  <tbody>\n",
       "    <tr>\n",
       "      <th>0</th>\n",
       "      <td>1</td>\n",
       "      <td>2019-05-03 11:02:04</td>\n",
       "      <td>1571.0</td>\n",
       "    </tr>\n",
       "    <tr>\n",
       "      <th>1</th>\n",
       "      <td>1</td>\n",
       "      <td>2019-05-03 11:07:18</td>\n",
       "      <td>1604.0</td>\n",
       "    </tr>\n",
       "    <tr>\n",
       "      <th>2</th>\n",
       "      <td>1</td>\n",
       "      <td>2019-05-03 11:11:34</td>\n",
       "      <td>1618.0</td>\n",
       "    </tr>\n",
       "    <tr>\n",
       "      <th>3</th>\n",
       "      <td>1</td>\n",
       "      <td>2019-05-03 11:18:04</td>\n",
       "      <td>1601.0</td>\n",
       "    </tr>\n",
       "    <tr>\n",
       "      <th>4</th>\n",
       "      <td>1</td>\n",
       "      <td>2019-05-03 11:25:59</td>\n",
       "      <td>1606.0</td>\n",
       "    </tr>\n",
       "  </tbody>\n",
       "</table>\n",
       "</div>"
      ],
      "text/plain": [
       "   key         Время замера  Температура\n",
       "0    1  2019-05-03 11:02:04       1571.0\n",
       "1    1  2019-05-03 11:07:18       1604.0\n",
       "2    1  2019-05-03 11:11:34       1618.0\n",
       "3    1  2019-05-03 11:18:04       1601.0\n",
       "4    1  2019-05-03 11:25:59       1606.0"
      ]
     },
     "metadata": {},
     "output_type": "display_data"
    },
    {
     "name": "stdout",
     "output_type": "stream",
     "text": [
      "\n",
      "\n",
      "<class 'pandas.core.frame.DataFrame'>\n",
      "RangeIndex: 3081 entries, 0 to 3080\n",
      "Data columns (total 10 columns):\n",
      " #   Column  Non-Null Count  Dtype  \n",
      "---  ------  --------------  -----  \n",
      " 0   key     3081 non-null   int64  \n",
      " 1   Wire 1  3055 non-null   float64\n",
      " 2   Wire 2  1079 non-null   float64\n",
      " 3   Wire 3  63 non-null     float64\n",
      " 4   Wire 4  14 non-null     float64\n",
      " 5   Wire 5  1 non-null      float64\n",
      " 6   Wire 6  73 non-null     float64\n",
      " 7   Wire 7  11 non-null     float64\n",
      " 8   Wire 8  19 non-null     float64\n",
      " 9   Wire 9  29 non-null     float64\n",
      "dtypes: float64(9), int64(1)\n",
      "memory usage: 240.8 KB\n"
     ]
    },
    {
     "data": {
      "text/plain": [
       "None"
      ]
     },
     "metadata": {},
     "output_type": "display_data"
    },
    {
     "data": {
      "text/html": [
       "<div>\n",
       "<style scoped>\n",
       "    .dataframe tbody tr th:only-of-type {\n",
       "        vertical-align: middle;\n",
       "    }\n",
       "\n",
       "    .dataframe tbody tr th {\n",
       "        vertical-align: top;\n",
       "    }\n",
       "\n",
       "    .dataframe thead th {\n",
       "        text-align: right;\n",
       "    }\n",
       "</style>\n",
       "<table border=\"1\" class=\"dataframe\">\n",
       "  <thead>\n",
       "    <tr style=\"text-align: right;\">\n",
       "      <th></th>\n",
       "      <th>key</th>\n",
       "      <th>Wire 1</th>\n",
       "      <th>Wire 2</th>\n",
       "      <th>Wire 3</th>\n",
       "      <th>Wire 4</th>\n",
       "      <th>Wire 5</th>\n",
       "      <th>Wire 6</th>\n",
       "      <th>Wire 7</th>\n",
       "      <th>Wire 8</th>\n",
       "      <th>Wire 9</th>\n",
       "    </tr>\n",
       "  </thead>\n",
       "  <tbody>\n",
       "    <tr>\n",
       "      <th>0</th>\n",
       "      <td>1</td>\n",
       "      <td>60.059998</td>\n",
       "      <td>NaN</td>\n",
       "      <td>NaN</td>\n",
       "      <td>NaN</td>\n",
       "      <td>NaN</td>\n",
       "      <td>NaN</td>\n",
       "      <td>NaN</td>\n",
       "      <td>NaN</td>\n",
       "      <td>NaN</td>\n",
       "    </tr>\n",
       "    <tr>\n",
       "      <th>1</th>\n",
       "      <td>2</td>\n",
       "      <td>96.052315</td>\n",
       "      <td>NaN</td>\n",
       "      <td>NaN</td>\n",
       "      <td>NaN</td>\n",
       "      <td>NaN</td>\n",
       "      <td>NaN</td>\n",
       "      <td>NaN</td>\n",
       "      <td>NaN</td>\n",
       "      <td>NaN</td>\n",
       "    </tr>\n",
       "    <tr>\n",
       "      <th>2</th>\n",
       "      <td>3</td>\n",
       "      <td>91.160157</td>\n",
       "      <td>NaN</td>\n",
       "      <td>NaN</td>\n",
       "      <td>NaN</td>\n",
       "      <td>NaN</td>\n",
       "      <td>NaN</td>\n",
       "      <td>NaN</td>\n",
       "      <td>NaN</td>\n",
       "      <td>NaN</td>\n",
       "    </tr>\n",
       "    <tr>\n",
       "      <th>3</th>\n",
       "      <td>4</td>\n",
       "      <td>89.063515</td>\n",
       "      <td>NaN</td>\n",
       "      <td>NaN</td>\n",
       "      <td>NaN</td>\n",
       "      <td>NaN</td>\n",
       "      <td>NaN</td>\n",
       "      <td>NaN</td>\n",
       "      <td>NaN</td>\n",
       "      <td>NaN</td>\n",
       "    </tr>\n",
       "    <tr>\n",
       "      <th>4</th>\n",
       "      <td>5</td>\n",
       "      <td>89.238236</td>\n",
       "      <td>9.11456</td>\n",
       "      <td>NaN</td>\n",
       "      <td>NaN</td>\n",
       "      <td>NaN</td>\n",
       "      <td>NaN</td>\n",
       "      <td>NaN</td>\n",
       "      <td>NaN</td>\n",
       "      <td>NaN</td>\n",
       "    </tr>\n",
       "  </tbody>\n",
       "</table>\n",
       "</div>"
      ],
      "text/plain": [
       "   key     Wire 1   Wire 2  Wire 3  Wire 4  Wire 5  Wire 6  Wire 7  Wire 8  \\\n",
       "0    1  60.059998      NaN     NaN     NaN     NaN     NaN     NaN     NaN   \n",
       "1    2  96.052315      NaN     NaN     NaN     NaN     NaN     NaN     NaN   \n",
       "2    3  91.160157      NaN     NaN     NaN     NaN     NaN     NaN     NaN   \n",
       "3    4  89.063515      NaN     NaN     NaN     NaN     NaN     NaN     NaN   \n",
       "4    5  89.238236  9.11456     NaN     NaN     NaN     NaN     NaN     NaN   \n",
       "\n",
       "   Wire 9  \n",
       "0     NaN  \n",
       "1     NaN  \n",
       "2     NaN  \n",
       "3     NaN  \n",
       "4     NaN  "
      ]
     },
     "metadata": {},
     "output_type": "display_data"
    },
    {
     "name": "stdout",
     "output_type": "stream",
     "text": [
      "\n",
      "\n",
      "<class 'pandas.core.frame.DataFrame'>\n",
      "RangeIndex: 3081 entries, 0 to 3080\n",
      "Data columns (total 10 columns):\n",
      " #   Column  Non-Null Count  Dtype \n",
      "---  ------  --------------  ----- \n",
      " 0   key     3081 non-null   int64 \n",
      " 1   Wire 1  3055 non-null   object\n",
      " 2   Wire 2  1079 non-null   object\n",
      " 3   Wire 3  63 non-null     object\n",
      " 4   Wire 4  14 non-null     object\n",
      " 5   Wire 5  1 non-null      object\n",
      " 6   Wire 6  73 non-null     object\n",
      " 7   Wire 7  11 non-null     object\n",
      " 8   Wire 8  19 non-null     object\n",
      " 9   Wire 9  29 non-null     object\n",
      "dtypes: int64(1), object(9)\n",
      "memory usage: 240.8+ KB\n"
     ]
    },
    {
     "data": {
      "text/plain": [
       "None"
      ]
     },
     "metadata": {},
     "output_type": "display_data"
    },
    {
     "data": {
      "text/html": [
       "<div>\n",
       "<style scoped>\n",
       "    .dataframe tbody tr th:only-of-type {\n",
       "        vertical-align: middle;\n",
       "    }\n",
       "\n",
       "    .dataframe tbody tr th {\n",
       "        vertical-align: top;\n",
       "    }\n",
       "\n",
       "    .dataframe thead th {\n",
       "        text-align: right;\n",
       "    }\n",
       "</style>\n",
       "<table border=\"1\" class=\"dataframe\">\n",
       "  <thead>\n",
       "    <tr style=\"text-align: right;\">\n",
       "      <th></th>\n",
       "      <th>key</th>\n",
       "      <th>Wire 1</th>\n",
       "      <th>Wire 2</th>\n",
       "      <th>Wire 3</th>\n",
       "      <th>Wire 4</th>\n",
       "      <th>Wire 5</th>\n",
       "      <th>Wire 6</th>\n",
       "      <th>Wire 7</th>\n",
       "      <th>Wire 8</th>\n",
       "      <th>Wire 9</th>\n",
       "    </tr>\n",
       "  </thead>\n",
       "  <tbody>\n",
       "    <tr>\n",
       "      <th>0</th>\n",
       "      <td>1</td>\n",
       "      <td>2019-05-03 11:06:19</td>\n",
       "      <td>NaN</td>\n",
       "      <td>NaN</td>\n",
       "      <td>NaN</td>\n",
       "      <td>NaN</td>\n",
       "      <td>NaN</td>\n",
       "      <td>NaN</td>\n",
       "      <td>NaN</td>\n",
       "      <td>NaN</td>\n",
       "    </tr>\n",
       "    <tr>\n",
       "      <th>1</th>\n",
       "      <td>2</td>\n",
       "      <td>2019-05-03 11:36:50</td>\n",
       "      <td>NaN</td>\n",
       "      <td>NaN</td>\n",
       "      <td>NaN</td>\n",
       "      <td>NaN</td>\n",
       "      <td>NaN</td>\n",
       "      <td>NaN</td>\n",
       "      <td>NaN</td>\n",
       "      <td>NaN</td>\n",
       "    </tr>\n",
       "    <tr>\n",
       "      <th>2</th>\n",
       "      <td>3</td>\n",
       "      <td>2019-05-03 12:11:46</td>\n",
       "      <td>NaN</td>\n",
       "      <td>NaN</td>\n",
       "      <td>NaN</td>\n",
       "      <td>NaN</td>\n",
       "      <td>NaN</td>\n",
       "      <td>NaN</td>\n",
       "      <td>NaN</td>\n",
       "      <td>NaN</td>\n",
       "    </tr>\n",
       "    <tr>\n",
       "      <th>3</th>\n",
       "      <td>4</td>\n",
       "      <td>2019-05-03 12:43:22</td>\n",
       "      <td>NaN</td>\n",
       "      <td>NaN</td>\n",
       "      <td>NaN</td>\n",
       "      <td>NaN</td>\n",
       "      <td>NaN</td>\n",
       "      <td>NaN</td>\n",
       "      <td>NaN</td>\n",
       "      <td>NaN</td>\n",
       "    </tr>\n",
       "    <tr>\n",
       "      <th>4</th>\n",
       "      <td>5</td>\n",
       "      <td>2019-05-03 13:20:44</td>\n",
       "      <td>2019-05-03 13:15:34</td>\n",
       "      <td>NaN</td>\n",
       "      <td>NaN</td>\n",
       "      <td>NaN</td>\n",
       "      <td>NaN</td>\n",
       "      <td>NaN</td>\n",
       "      <td>NaN</td>\n",
       "      <td>NaN</td>\n",
       "    </tr>\n",
       "  </tbody>\n",
       "</table>\n",
       "</div>"
      ],
      "text/plain": [
       "   key               Wire 1               Wire 2 Wire 3 Wire 4 Wire 5 Wire 6  \\\n",
       "0    1  2019-05-03 11:06:19                  NaN    NaN    NaN    NaN    NaN   \n",
       "1    2  2019-05-03 11:36:50                  NaN    NaN    NaN    NaN    NaN   \n",
       "2    3  2019-05-03 12:11:46                  NaN    NaN    NaN    NaN    NaN   \n",
       "3    4  2019-05-03 12:43:22                  NaN    NaN    NaN    NaN    NaN   \n",
       "4    5  2019-05-03 13:20:44  2019-05-03 13:15:34    NaN    NaN    NaN    NaN   \n",
       "\n",
       "  Wire 7 Wire 8 Wire 9  \n",
       "0    NaN    NaN    NaN  \n",
       "1    NaN    NaN    NaN  \n",
       "2    NaN    NaN    NaN  \n",
       "3    NaN    NaN    NaN  \n",
       "4    NaN    NaN    NaN  "
      ]
     },
     "metadata": {},
     "output_type": "display_data"
    },
    {
     "name": "stdout",
     "output_type": "stream",
     "text": [
      "\n",
      "\n"
     ]
    }
   ],
   "source": [
    "try:\n",
    "    data_arc = pd.read_csv('~/Документы/datasets/final_project/data_arc_new.csv')\n",
    "    data_bulk = pd.read_csv('~/Документы/datasets/final_project/data_bulk_new.csv')\n",
    "    data_bulk_time = pd.read_csv('~/Документы/datasets/final_project/data_bulk_time_new.csv')\n",
    "    data_gas = pd.read_csv('~/Документы/datasets/final_project/data_gas_new.csv')\n",
    "    data_temp = pd.read_csv('~/Документы/datasets/final_project/data_temp_new.csv')\n",
    "    data_wire = pd.read_csv('~/Документы/datasets/final_project/data_wire_new.csv')\n",
    "    data_wire_time = pd.read_csv('~/Документы/datasets/final_project/data_wire_time_new.csv')\n",
    "    print('local data ready')\n",
    "    print('')\n",
    "except:\n",
    "    data_arc = pd.read_csv('/datasets/data_arc_new.csv')\n",
    "    data_bulk = pd.read_csv('/datasets/data_bulk_new.csv')\n",
    "    data_bulk_time = pd.read_csv('/datasets/data_bulk_time_new.csv')\n",
    "    data_gas = pd.read_csv('/datasets/data_gas_new.csv')\n",
    "    data_temp = pd.read_csv('/datasets/data_temp_new.csv')\n",
    "    data_wire = pd.read_csv('/datasets/data_wire_new.csv')\n",
    "    data_wire_time = pd.read_csv('/datasets/data_wire_time_new.csv')\n",
    "    print('cloud data ready')\n",
    "    print('')\n",
    "finally:\n",
    "    dataframes = [data_arc, data_bulk, data_bulk_time, \n",
    "                  data_gas, data_temp, data_wire, data_wire_time]\n",
    "    for i in dataframes:\n",
    "        display(i.info(), i.head())\n",
    "        print('')\n",
    "        print('')"
   ]
  },
  {
   "cell_type": "markdown",
   "id": "f01212d6",
   "metadata": {},
   "source": [
    "## Обработаем"
   ]
  },
  {
   "cell_type": "markdown",
   "id": "a40ffa74",
   "metadata": {},
   "source": [
    "На этом шаге столкнулась со следующими проблемами:\n",
    "* некоторые ключи в порядке пропущены\n",
    "* есть пропуски в замерах целевого признака, да и в других тоже\n",
    "* часть данных не совместить из-за отсутствия совпадения по ключам\n",
    "\n",
    "Для удобства встраивания в какой-либо API (для бизнеса) сразу сделала все в виде трех функций: первая создает базовую табличку с таргетом и целевым, а также берет общее время работы с котлом, вторая считает полную мощность и добавляет данные к нашей новой табличке, третья обрабатывает райки, булки и газ, после чего также присоединяет к табличке. \n"
   ]
  },
  {
   "cell_type": "code",
   "execution_count": 4,
   "id": "777a7cbb",
   "metadata": {},
   "outputs": [],
   "source": [
    "def frame_maker(data_temp):\n",
    "    \n",
    "    data_temp['Время замера'] = pd.to_datetime(data_temp['Время замера'])\n",
    "    new_data = pd.DataFrame()\n",
    "    keys = []\n",
    "    starts = []\n",
    "    finals = []\n",
    "    duration = []\n",
    "    data_temp = data_temp.fillna(0)\n",
    "    \n",
    "    for k in tqdm(data_temp['key'].unique()):\n",
    "        \n",
    "        if len(data_temp[data_temp['key'] == k]) >= 2:\n",
    "            s = data_temp.loc[data_temp['key'] == k, 'Температура'].values[0]\n",
    "            f = data_temp.loc[data_temp['key'] == k, 'Температура'].values[-1]\n",
    "            t_f = data_temp.loc[data_temp['key'] == k, 'Время замера'].iloc[-1]\n",
    "            t_s = data_temp.loc[data_temp['key'] == k, 'Время замера'].iloc[0]\n",
    "            \n",
    "            if f != 0:\n",
    "                keys.append(k)\n",
    "                starts.append(s)\n",
    "                finals.append(f)\n",
    "                duration.append(t_f - t_s)\n",
    "            \n",
    "    new_data['key'] = keys\n",
    "    new_data['Начальная температура'] = starts           \n",
    "    new_data['Конечная температура'] = finals\n",
    "    new_data['Продолжительность работы с котлом'] = duration\n",
    "    new_data['Продолжительность работы с котлом'] = (new_data['Продолжительность работы с котлом']).dt.total_seconds()\n",
    "\n",
    "    return new_data"
   ]
  },
  {
   "cell_type": "code",
   "execution_count": 5,
   "id": "9700bd81",
   "metadata": {},
   "outputs": [
    {
     "data": {
      "application/vnd.jupyter.widget-view+json": {
       "model_id": "eb1d99a2938948dfb6c07b578a5378b9",
       "version_major": 2,
       "version_minor": 0
      },
      "text/plain": [
       "  0%|          | 0/3216 [00:00<?, ?it/s]"
      ]
     },
     "metadata": {},
     "output_type": "display_data"
    }
   ],
   "source": [
    "data_full = frame_maker(data_temp)"
   ]
  },
  {
   "cell_type": "code",
   "execution_count": 6,
   "id": "77277761",
   "metadata": {},
   "outputs": [],
   "source": [
    "def power_maker(data_arc, data_full):\n",
    "    data_arc['Конец нагрева дугой'] = pd.to_datetime(data_arc['Конец нагрева дугой'])\n",
    "    data_arc['Начало нагрева дугой'] = pd.to_datetime(data_arc['Начало нагрева дугой'])\n",
    "    data_arc['Время нагрева'] = data_arc['Конец нагрева дугой'] - data_arc['Начало нагрева дугой']\n",
    "    data_arc['Время нагрева'] = data_arc['Время нагрева'].dt.total_seconds()\n",
    "    \n",
    "    new_data = pd.DataFrame()\n",
    "    power_count = []\n",
    "    power_reactive = []\n",
    "    duration = []\n",
    "    keys = []\n",
    "    \n",
    "    for k in tqdm(data_arc['key'].unique()):\n",
    "        active_power = sum(data_arc.loc[data_arc['key'] == k, 'Активная мощность'])\n",
    "        reactive_power = sum(data_arc.loc[data_arc['key'] == k, 'Реактивная мощность'])\n",
    "        full_power = ((active_power ** 2 + reactive_power ** 2) ** 0.5)\n",
    "        total = sum(data_arc.loc[data_arc['key'] == k, 'Время нагрева'])\n",
    "        power_count.append(full_power)\n",
    "        power_reactive.append(reactive_power)\n",
    "        keys.append(k)\n",
    "        duration.append(total)\n",
    "    \n",
    "    new_data['key'] = keys\n",
    "    new_data['Полная мощность'] = power_count\n",
    "    new_data['Реактивная мощность'] = power_reactive\n",
    "    new_data['Время нагрева'] = duration\n",
    "    data_full = data_full.merge(new_data, how='inner', on='key')\n",
    "    \n",
    "    return data_full"
   ]
  },
  {
   "cell_type": "code",
   "execution_count": 7,
   "id": "626fe0bd",
   "metadata": {},
   "outputs": [
    {
     "data": {
      "application/vnd.jupyter.widget-view+json": {
       "model_id": "bebea974cf80426e953ade07223cefc6",
       "version_major": 2,
       "version_minor": 0
      },
      "text/plain": [
       "  0%|          | 0/3214 [00:00<?, ?it/s]"
      ]
     },
     "metadata": {},
     "output_type": "display_data"
    }
   ],
   "source": [
    "data_full = power_maker(data_arc, data_full)"
   ]
  },
  {
   "cell_type": "code",
   "execution_count": 8,
   "id": "b1c0c091",
   "metadata": {},
   "outputs": [],
   "source": [
    "def dopant_maker(data_full, data_bulk, data_gas, data_wire):\n",
    "    data_bulk = data_bulk.fillna(0)\n",
    "    data_gas = data_gas.fillna(0)\n",
    "    data_wire = data_wire.fillna(0)\n",
    "    total_bulk = []\n",
    "    key_bulk = []\n",
    "    total_wire = []\n",
    "    key_wire = []\n",
    "    bulk_data = pd.DataFrame()\n",
    "    wire_data = pd.DataFrame()\n",
    "    \n",
    "    for s in tqdm(range(len(data_bulk))):\n",
    "        total = sum(data_bulk.iloc[s, 1:-1])\n",
    "        key = data_bulk['key'][s]\n",
    "        key_bulk.append(key)\n",
    "        total_bulk.append(total)\n",
    "    \n",
    "    for i in tqdm(range(len(data_wire))):\n",
    "        total = sum(data_wire.iloc[i, 1:-1])\n",
    "        key = data_wire['key'][i]\n",
    "        total_wire.append(total)\n",
    "        key_wire.append(key)\n",
    "    \n",
    "    bulk_data['key'] = key_bulk\n",
    "    bulk_data['Сыпучие материалы'] = total_bulk\n",
    "    wire_data['key'] = key_wire\n",
    "    wire_data['Проволочные материалы'] = total_wire\n",
    "    \n",
    "    data_full = data_full.merge(wire_data, on='key', how='inner')\n",
    "    data_full = data_full.merge(bulk_data, on='key', how='inner')\n",
    "    data_full = data_full.merge(data_gas, on='key', how='inner')\n",
    "    data_full = data_full.merge(data_bulk, on='key', how='inner')\n",
    "    data_full = data_full.merge(data_wire, on='key', how='inner')\n",
    "    \n",
    "    return data_full"
   ]
  },
  {
   "cell_type": "code",
   "execution_count": 9,
   "id": "97a7fd90",
   "metadata": {},
   "outputs": [
    {
     "data": {
      "application/vnd.jupyter.widget-view+json": {
       "model_id": "8bc4a8e68a8f4f6c85b009b2d6837db8",
       "version_major": 2,
       "version_minor": 0
      },
      "text/plain": [
       "  0%|          | 0/3129 [00:00<?, ?it/s]"
      ]
     },
     "metadata": {},
     "output_type": "display_data"
    },
    {
     "data": {
      "application/vnd.jupyter.widget-view+json": {
       "model_id": "47e6604d6e58487cb6c9d8871f780341",
       "version_major": 2,
       "version_minor": 0
      },
      "text/plain": [
       "  0%|          | 0/3081 [00:00<?, ?it/s]"
      ]
     },
     "metadata": {},
     "output_type": "display_data"
    }
   ],
   "source": [
    "data_full = dopant_maker(data_full, data_bulk, data_gas, data_wire)"
   ]
  },
  {
   "cell_type": "code",
   "execution_count": 10,
   "id": "cc93ef60",
   "metadata": {},
   "outputs": [
    {
     "name": "stdout",
     "output_type": "stream",
     "text": [
      "<class 'pandas.core.frame.DataFrame'>\n",
      "Int64Index: 2329 entries, 0 to 2328\n",
      "Data columns (total 34 columns):\n",
      " #   Column                             Non-Null Count  Dtype  \n",
      "---  ------                             --------------  -----  \n",
      " 0   key                                2329 non-null   int64  \n",
      " 1   Начальная температура              2329 non-null   float64\n",
      " 2   Конечная температура               2329 non-null   float64\n",
      " 3   Продолжительность работы с котлом  2329 non-null   float64\n",
      " 4   Полная мощность                    2329 non-null   float64\n",
      " 5   Реактивная мощность                2329 non-null   float64\n",
      " 6   Время нагрева                      2329 non-null   float64\n",
      " 7   Проволочные материалы              2329 non-null   float64\n",
      " 8   Сыпучие материалы                  2329 non-null   float64\n",
      " 9   Газ 1                              2329 non-null   float64\n",
      " 10  Bulk 1                             2329 non-null   float64\n",
      " 11  Bulk 2                             2329 non-null   float64\n",
      " 12  Bulk 3                             2329 non-null   float64\n",
      " 13  Bulk 4                             2329 non-null   float64\n",
      " 14  Bulk 5                             2329 non-null   float64\n",
      " 15  Bulk 6                             2329 non-null   float64\n",
      " 16  Bulk 7                             2329 non-null   float64\n",
      " 17  Bulk 8                             2329 non-null   float64\n",
      " 18  Bulk 9                             2329 non-null   float64\n",
      " 19  Bulk 10                            2329 non-null   float64\n",
      " 20  Bulk 11                            2329 non-null   float64\n",
      " 21  Bulk 12                            2329 non-null   float64\n",
      " 22  Bulk 13                            2329 non-null   float64\n",
      " 23  Bulk 14                            2329 non-null   float64\n",
      " 24  Bulk 15                            2329 non-null   float64\n",
      " 25  Wire 1                             2329 non-null   float64\n",
      " 26  Wire 2                             2329 non-null   float64\n",
      " 27  Wire 3                             2329 non-null   float64\n",
      " 28  Wire 4                             2329 non-null   float64\n",
      " 29  Wire 5                             2329 non-null   float64\n",
      " 30  Wire 6                             2329 non-null   float64\n",
      " 31  Wire 7                             2329 non-null   float64\n",
      " 32  Wire 8                             2329 non-null   float64\n",
      " 33  Wire 9                             2329 non-null   float64\n",
      "dtypes: float64(33), int64(1)\n",
      "memory usage: 636.8 KB\n"
     ]
    },
    {
     "data": {
      "text/plain": [
       "None"
      ]
     },
     "metadata": {},
     "output_type": "display_data"
    },
    {
     "data": {
      "text/html": [
       "<div>\n",
       "<style scoped>\n",
       "    .dataframe tbody tr th:only-of-type {\n",
       "        vertical-align: middle;\n",
       "    }\n",
       "\n",
       "    .dataframe tbody tr th {\n",
       "        vertical-align: top;\n",
       "    }\n",
       "\n",
       "    .dataframe thead th {\n",
       "        text-align: right;\n",
       "    }\n",
       "</style>\n",
       "<table border=\"1\" class=\"dataframe\">\n",
       "  <thead>\n",
       "    <tr style=\"text-align: right;\">\n",
       "      <th></th>\n",
       "      <th>key</th>\n",
       "      <th>Начальная температура</th>\n",
       "      <th>Конечная температура</th>\n",
       "      <th>Продолжительность работы с котлом</th>\n",
       "      <th>Полная мощность</th>\n",
       "      <th>Реактивная мощность</th>\n",
       "      <th>Время нагрева</th>\n",
       "      <th>Проволочные материалы</th>\n",
       "      <th>Сыпучие материалы</th>\n",
       "      <th>Газ 1</th>\n",
       "      <th>...</th>\n",
       "      <th>Bulk 15</th>\n",
       "      <th>Wire 1</th>\n",
       "      <th>Wire 2</th>\n",
       "      <th>Wire 3</th>\n",
       "      <th>Wire 4</th>\n",
       "      <th>Wire 5</th>\n",
       "      <th>Wire 6</th>\n",
       "      <th>Wire 7</th>\n",
       "      <th>Wire 8</th>\n",
       "      <th>Wire 9</th>\n",
       "    </tr>\n",
       "  </thead>\n",
       "  <tbody>\n",
       "    <tr>\n",
       "      <th>0</th>\n",
       "      <td>1</td>\n",
       "      <td>1571.0</td>\n",
       "      <td>1613.0</td>\n",
       "      <td>1714.0</td>\n",
       "      <td>3.716640</td>\n",
       "      <td>2.142821</td>\n",
       "      <td>1098.0</td>\n",
       "      <td>60.059998</td>\n",
       "      <td>399.0</td>\n",
       "      <td>29.749986</td>\n",
       "      <td>...</td>\n",
       "      <td>154.0</td>\n",
       "      <td>60.059998</td>\n",
       "      <td>0.00000</td>\n",
       "      <td>0.0</td>\n",
       "      <td>0.0</td>\n",
       "      <td>0.0</td>\n",
       "      <td>0.0</td>\n",
       "      <td>0.0</td>\n",
       "      <td>0.0</td>\n",
       "      <td>0.0</td>\n",
       "    </tr>\n",
       "    <tr>\n",
       "      <th>1</th>\n",
       "      <td>2</td>\n",
       "      <td>1581.0</td>\n",
       "      <td>1602.0</td>\n",
       "      <td>1265.0</td>\n",
       "      <td>2.586371</td>\n",
       "      <td>1.453357</td>\n",
       "      <td>811.0</td>\n",
       "      <td>96.052315</td>\n",
       "      <td>428.0</td>\n",
       "      <td>12.555561</td>\n",
       "      <td>...</td>\n",
       "      <td>154.0</td>\n",
       "      <td>96.052315</td>\n",
       "      <td>0.00000</td>\n",
       "      <td>0.0</td>\n",
       "      <td>0.0</td>\n",
       "      <td>0.0</td>\n",
       "      <td>0.0</td>\n",
       "      <td>0.0</td>\n",
       "      <td>0.0</td>\n",
       "      <td>0.0</td>\n",
       "    </tr>\n",
       "    <tr>\n",
       "      <th>2</th>\n",
       "      <td>3</td>\n",
       "      <td>1596.0</td>\n",
       "      <td>1599.0</td>\n",
       "      <td>1753.0</td>\n",
       "      <td>5.014163</td>\n",
       "      <td>2.937457</td>\n",
       "      <td>655.0</td>\n",
       "      <td>91.160157</td>\n",
       "      <td>391.0</td>\n",
       "      <td>28.554793</td>\n",
       "      <td>...</td>\n",
       "      <td>153.0</td>\n",
       "      <td>91.160157</td>\n",
       "      <td>0.00000</td>\n",
       "      <td>0.0</td>\n",
       "      <td>0.0</td>\n",
       "      <td>0.0</td>\n",
       "      <td>0.0</td>\n",
       "      <td>0.0</td>\n",
       "      <td>0.0</td>\n",
       "      <td>0.0</td>\n",
       "    </tr>\n",
       "    <tr>\n",
       "      <th>3</th>\n",
       "      <td>4</td>\n",
       "      <td>1601.0</td>\n",
       "      <td>1625.0</td>\n",
       "      <td>1220.0</td>\n",
       "      <td>3.399456</td>\n",
       "      <td>2.056992</td>\n",
       "      <td>741.0</td>\n",
       "      <td>89.063515</td>\n",
       "      <td>441.0</td>\n",
       "      <td>18.841219</td>\n",
       "      <td>...</td>\n",
       "      <td>154.0</td>\n",
       "      <td>89.063515</td>\n",
       "      <td>0.00000</td>\n",
       "      <td>0.0</td>\n",
       "      <td>0.0</td>\n",
       "      <td>0.0</td>\n",
       "      <td>0.0</td>\n",
       "      <td>0.0</td>\n",
       "      <td>0.0</td>\n",
       "      <td>0.0</td>\n",
       "    </tr>\n",
       "    <tr>\n",
       "      <th>4</th>\n",
       "      <td>5</td>\n",
       "      <td>1576.0</td>\n",
       "      <td>1602.0</td>\n",
       "      <td>1536.0</td>\n",
       "      <td>2.815155</td>\n",
       "      <td>1.687991</td>\n",
       "      <td>869.0</td>\n",
       "      <td>98.352796</td>\n",
       "      <td>432.0</td>\n",
       "      <td>5.413692</td>\n",
       "      <td>...</td>\n",
       "      <td>152.0</td>\n",
       "      <td>89.238236</td>\n",
       "      <td>9.11456</td>\n",
       "      <td>0.0</td>\n",
       "      <td>0.0</td>\n",
       "      <td>0.0</td>\n",
       "      <td>0.0</td>\n",
       "      <td>0.0</td>\n",
       "      <td>0.0</td>\n",
       "      <td>0.0</td>\n",
       "    </tr>\n",
       "  </tbody>\n",
       "</table>\n",
       "<p>5 rows × 34 columns</p>\n",
       "</div>"
      ],
      "text/plain": [
       "   key  Начальная температура  Конечная температура  \\\n",
       "0    1                 1571.0                1613.0   \n",
       "1    2                 1581.0                1602.0   \n",
       "2    3                 1596.0                1599.0   \n",
       "3    4                 1601.0                1625.0   \n",
       "4    5                 1576.0                1602.0   \n",
       "\n",
       "   Продолжительность работы с котлом  Полная мощность  Реактивная мощность  \\\n",
       "0                             1714.0         3.716640             2.142821   \n",
       "1                             1265.0         2.586371             1.453357   \n",
       "2                             1753.0         5.014163             2.937457   \n",
       "3                             1220.0         3.399456             2.056992   \n",
       "4                             1536.0         2.815155             1.687991   \n",
       "\n",
       "   Время нагрева  Проволочные материалы  Сыпучие материалы      Газ 1  ...  \\\n",
       "0         1098.0              60.059998              399.0  29.749986  ...   \n",
       "1          811.0              96.052315              428.0  12.555561  ...   \n",
       "2          655.0              91.160157              391.0  28.554793  ...   \n",
       "3          741.0              89.063515              441.0  18.841219  ...   \n",
       "4          869.0              98.352796              432.0   5.413692  ...   \n",
       "\n",
       "   Bulk 15     Wire 1   Wire 2  Wire 3  Wire 4  Wire 5  Wire 6  Wire 7  \\\n",
       "0    154.0  60.059998  0.00000     0.0     0.0     0.0     0.0     0.0   \n",
       "1    154.0  96.052315  0.00000     0.0     0.0     0.0     0.0     0.0   \n",
       "2    153.0  91.160157  0.00000     0.0     0.0     0.0     0.0     0.0   \n",
       "3    154.0  89.063515  0.00000     0.0     0.0     0.0     0.0     0.0   \n",
       "4    152.0  89.238236  9.11456     0.0     0.0     0.0     0.0     0.0   \n",
       "\n",
       "   Wire 8  Wire 9  \n",
       "0     0.0     0.0  \n",
       "1     0.0     0.0  \n",
       "2     0.0     0.0  \n",
       "3     0.0     0.0  \n",
       "4     0.0     0.0  \n",
       "\n",
       "[5 rows x 34 columns]"
      ]
     },
     "metadata": {},
     "output_type": "display_data"
    }
   ],
   "source": [
    "display(data_full.info(), data_full.head())"
   ]
  },
  {
   "cell_type": "markdown",
   "id": "990bc9a5",
   "metadata": {},
   "source": [
    "## Исследуем"
   ]
  },
  {
   "cell_type": "markdown",
   "id": "190336b2",
   "metadata": {},
   "source": [
    "Проведем анализ данных по графикам"
   ]
  },
  {
   "cell_type": "markdown",
   "id": "1ab04079",
   "metadata": {},
   "source": [
    "### Продолжительность работы с котлом"
   ]
  },
  {
   "cell_type": "code",
   "execution_count": 11,
   "id": "9309b8b4",
   "metadata": {},
   "outputs": [
    {
     "name": "stderr",
     "output_type": "stream",
     "text": [
      "/home/brshk-shaun/anaconda3/lib/python3.9/site-packages/seaborn/distributions.py:2619: FutureWarning: `distplot` is a deprecated function and will be removed in a future version. Please adapt your code to use either `displot` (a figure-level function with similar flexibility) or `histplot` (an axes-level function for histograms).\n",
      "  warnings.warn(msg, FutureWarning)\n"
     ]
    },
    {
     "data": {
      "image/png": "[encoded data removed]",
      "text/plain": [
       "<Figure size 1000x500 with 1 Axes>"
      ]
     },
     "metadata": {},
     "output_type": "display_data"
    }
   ],
   "source": [
    "plt.figure(figsize=(10, 5))\n",
    "sns.distplot(data_full['Продолжительность работы с котлом'])\n",
    "plt.show()"
   ]
  },
  {
   "cell_type": "markdown",
   "id": "89c86491",
   "metadata": {},
   "source": [
    "### Конечная температура\n",
    "На графике мы видим, что некоторые данные ниже температуры варки - удалим их"
   ]
  },
  {
   "cell_type": "code",
   "execution_count": 12,
   "id": "95722720",
   "metadata": {},
   "outputs": [
    {
     "name": "stderr",
     "output_type": "stream",
     "text": [
      "/home/brshk-shaun/anaconda3/lib/python3.9/site-packages/seaborn/distributions.py:2619: FutureWarning: `distplot` is a deprecated function and will be removed in a future version. Please adapt your code to use either `displot` (a figure-level function with similar flexibility) or `histplot` (an axes-level function for histograms).\n",
      "  warnings.warn(msg, FutureWarning)\n"
     ]
    },
    {
     "data": {
      "image/png": "[encoded data removed]",
      "text/plain": [
       "<Figure size 1000x500 with 1 Axes>"
      ]
     },
     "metadata": {},
     "output_type": "display_data"
    }
   ],
   "source": [
    "plt.figure(figsize=(10, 5))\n",
    "sns.distplot(data_full['Конечная температура'])\n",
    "plt.show()"
   ]
  },
  {
   "cell_type": "code",
   "execution_count": 13,
   "id": "cb7018ff",
   "metadata": {},
   "outputs": [],
   "source": [
    "data_full = data_full[data_full['Конечная температура'] > 1450]"
   ]
  },
  {
   "cell_type": "code",
   "execution_count": 14,
   "id": "381875cf",
   "metadata": {
    "scrolled": false
   },
   "outputs": [
    {
     "name": "stderr",
     "output_type": "stream",
     "text": [
      "/home/brshk-shaun/anaconda3/lib/python3.9/site-packages/seaborn/_decorators.py:36: FutureWarning: Pass the following variable as a keyword arg: x. From version 0.12, the only valid positional argument will be `data`, and passing other arguments without an explicit keyword will result in an error or misinterpretation.\n",
      "  warnings.warn(\n"
     ]
    },
    {
     "data": {
      "image/png": "[encoded data removed]",
      "text/plain": [
       "<Figure size 1000x500 with 1 Axes>"
      ]
     },
     "metadata": {},
     "output_type": "display_data"
    }
   ],
   "source": [
    "plt.figure(figsize=(10, 5))\n",
    "sns.boxplot(data_full['Конечная температура'])\n",
    "plt.show()"
   ]
  },
  {
   "cell_type": "markdown",
   "id": "97df7e81",
   "metadata": {},
   "source": [
    "### Реактивная мощность\n",
    "Реактивная мощность -700 явный выброс, удалим его"
   ]
  },
  {
   "cell_type": "code",
   "execution_count": 15,
   "id": "4fa42882",
   "metadata": {},
   "outputs": [
    {
     "name": "stderr",
     "output_type": "stream",
     "text": [
      "/home/brshk-shaun/anaconda3/lib/python3.9/site-packages/seaborn/_decorators.py:36: FutureWarning: Pass the following variable as a keyword arg: x. From version 0.12, the only valid positional argument will be `data`, and passing other arguments without an explicit keyword will result in an error or misinterpretation.\n",
      "  warnings.warn(\n"
     ]
    },
    {
     "data": {
      "image/png": "[encoded data removed]",
      "text/plain": [
       "<Figure size 1000x500 with 1 Axes>"
      ]
     },
     "metadata": {},
     "output_type": "display_data"
    }
   ],
   "source": [
    "plt.figure(figsize=(10, 5))\n",
    "sns.boxplot(data_full['Реактивная мощность'])\n",
    "plt.show()"
   ]
  },
  {
   "cell_type": "code",
   "execution_count": 16,
   "id": "a81ff340",
   "metadata": {},
   "outputs": [],
   "source": [
    "data_full = data_full[data_full['Реактивная мощность'] > 0]"
   ]
  },
  {
   "cell_type": "code",
   "execution_count": 17,
   "id": "28fe2c39",
   "metadata": {
    "scrolled": false
   },
   "outputs": [
    {
     "name": "stderr",
     "output_type": "stream",
     "text": [
      "/home/brshk-shaun/anaconda3/lib/python3.9/site-packages/seaborn/_decorators.py:36: FutureWarning: Pass the following variable as a keyword arg: x. From version 0.12, the only valid positional argument will be `data`, and passing other arguments without an explicit keyword will result in an error or misinterpretation.\n",
      "  warnings.warn(\n"
     ]
    },
    {
     "data": {
      "image/png": "[encoded data removed]",
      "text/plain": [
       "<Figure size 1000x500 with 1 Axes>"
      ]
     },
     "metadata": {},
     "output_type": "display_data"
    }
   ],
   "source": [
    "plt.figure(figsize=(10, 5))\n",
    "sns.boxplot(data_full['Реактивная мощность'])\n",
    "plt.show()"
   ]
  },
  {
   "cell_type": "markdown",
   "id": "8ddc4184",
   "metadata": {},
   "source": [
    "### Сыпучие материалы\n",
    "На графике можем увидеть, что некоторые даннные встречаются совсем уж редко, однако, не будем спешить удалять признак"
   ]
  },
  {
   "cell_type": "code",
   "execution_count": 18,
   "id": "103eaa07",
   "metadata": {},
   "outputs": [
    {
     "data": {
      "text/plain": [
       "<AxesSubplot:>"
      ]
     },
     "execution_count": 18,
     "metadata": {},
     "output_type": "execute_result"
    },
    {
     "data": {
      "image/png": "[encoded data removed]",
      "text/plain": [
       "<Figure size 1000x500 with 1 Axes>"
      ]
     },
     "metadata": {},
     "output_type": "display_data"
    }
   ],
   "source": [
    "plt.figure(figsize=(10, 5))\n",
    "(data_full.iloc[:, 10:25].mean().sort_values()).plot(kind='bar', cmap='Set2')"
   ]
  },
  {
   "cell_type": "markdown",
   "id": "fc4cf4f6",
   "metadata": {},
   "source": [
    "### Проволочные материалы\n",
    "Тоже есть данные, которые встречаются очень редко, пока не будем трогать"
   ]
  },
  {
   "cell_type": "code",
   "execution_count": 19,
   "id": "e2ef292b",
   "metadata": {
    "scrolled": false
   },
   "outputs": [
    {
     "data": {
      "text/plain": [
       "<AxesSubplot:>"
      ]
     },
     "execution_count": 19,
     "metadata": {},
     "output_type": "execute_result"
    },
    {
     "data": {
      "image/png": "[encoded data removed]",
      "text/plain": [
       "<Figure size 1000x500 with 1 Axes>"
      ]
     },
     "metadata": {},
     "output_type": "display_data"
    }
   ],
   "source": [
    "plt.figure(figsize=(10, 5))\n",
    "(data_full.iloc[:, 25:].mean().sort_values()).plot(kind='bar', cmap='Wistia')"
   ]
  },
  {
   "cell_type": "markdown",
   "id": "649bfaca",
   "metadata": {},
   "source": [
    "### Корреляция признаков\n",
    "На данной таблице мы видим, что один признак вообще коррелируется с ошибкой (НаН), в дальнейшем удалим его.\n",
    "Также удалим признак \"Реактивная мощность\", т.к. он сильно коррелирует с другими.\n",
    "Кроме этого удалим Bulk 7 *(у меня нет объяснения, коррелирует не больше других, но его отсутствие улучшает метрику)*."
   ]
  },
  {
   "cell_type": "code",
   "execution_count": 20,
   "id": "671b1ffd",
   "metadata": {},
   "outputs": [
    {
     "data": {
      "image/png": "[encoded data removed]",
      "text/plain": [
       "<Figure size 3000x3000 with 2 Axes>"
      ]
     },
     "metadata": {},
     "output_type": "display_data"
    }
   ],
   "source": [
    "plt.figure(figsize=(30, 30))\n",
    "plt.rcParams['font.size'] = '27'\n",
    "sns.heatmap(data_full.corr(), cmap=\"Accent\", annot=False)\n",
    "plt.show()"
   ]
  },
  {
   "cell_type": "code",
   "execution_count": 21,
   "id": "857c136b",
   "metadata": {
    "scrolled": true
   },
   "outputs": [
    {
     "name": "stdout",
     "output_type": "stream",
     "text": [
      "<class 'pandas.core.frame.DataFrame'>\n",
      "Int64Index: 2328 entries, 0 to 2328\n",
      "Data columns (total 30 columns):\n",
      " #   Column                             Non-Null Count  Dtype  \n",
      "---  ------                             --------------  -----  \n",
      " 0   Начальная температура              2328 non-null   float64\n",
      " 1   Конечная температура               2328 non-null   float64\n",
      " 2   Продолжительность работы с котлом  2328 non-null   float64\n",
      " 3   Полная мощность                    2328 non-null   float64\n",
      " 4   Время нагрева                      2328 non-null   float64\n",
      " 5   Проволочные материалы              2328 non-null   float64\n",
      " 6   Сыпучие материалы                  2328 non-null   float64\n",
      " 7   Газ 1                              2328 non-null   float64\n",
      " 8   Bulk 1                             2328 non-null   float64\n",
      " 9   Bulk 2                             2328 non-null   float64\n",
      " 10  Bulk 3                             2328 non-null   float64\n",
      " 11  Bulk 4                             2328 non-null   float64\n",
      " 12  Bulk 5                             2328 non-null   float64\n",
      " 13  Bulk 6                             2328 non-null   float64\n",
      " 14  Bulk 8                             2328 non-null   float64\n",
      " 15  Bulk 9                             2328 non-null   float64\n",
      " 16  Bulk 10                            2328 non-null   float64\n",
      " 17  Bulk 11                            2328 non-null   float64\n",
      " 18  Bulk 12                            2328 non-null   float64\n",
      " 19  Bulk 13                            2328 non-null   float64\n",
      " 20  Bulk 14                            2328 non-null   float64\n",
      " 21  Bulk 15                            2328 non-null   float64\n",
      " 22  Wire 1                             2328 non-null   float64\n",
      " 23  Wire 2                             2328 non-null   float64\n",
      " 24  Wire 3                             2328 non-null   float64\n",
      " 25  Wire 4                             2328 non-null   float64\n",
      " 26  Wire 6                             2328 non-null   float64\n",
      " 27  Wire 7                             2328 non-null   float64\n",
      " 28  Wire 8                             2328 non-null   float64\n",
      " 29  Wire 9                             2328 non-null   float64\n",
      "dtypes: float64(30)\n",
      "memory usage: 563.8 KB\n"
     ]
    }
   ],
   "source": [
    "data_full = data_full.drop(['key'], axis=1)\n",
    "data_full = data_full.drop(['Wire 5'], axis=1)\n",
    "data_full = data_full.drop(['Bulk 7'], axis=1)\n",
    "data_full = data_full.drop(['Реактивная мощность'], axis=1)\n",
    "\n",
    "data_full.info()"
   ]
  },
  {
   "cell_type": "markdown",
   "id": "13a536db",
   "metadata": {},
   "source": [
    "На этом этапе наша предобработка завершается.\n",
    "\n",
    "**Вывод:**\n",
    "\n",
    "* данные содержат много пропусков\n",
    "* очевидные выбросы не так часто попадают, что несмоненный плюс\n",
    "* некоторые ключи из первоначальной таблицы построенной нами отсутствуют в других таблицах, значит либо отстутсвует четкая норма фиксирования всех данных по ковшу, либо частично данные утеряны до передачи\n",
    "* существует необходимость создания дополнительных признаков для улучшения качества работы модели"
   ]
  },
  {
   "cell_type": "code",
   "execution_count": 22,
   "id": "ad195c77",
   "metadata": {},
   "outputs": [
    {
     "data": {
      "text/html": [
       "<div>\n",
       "<style scoped>\n",
       "    .dataframe tbody tr th:only-of-type {\n",
       "        vertical-align: middle;\n",
       "    }\n",
       "\n",
       "    .dataframe tbody tr th {\n",
       "        vertical-align: top;\n",
       "    }\n",
       "\n",
       "    .dataframe thead th {\n",
       "        text-align: right;\n",
       "    }\n",
       "</style>\n",
       "<table border=\"1\" class=\"dataframe\">\n",
       "  <thead>\n",
       "    <tr style=\"text-align: right;\">\n",
       "      <th></th>\n",
       "      <th>Начальная температура</th>\n",
       "      <th>Конечная температура</th>\n",
       "      <th>Продолжительность работы с котлом</th>\n",
       "      <th>Полная мощность</th>\n",
       "      <th>Время нагрева</th>\n",
       "      <th>Проволочные материалы</th>\n",
       "      <th>Сыпучие материалы</th>\n",
       "      <th>Газ 1</th>\n",
       "      <th>Bulk 1</th>\n",
       "      <th>Bulk 2</th>\n",
       "      <th>...</th>\n",
       "      <th>Bulk 14</th>\n",
       "      <th>Bulk 15</th>\n",
       "      <th>Wire 1</th>\n",
       "      <th>Wire 2</th>\n",
       "      <th>Wire 3</th>\n",
       "      <th>Wire 4</th>\n",
       "      <th>Wire 6</th>\n",
       "      <th>Wire 7</th>\n",
       "      <th>Wire 8</th>\n",
       "      <th>Wire 9</th>\n",
       "    </tr>\n",
       "  </thead>\n",
       "  <tbody>\n",
       "    <tr>\n",
       "      <th>0</th>\n",
       "      <td>1571.0</td>\n",
       "      <td>1613.0</td>\n",
       "      <td>1714.0</td>\n",
       "      <td>3.716640</td>\n",
       "      <td>1098.0</td>\n",
       "      <td>60.059998</td>\n",
       "      <td>399.0</td>\n",
       "      <td>29.749986</td>\n",
       "      <td>0.0</td>\n",
       "      <td>0.0</td>\n",
       "      <td>...</td>\n",
       "      <td>150.0</td>\n",
       "      <td>154.0</td>\n",
       "      <td>60.059998</td>\n",
       "      <td>0.00000</td>\n",
       "      <td>0.0</td>\n",
       "      <td>0.0</td>\n",
       "      <td>0.0</td>\n",
       "      <td>0.0</td>\n",
       "      <td>0.0</td>\n",
       "      <td>0.0</td>\n",
       "    </tr>\n",
       "    <tr>\n",
       "      <th>1</th>\n",
       "      <td>1581.0</td>\n",
       "      <td>1602.0</td>\n",
       "      <td>1265.0</td>\n",
       "      <td>2.586371</td>\n",
       "      <td>811.0</td>\n",
       "      <td>96.052315</td>\n",
       "      <td>428.0</td>\n",
       "      <td>12.555561</td>\n",
       "      <td>0.0</td>\n",
       "      <td>0.0</td>\n",
       "      <td>...</td>\n",
       "      <td>149.0</td>\n",
       "      <td>154.0</td>\n",
       "      <td>96.052315</td>\n",
       "      <td>0.00000</td>\n",
       "      <td>0.0</td>\n",
       "      <td>0.0</td>\n",
       "      <td>0.0</td>\n",
       "      <td>0.0</td>\n",
       "      <td>0.0</td>\n",
       "      <td>0.0</td>\n",
       "    </tr>\n",
       "    <tr>\n",
       "      <th>2</th>\n",
       "      <td>1596.0</td>\n",
       "      <td>1599.0</td>\n",
       "      <td>1753.0</td>\n",
       "      <td>5.014163</td>\n",
       "      <td>655.0</td>\n",
       "      <td>91.160157</td>\n",
       "      <td>391.0</td>\n",
       "      <td>28.554793</td>\n",
       "      <td>0.0</td>\n",
       "      <td>0.0</td>\n",
       "      <td>...</td>\n",
       "      <td>152.0</td>\n",
       "      <td>153.0</td>\n",
       "      <td>91.160157</td>\n",
       "      <td>0.00000</td>\n",
       "      <td>0.0</td>\n",
       "      <td>0.0</td>\n",
       "      <td>0.0</td>\n",
       "      <td>0.0</td>\n",
       "      <td>0.0</td>\n",
       "      <td>0.0</td>\n",
       "    </tr>\n",
       "    <tr>\n",
       "      <th>3</th>\n",
       "      <td>1601.0</td>\n",
       "      <td>1625.0</td>\n",
       "      <td>1220.0</td>\n",
       "      <td>3.399456</td>\n",
       "      <td>741.0</td>\n",
       "      <td>89.063515</td>\n",
       "      <td>441.0</td>\n",
       "      <td>18.841219</td>\n",
       "      <td>0.0</td>\n",
       "      <td>0.0</td>\n",
       "      <td>...</td>\n",
       "      <td>153.0</td>\n",
       "      <td>154.0</td>\n",
       "      <td>89.063515</td>\n",
       "      <td>0.00000</td>\n",
       "      <td>0.0</td>\n",
       "      <td>0.0</td>\n",
       "      <td>0.0</td>\n",
       "      <td>0.0</td>\n",
       "      <td>0.0</td>\n",
       "      <td>0.0</td>\n",
       "    </tr>\n",
       "    <tr>\n",
       "      <th>4</th>\n",
       "      <td>1576.0</td>\n",
       "      <td>1602.0</td>\n",
       "      <td>1536.0</td>\n",
       "      <td>2.815155</td>\n",
       "      <td>869.0</td>\n",
       "      <td>98.352796</td>\n",
       "      <td>432.0</td>\n",
       "      <td>5.413692</td>\n",
       "      <td>0.0</td>\n",
       "      <td>0.0</td>\n",
       "      <td>...</td>\n",
       "      <td>151.0</td>\n",
       "      <td>152.0</td>\n",
       "      <td>89.238236</td>\n",
       "      <td>9.11456</td>\n",
       "      <td>0.0</td>\n",
       "      <td>0.0</td>\n",
       "      <td>0.0</td>\n",
       "      <td>0.0</td>\n",
       "      <td>0.0</td>\n",
       "      <td>0.0</td>\n",
       "    </tr>\n",
       "    <tr>\n",
       "      <th>...</th>\n",
       "      <td>...</td>\n",
       "      <td>...</td>\n",
       "      <td>...</td>\n",
       "      <td>...</td>\n",
       "      <td>...</td>\n",
       "      <td>...</td>\n",
       "      <td>...</td>\n",
       "      <td>...</td>\n",
       "      <td>...</td>\n",
       "      <td>...</td>\n",
       "      <td>...</td>\n",
       "      <td>...</td>\n",
       "      <td>...</td>\n",
       "      <td>...</td>\n",
       "      <td>...</td>\n",
       "      <td>...</td>\n",
       "      <td>...</td>\n",
       "      <td>...</td>\n",
       "      <td>...</td>\n",
       "      <td>...</td>\n",
       "      <td>...</td>\n",
       "    </tr>\n",
       "    <tr>\n",
       "      <th>2324</th>\n",
       "      <td>1570.0</td>\n",
       "      <td>1591.0</td>\n",
       "      <td>1380.0</td>\n",
       "      <td>3.863328</td>\n",
       "      <td>723.0</td>\n",
       "      <td>89.150879</td>\n",
       "      <td>496.0</td>\n",
       "      <td>7.125735</td>\n",
       "      <td>0.0</td>\n",
       "      <td>0.0</td>\n",
       "      <td>...</td>\n",
       "      <td>129.0</td>\n",
       "      <td>223.0</td>\n",
       "      <td>89.150879</td>\n",
       "      <td>0.00000</td>\n",
       "      <td>0.0</td>\n",
       "      <td>0.0</td>\n",
       "      <td>0.0</td>\n",
       "      <td>0.0</td>\n",
       "      <td>0.0</td>\n",
       "      <td>0.0</td>\n",
       "    </tr>\n",
       "    <tr>\n",
       "      <th>2325</th>\n",
       "      <td>1554.0</td>\n",
       "      <td>1591.0</td>\n",
       "      <td>1705.0</td>\n",
       "      <td>5.067396</td>\n",
       "      <td>940.0</td>\n",
       "      <td>114.179527</td>\n",
       "      <td>570.0</td>\n",
       "      <td>9.412616</td>\n",
       "      <td>0.0</td>\n",
       "      <td>0.0</td>\n",
       "      <td>...</td>\n",
       "      <td>129.0</td>\n",
       "      <td>226.0</td>\n",
       "      <td>114.179527</td>\n",
       "      <td>0.00000</td>\n",
       "      <td>0.0</td>\n",
       "      <td>0.0</td>\n",
       "      <td>0.0</td>\n",
       "      <td>0.0</td>\n",
       "      <td>0.0</td>\n",
       "      <td>0.0</td>\n",
       "    </tr>\n",
       "    <tr>\n",
       "      <th>2326</th>\n",
       "      <td>1571.0</td>\n",
       "      <td>1589.0</td>\n",
       "      <td>962.0</td>\n",
       "      <td>4.360104</td>\n",
       "      <td>569.0</td>\n",
       "      <td>103.134723</td>\n",
       "      <td>439.0</td>\n",
       "      <td>6.271699</td>\n",
       "      <td>0.0</td>\n",
       "      <td>0.0</td>\n",
       "      <td>...</td>\n",
       "      <td>124.0</td>\n",
       "      <td>226.0</td>\n",
       "      <td>94.086723</td>\n",
       "      <td>9.04800</td>\n",
       "      <td>0.0</td>\n",
       "      <td>0.0</td>\n",
       "      <td>0.0</td>\n",
       "      <td>0.0</td>\n",
       "      <td>0.0</td>\n",
       "      <td>0.0</td>\n",
       "    </tr>\n",
       "    <tr>\n",
       "      <th>2327</th>\n",
       "      <td>1591.0</td>\n",
       "      <td>1594.0</td>\n",
       "      <td>1520.0</td>\n",
       "      <td>3.907887</td>\n",
       "      <td>750.0</td>\n",
       "      <td>118.110717</td>\n",
       "      <td>526.0</td>\n",
       "      <td>14.953657</td>\n",
       "      <td>0.0</td>\n",
       "      <td>0.0</td>\n",
       "      <td>...</td>\n",
       "      <td>129.0</td>\n",
       "      <td>207.0</td>\n",
       "      <td>118.110717</td>\n",
       "      <td>0.00000</td>\n",
       "      <td>0.0</td>\n",
       "      <td>0.0</td>\n",
       "      <td>0.0</td>\n",
       "      <td>0.0</td>\n",
       "      <td>0.0</td>\n",
       "      <td>0.0</td>\n",
       "    </tr>\n",
       "    <tr>\n",
       "      <th>2328</th>\n",
       "      <td>1569.0</td>\n",
       "      <td>1603.0</td>\n",
       "      <td>1537.0</td>\n",
       "      <td>2.167774</td>\n",
       "      <td>883.0</td>\n",
       "      <td>160.166238</td>\n",
       "      <td>406.0</td>\n",
       "      <td>11.336151</td>\n",
       "      <td>0.0</td>\n",
       "      <td>0.0</td>\n",
       "      <td>...</td>\n",
       "      <td>126.0</td>\n",
       "      <td>227.0</td>\n",
       "      <td>110.160958</td>\n",
       "      <td>50.00528</td>\n",
       "      <td>0.0</td>\n",
       "      <td>0.0</td>\n",
       "      <td>0.0</td>\n",
       "      <td>0.0</td>\n",
       "      <td>0.0</td>\n",
       "      <td>0.0</td>\n",
       "    </tr>\n",
       "  </tbody>\n",
       "</table>\n",
       "<p>2328 rows × 30 columns</p>\n",
       "</div>"
      ],
      "text/plain": [
       "      Начальная температура  Конечная температура  \\\n",
       "0                    1571.0                1613.0   \n",
       "1                    1581.0                1602.0   \n",
       "2                    1596.0                1599.0   \n",
       "3                    1601.0                1625.0   \n",
       "4                    1576.0                1602.0   \n",
       "...                     ...                   ...   \n",
       "2324                 1570.0                1591.0   \n",
       "2325                 1554.0                1591.0   \n",
       "2326                 1571.0                1589.0   \n",
       "2327                 1591.0                1594.0   \n",
       "2328                 1569.0                1603.0   \n",
       "\n",
       "      Продолжительность работы с котлом  Полная мощность  Время нагрева  \\\n",
       "0                                1714.0         3.716640         1098.0   \n",
       "1                                1265.0         2.586371          811.0   \n",
       "2                                1753.0         5.014163          655.0   \n",
       "3                                1220.0         3.399456          741.0   \n",
       "4                                1536.0         2.815155          869.0   \n",
       "...                                 ...              ...            ...   \n",
       "2324                             1380.0         3.863328          723.0   \n",
       "2325                             1705.0         5.067396          940.0   \n",
       "2326                              962.0         4.360104          569.0   \n",
       "2327                             1520.0         3.907887          750.0   \n",
       "2328                             1537.0         2.167774          883.0   \n",
       "\n",
       "      Проволочные материалы  Сыпучие материалы      Газ 1  Bulk 1  Bulk 2  \\\n",
       "0                 60.059998              399.0  29.749986     0.0     0.0   \n",
       "1                 96.052315              428.0  12.555561     0.0     0.0   \n",
       "2                 91.160157              391.0  28.554793     0.0     0.0   \n",
       "3                 89.063515              441.0  18.841219     0.0     0.0   \n",
       "4                 98.352796              432.0   5.413692     0.0     0.0   \n",
       "...                     ...                ...        ...     ...     ...   \n",
       "2324              89.150879              496.0   7.125735     0.0     0.0   \n",
       "2325             114.179527              570.0   9.412616     0.0     0.0   \n",
       "2326             103.134723              439.0   6.271699     0.0     0.0   \n",
       "2327             118.110717              526.0  14.953657     0.0     0.0   \n",
       "2328             160.166238              406.0  11.336151     0.0     0.0   \n",
       "\n",
       "      ...  Bulk 14  Bulk 15      Wire 1    Wire 2  Wire 3  Wire 4  Wire 6  \\\n",
       "0     ...    150.0    154.0   60.059998   0.00000     0.0     0.0     0.0   \n",
       "1     ...    149.0    154.0   96.052315   0.00000     0.0     0.0     0.0   \n",
       "2     ...    152.0    153.0   91.160157   0.00000     0.0     0.0     0.0   \n",
       "3     ...    153.0    154.0   89.063515   0.00000     0.0     0.0     0.0   \n",
       "4     ...    151.0    152.0   89.238236   9.11456     0.0     0.0     0.0   \n",
       "...   ...      ...      ...         ...       ...     ...     ...     ...   \n",
       "2324  ...    129.0    223.0   89.150879   0.00000     0.0     0.0     0.0   \n",
       "2325  ...    129.0    226.0  114.179527   0.00000     0.0     0.0     0.0   \n",
       "2326  ...    124.0    226.0   94.086723   9.04800     0.0     0.0     0.0   \n",
       "2327  ...    129.0    207.0  118.110717   0.00000     0.0     0.0     0.0   \n",
       "2328  ...    126.0    227.0  110.160958  50.00528     0.0     0.0     0.0   \n",
       "\n",
       "      Wire 7  Wire 8  Wire 9  \n",
       "0        0.0     0.0     0.0  \n",
       "1        0.0     0.0     0.0  \n",
       "2        0.0     0.0     0.0  \n",
       "3        0.0     0.0     0.0  \n",
       "4        0.0     0.0     0.0  \n",
       "...      ...     ...     ...  \n",
       "2324     0.0     0.0     0.0  \n",
       "2325     0.0     0.0     0.0  \n",
       "2326     0.0     0.0     0.0  \n",
       "2327     0.0     0.0     0.0  \n",
       "2328     0.0     0.0     0.0  \n",
       "\n",
       "[2328 rows x 30 columns]"
      ]
     },
     "execution_count": 22,
     "metadata": {},
     "output_type": "execute_result"
    }
   ],
   "source": [
    "data_full"
   ]
  },
  {
   "cell_type": "markdown",
   "id": "4a911282",
   "metadata": {},
   "source": [
    "## Моделирование"
   ]
  },
  {
   "cell_type": "markdown",
   "id": "4d7e1a54",
   "metadata": {},
   "source": [
    "### Линейная регрессия\n",
    "Для начала разделим признаки и проверим метрику на самой базовой модели - Линейной регрессии."
   ]
  },
  {
   "cell_type": "code",
   "execution_count": 23,
   "id": "7315f3b2",
   "metadata": {},
   "outputs": [
    {
     "name": "stdout",
     "output_type": "stream",
     "text": [
      "(1746, 29) (582, 29)\n",
      "6.63633527914538\n"
     ]
    }
   ],
   "source": [
    "features = data_full.drop(['Конечная температура'], axis=1)\n",
    "target = data_full['Конечная температура']\n",
    "\n",
    "features_train, features_test, target_train, target_test = train_test_split(\n",
    "                                                            features, target,\n",
    "                                                            test_size=0.25,\n",
    "                                                            random_state=RANDOM_STATE,\n",
    "                                                            shuffle=True)\n",
    "\n",
    "print(features_train.shape, features_test.shape)\n",
    "\n",
    "model = LinearRegression()\n",
    "model.fit(features_train, target_train)\n",
    "predict = model.predict(features_test)\n",
    "\n",
    "print(mean_absolute_error(target_test, predict))"
   ]
  },
  {
   "cell_type": "raw",
   "id": "f7743622",
   "metadata": {},
   "source": [
    "# обучение линейной регрессией\n",
    "model = LinearRegression()\n",
    "\n",
    "print(f'''Значение метрики RMSE на обучающей выборке для LinearRegression''', cross_val_score(model,X_train, y_train, \n",
    "                         cv = 5, \n",
    "                         n_jobs = -1, \n",
    "                         scoring = 'neg_mean_absolute_error').mean())"
   ]
  },
  {
   "cell_type": "markdown",
   "id": "5efe7860",
   "metadata": {},
   "source": [
    "### Решающее дерево\n",
    "Для запуска подбора параметров на этой модели создадим свой оценщик и с помощью GridSearch проведем подбор параметров методом кросс-валидации"
   ]
  },
  {
   "cell_type": "code",
   "execution_count": 24,
   "id": "478fd51f",
   "metadata": {
    "scrolled": false
   },
   "outputs": [
    {
     "name": "stdout",
     "output_type": "stream",
     "text": [
      "Fitting 5 folds for each of 36 candidates, totalling 180 fits\n",
      "Best score: -6.138960413227583 \n",
      "Best parameters: {'max_depth': 15, 'n_estimators': 45, 'random_state': 80523} \n",
      "Fit time: 0.42000532150268555\n"
     ]
    }
   ],
   "source": [
    "mae = make_scorer(mean_absolute_error, greater_is_better=False)\n",
    "\n",
    "params_forest = {\n",
    "    'n_estimators': range(5, 50, 5),\n",
    "    'max_depth': range(5, 25, 5),\n",
    "    'random_state': [RANDOM_STATE]\n",
    "#     'criterion': ['absolute_error'] этот параметр у меня крашится на платформе, дома работает\n",
    "}\n",
    "\n",
    "forest = GridSearchCV(RandomForestRegressor(), params_forest, scoring=mae, verbose=1)\n",
    "forest.fit(features_train, target_train)\n",
    "\n",
    "print('Best score:', forest.best_score_, '\\nBest parameters:', forest.best_params_,\n",
    "       '\\nFit time:', forest.refit_time_)"
   ]
  },
  {
   "cell_type": "markdown",
   "id": "9add380b",
   "metadata": {},
   "source": [
    "### Бустинг\n",
    "Попробуем смоделировать прогнозы на модели бустинга - Catboost.\n",
    "Также через GridSearch подберем лучшие параметры."
   ]
  },
  {
   "cell_type": "code",
   "execution_count": 25,
   "id": "59d9ff29",
   "metadata": {
    "scrolled": true
   },
   "outputs": [
    {
     "name": "stdout",
     "output_type": "stream",
     "text": [
      "Fitting 5 folds for each of 2 candidates, totalling 10 fits\n",
      "Best score: -5.911114816135143 \n",
      "Best parameters: {'l2_leaf_reg': 4, 'loss_function': 'MAE', 'random_state': 80523} \n",
      "Fit time: 0.8960769176483154\n"
     ]
    }
   ],
   "source": [
    "params_cat = {\n",
    "    'loss_function': ['MAE'],\n",
    "    'l2_leaf_reg': [4, 5],\n",
    "    'random_state': [RANDOM_STATE]\n",
    "}\n",
    "\n",
    "catboost = GridSearchCV(CatBoostRegressor(), params_cat, scoring=mae)\n",
    "catboost.fit(features_train, target_train)\n",
    "\n",
    "print('Best score:', catboost.best_score_, '\\nBest parameters:', catboost.best_params_,\n",
    "       '\\nFit time:', catboost.refit_time_)"
   ]
  },
  {
   "cell_type": "markdown",
   "id": "331a7159",
   "metadata": {},
   "source": [
    "### Важность признаков\n",
    "Посмотрим на график важности признаков у решающего дерева и бустинга.\n",
    "Как видим, некоторые признаки совсем слабо влияют. Возможно, их удаление ускорит работу модели. *(но мы удалять не будем, т.к. метрика падает)*"
   ]
  },
  {
   "cell_type": "code",
   "execution_count": 26,
   "id": "b3304260",
   "metadata": {},
   "outputs": [
    {
     "data": {
      "image/png": "[encoded data removed]",
      "text/plain": [
       "<Figure size 1200x600 with 1 Axes>"
      ]
     },
     "metadata": {},
     "output_type": "display_data"
    }
   ],
   "source": [
    "importance_cat = pd.Series(catboost.best_estimator_.feature_importances_,\n",
    "                         features.columns).sort_values()\n",
    "importance_forest = pd.Series(forest.best_estimator_.feature_importances_ * 100,\n",
    "                         features.columns).sort_values()\n",
    "\n",
    "\n",
    "plt.figure(figsize=(12,6))\n",
    "plt.rcParams['font.size'] = '13'\n",
    "importance_forest.plot.bar(cmap='Set2')\n",
    "importance_cat.plot.bar(cmap='Wistia',alpha=0.8)\n",
    "plt.title(\"Важность признаков\")\n",
    "plt.ylabel('Важность')\n",
    "plt.show()"
   ]
  },
  {
   "cell_type": "markdown",
   "id": "8fc9ef00",
   "metadata": {},
   "source": [
    "### Финальное предсказание"
   ]
  },
  {
   "cell_type": "code",
   "execution_count": 27,
   "id": "3496af43",
   "metadata": {},
   "outputs": [
    {
     "name": "stdout",
     "output_type": "stream",
     "text": [
      "5.937748352072695\n"
     ]
    }
   ],
   "source": [
    "predict = catboost.best_estimator_.predict(features_test)\n",
    "print(mean_absolute_error(target_test, predict))"
   ]
  },
  {
   "cell_type": "markdown",
   "id": "fb035b93",
   "metadata": {},
   "source": [
    "Модель бустинга Catboost показала наилучший результат, именно поэтому финальное предсказание выполняем на ней.\n",
    "\n",
    "Значение МАЕ на тестовой выборке - 5.93"
   ]
  },
  {
   "cell_type": "markdown",
   "id": "fbdee6a3",
   "metadata": {},
   "source": [
    "## Отчет"
   ]
  },
  {
   "cell_type": "markdown",
   "id": "7c7cb7dc",
   "metadata": {},
   "source": [
    "Работа была сформирована по следующему плану:\n",
    "\n",
    "1. Инструкция\n",
    "2. Загрузка данных\n",
    "3. Обработка данных\n",
    "4. Исследование данных\n",
    "5. Моделирование\n",
    "\n",
    "**Инструкция:**\n",
    "\n",
    "На данном этапе было загружено описание работы, ТЗ и описание данных.\n",
    "\n",
    "**Загрузка данных:**\n",
    "\n",
    "Здесь были загружены все файлы для дальнейшей работы, проведен первичный осмотр.\n",
    "\n",
    "**Обработка данных:**\n",
    "\n",
    "Этап обработки данных можно считать самым оригинальным, т.к. вся подготовка данных выполнялась точечно, в соответсвии с дальнейшей задачей и особенностями стартовых датасетов. Сама обработка заключалась в создании новой таблицы признаков, куда загружались только те данные, которые существовали во всех других таблицах. Таким образом нам удалось сформировать четкие признаки по 2328 котлам. Основным признаком явлись ключ - уникальный номер котла, начальная температура стали и конечная температура стали - это признак мы в дальнейшем предсказывали с помощью моделей. Остальные признаки были либо добавлены из уже существующих датасетов (*Bulk 1, Wire 1, Газ 1, etc.*), либо сформированы вручную (*Время работы с котлом, Время нагрева, Суммарные количества сыпучих и проволочных материалов, Работа*).\n",
    "\n",
    "* *Трудности:*\n",
    "\n",
    "Основными трудностями данного этапа можно считать несформированность начальных датасетов в единый, отсутсвие данных по некоторым котлам во всех таблицах, пропуски (*NaN*), несоответсвие данных нужному типу.\n",
    "\n",
    "**Исследование данных**:\n",
    "\n",
    "Этап исследования данных включал в себя графический анализ сформированных в единый датафрейм данных. На данном этапе были устранены явные выбросы - температура в котле ниже *1450 градусов* и реактивная мощность *-700*. Также был проведен графический анализ корреляции признаков, с помощью которого был удален признак, с отстутствующей информацией, а также признак реактивной мощности и работа. Кроме этого, был проведен графический анализ общего количества данных в признаках *Bulk и Wire.*\n",
    "\n",
    "* *Трудности:*\n",
    "\n",
    "Реальных трудностей в этом пункте не встретилось, однако, из-за большого количества признаков был затруднен анализ графического изображения корреляции. Для решения проблемы была выбрана яркая и достаточно контрастная палитра цветов, а также увеличен размер шрифта. Кроме этого при графическом анализе начальной температуры было обнаружено не нормальное распределение - о чем сведетельствуют 3 пика на графике. В связи с таким разбросом данных модель неизбежно будет ошибаться на данных котлах.\n",
    "\n",
    "**Моделирование**:\n",
    "\n",
    "Моделирование включало разбиение датафрейма с целью отделить целевой признак и разбить данные на две выборки, а также создание трех моделей: линейная регрессия, решающее дерево и бустинг. Самой быстрой, но самой неточной моделью, ождидаемо, является модель регрессии. Для остальных моделей были подобраны лучшие параметры с помощью кросс-валидации GridSearch. Для оценки предсказаний была выбрана метрика МАЕ - mean absolute error (*средняя абсолютная ошибка, MAE = (1/n) Σ(i=1 to n) |y_i – ŷ_i|*). Также для моделей был выведен график важности признаков. Самой точной в соответсвии с метрикой оказалась модель бустинга -  *Catboost*. Именно поэтому финальное предсказание на тестовой выборке данных проводилось на ней. Итоговое значение МАЕ составило *5.93*.\n",
    "\n",
    "* *Трудности:*\n",
    "Основной трудностью являлось возвращение к предыдущим этапам для формирования признаков с наименьшим возможным МАЕ\n",
    "\n",
    "**Гиперпараметры Catboost:**\n",
    "* 'l2_leaf_reg': 4\n",
    "* 'loss_function': 'MAE'\n",
    "* 'random_state': 80523\n",
    "* остальные гиперпараметры по умолчанию\n",
    "\n",
    "**Признаки, используемые для обучения моделей:**\n",
    " *  Начальная температура              \n",
    " *  ***Конечная температура*** - именно этот признак являлся целевым для предсказаний моделей              \n",
    " *  Продолжительность работы с котлом  \n",
    " *  Полная мощность                    \n",
    " *  Время нагрева                      \n",
    " *  Проволочные материалы              \n",
    " *  Сыпучие материалы                  \n",
    " *  Газ 1                              \n",
    " *  Bulk 1                             \n",
    " *  Bulk 2                             \n",
    " *  Bulk 3                             \n",
    " *  Bulk 4                            \n",
    " *  Bulk 5                             \n",
    " *  Bulk 6                             \n",
    " *  Bulk 8                            \n",
    " *  Bulk 9                             \n",
    " *  Bulk 10                           \n",
    " *  Bulk 11                           \n",
    " *  Bulk 12                            \n",
    " *  Bulk 13                            \n",
    " *  Bulk 14                            \n",
    " *  Bulk 15                            \n",
    " *  Wire 1                             \n",
    " *  Wire 2                             \n",
    " *  Wire 3                             \n",
    " *  Wire 4                            \n",
    " *  Wire 6                             \n",
    " *  Wire 7                             \n",
    " *  Wire 8                             \n",
    " *  Wire 9  \n",
    " \n",
    "**Рекомендации для улучшения модели:**\n",
    "\n",
    "Для улучшения работы модели необходимо строго регламентировать время первичного и последнего замера. Важно избежать разброса данных в первичной температуре, это поможет улучшить метрику почти в два раза.\n",
    "\n",
    "Также для создания новых признаков, возможно, стоит дать четкое соотношение мматериалов при добавлении сыпучих веществ. Таким образом, каждая группа при разных соотношениях может дать необходимую информацию для моделии также улучшить ее метрику.\n",
    "\n",
    "Кроме этого важно точно вести запись указанных выше параметров по каждому котлу, избегать пропусков. В таком случае мы будем иметь больше данных для работы, что тоже улучшит обучаемость модели.  "
   ]
  }
 ],
 "metadata": {
  "ExecuteTimeLog": [
   {
    "duration": 1355,
    "start_time": "2023-05-14T09:55:21.443Z"
   },
   {
    "duration": 802,
    "start_time": "2023-05-14T09:55:24.845Z"
   },
   {
    "duration": 5007,
    "start_time": "2023-05-14T09:55:51.140Z"
   },
   {
    "duration": 12,
    "start_time": "2023-05-14T09:55:56.149Z"
   },
   {
    "duration": 7,
    "start_time": "2023-05-14T09:56:12.002Z"
   },
   {
    "duration": 6,
    "start_time": "2023-05-14T09:56:15.690Z"
   },
   {
    "duration": 7,
    "start_time": "2023-05-14T09:56:21.658Z"
   },
   {
    "duration": 7,
    "start_time": "2023-05-14T09:56:25.105Z"
   },
   {
    "duration": 2,
    "start_time": "2023-05-14T09:57:18.350Z"
   },
   {
    "duration": 14,
    "start_time": "2023-05-14T09:57:26.947Z"
   },
   {
    "duration": 5,
    "start_time": "2023-05-14T09:57:45.041Z"
   },
   {
    "duration": 7,
    "start_time": "2023-05-14T09:57:56.653Z"
   },
   {
    "duration": 7,
    "start_time": "2023-05-14T09:58:01.850Z"
   },
   {
    "duration": 5316,
    "start_time": "2023-05-14T09:58:42.212Z"
   },
   {
    "duration": 15,
    "start_time": "2023-05-14T09:58:56.181Z"
   },
   {
    "duration": 8,
    "start_time": "2023-05-14T09:59:07.292Z"
   },
   {
    "duration": 105,
    "start_time": "2023-05-14T10:03:05.085Z"
   },
   {
    "duration": 8,
    "start_time": "2023-05-14T10:03:56.626Z"
   },
   {
    "duration": 47,
    "start_time": "2023-05-14T10:04:16.255Z"
   },
   {
    "duration": 46,
    "start_time": "2023-05-14T10:04:37.748Z"
   },
   {
    "duration": 7,
    "start_time": "2023-05-14T10:04:46.505Z"
   },
   {
    "duration": 44,
    "start_time": "2023-05-14T10:04:48.656Z"
   },
   {
    "duration": 5140,
    "start_time": "2023-05-14T10:06:01.581Z"
   },
   {
    "duration": 13,
    "start_time": "2023-05-14T10:06:08.448Z"
   },
   {
    "duration": 6,
    "start_time": "2023-05-14T10:07:14.488Z"
   },
   {
    "duration": 6104,
    "start_time": "2023-05-14T10:07:16.559Z"
   },
   {
    "duration": 14,
    "start_time": "2023-05-14T10:07:24.540Z"
   },
   {
    "duration": 16,
    "start_time": "2023-05-14T10:13:28.212Z"
   },
   {
    "duration": 12,
    "start_time": "2023-05-14T10:13:35.348Z"
   },
   {
    "duration": 6,
    "start_time": "2023-05-14T10:14:33.019Z"
   },
   {
    "duration": 6,
    "start_time": "2023-05-14T10:14:40.158Z"
   },
   {
    "duration": 5,
    "start_time": "2023-05-14T10:14:46.842Z"
   },
   {
    "duration": 9,
    "start_time": "2023-05-14T10:15:46.051Z"
   },
   {
    "duration": 7,
    "start_time": "2023-05-14T10:17:24.392Z"
   },
   {
    "duration": 10,
    "start_time": "2023-05-14T10:33:47.299Z"
   },
   {
    "duration": 7,
    "start_time": "2023-05-14T10:33:51.238Z"
   },
   {
    "duration": 5,
    "start_time": "2023-05-14T10:34:04.983Z"
   },
   {
    "duration": 7,
    "start_time": "2023-05-14T10:34:27.399Z"
   },
   {
    "duration": 6,
    "start_time": "2023-05-14T10:34:57.279Z"
   },
   {
    "duration": 5,
    "start_time": "2023-05-14T10:41:34.304Z"
   },
   {
    "duration": 1989,
    "start_time": "2023-05-14T10:42:07.642Z"
   },
   {
    "duration": 17,
    "start_time": "2023-05-14T10:42:13.950Z"
   },
   {
    "duration": 7,
    "start_time": "2023-05-14T10:43:01.210Z"
   },
   {
    "duration": 1999,
    "start_time": "2023-05-14T10:43:03.099Z"
   },
   {
    "duration": 16,
    "start_time": "2023-05-14T10:43:07.983Z"
   },
   {
    "duration": 2238,
    "start_time": "2023-05-14T10:43:26.018Z"
   },
   {
    "duration": 15,
    "start_time": "2023-05-14T10:43:28.912Z"
   },
   {
    "duration": 18,
    "start_time": "2023-05-14T10:43:32.658Z"
   },
   {
    "duration": 14,
    "start_time": "2023-05-14T10:44:18.464Z"
   },
   {
    "duration": 2494,
    "start_time": "2023-05-14T10:44:20.116Z"
   },
   {
    "duration": 13,
    "start_time": "2023-05-14T10:44:23.970Z"
   },
   {
    "duration": 8,
    "start_time": "2023-05-14T10:45:08.304Z"
   },
   {
    "duration": 23,
    "start_time": "2023-05-14T10:45:12.916Z"
   },
   {
    "duration": 1302,
    "start_time": "2023-05-14T10:47:25.563Z"
   },
   {
    "duration": 419,
    "start_time": "2023-05-14T10:47:26.867Z"
   },
   {
    "duration": 9,
    "start_time": "2023-05-14T10:47:27.289Z"
   },
   {
    "duration": 13,
    "start_time": "2023-05-14T10:47:27.301Z"
   },
   {
    "duration": 7083,
    "start_time": "2023-05-14T10:47:27.315Z"
   },
   {
    "duration": 16,
    "start_time": "2023-05-14T10:47:34.402Z"
   },
   {
    "duration": 64,
    "start_time": "2023-05-14T10:47:34.420Z"
   },
   {
    "duration": 30,
    "start_time": "2023-05-14T10:47:34.486Z"
   },
   {
    "duration": 22,
    "start_time": "2023-05-14T10:47:34.517Z"
   },
   {
    "duration": 2366,
    "start_time": "2023-05-14T10:47:34.542Z"
   },
   {
    "duration": 16,
    "start_time": "2023-05-14T10:47:36.910Z"
   },
   {
    "duration": 11,
    "start_time": "2023-05-14T10:49:22.768Z"
   },
   {
    "duration": 5,
    "start_time": "2023-05-14T10:50:07.597Z"
   },
   {
    "duration": 2175,
    "start_time": "2023-05-14T10:50:09.564Z"
   },
   {
    "duration": 16,
    "start_time": "2023-05-14T10:50:18.591Z"
   },
   {
    "duration": 5,
    "start_time": "2023-05-14T10:50:59.907Z"
   },
   {
    "duration": 2307,
    "start_time": "2023-05-14T10:51:02.272Z"
   },
   {
    "duration": 27,
    "start_time": "2023-05-14T10:51:06.053Z"
   },
   {
    "duration": 5,
    "start_time": "2023-05-14T10:51:27.591Z"
   },
   {
    "duration": 2108,
    "start_time": "2023-05-14T10:51:29.222Z"
   },
   {
    "duration": 24,
    "start_time": "2023-05-14T10:51:31.878Z"
   },
   {
    "duration": 1242,
    "start_time": "2023-05-14T10:51:59.267Z"
   },
   {
    "duration": 461,
    "start_time": "2023-05-14T10:52:00.511Z"
   },
   {
    "duration": 14,
    "start_time": "2023-05-14T10:52:00.974Z"
   },
   {
    "duration": 25,
    "start_time": "2023-05-14T10:52:00.990Z"
   },
   {
    "duration": 6963,
    "start_time": "2023-05-14T10:52:01.019Z"
   },
   {
    "duration": 20,
    "start_time": "2023-05-14T10:52:07.984Z"
   },
   {
    "duration": 27,
    "start_time": "2023-05-14T10:52:08.006Z"
   },
   {
    "duration": 54,
    "start_time": "2023-05-14T10:52:08.035Z"
   },
   {
    "duration": 9,
    "start_time": "2023-05-14T10:52:08.091Z"
   },
   {
    "duration": 2164,
    "start_time": "2023-05-14T10:52:08.103Z"
   },
   {
    "duration": 25,
    "start_time": "2023-05-14T10:52:10.274Z"
   },
   {
    "duration": 18,
    "start_time": "2023-05-14T10:53:01.671Z"
   },
   {
    "duration": 2400,
    "start_time": "2023-05-14T10:53:33.719Z"
   },
   {
    "duration": 30,
    "start_time": "2023-05-14T10:53:47.765Z"
   },
   {
    "duration": 21,
    "start_time": "2023-05-14T10:54:56.123Z"
   },
   {
    "duration": 1274,
    "start_time": "2023-05-14T10:57:57.192Z"
   },
   {
    "duration": 391,
    "start_time": "2023-05-14T10:57:58.475Z"
   },
   {
    "duration": 7,
    "start_time": "2023-05-14T10:57:58.867Z"
   },
   {
    "duration": 6390,
    "start_time": "2023-05-14T10:57:58.876Z"
   },
   {
    "duration": 20,
    "start_time": "2023-05-14T10:58:05.268Z"
   },
   {
    "duration": 22,
    "start_time": "2023-05-14T10:58:05.290Z"
   },
   {
    "duration": 2111,
    "start_time": "2023-05-14T10:58:05.314Z"
   },
   {
    "duration": 46,
    "start_time": "2023-05-14T10:58:07.427Z"
   },
   {
    "duration": 1230,
    "start_time": "2023-05-14T11:02:05.903Z"
   },
   {
    "duration": 381,
    "start_time": "2023-05-14T11:02:07.135Z"
   },
   {
    "duration": 38,
    "start_time": "2023-05-14T11:02:07.518Z"
   },
   {
    "duration": 6223,
    "start_time": "2023-05-14T11:02:07.558Z"
   },
   {
    "duration": 21,
    "start_time": "2023-05-14T11:02:13.784Z"
   },
   {
    "duration": 22,
    "start_time": "2023-05-14T11:02:13.807Z"
   },
   {
    "duration": 1931,
    "start_time": "2023-05-14T11:02:13.831Z"
   },
   {
    "duration": 21,
    "start_time": "2023-05-14T11:02:15.763Z"
   },
   {
    "duration": 15,
    "start_time": "2023-05-14T11:03:16.261Z"
   },
   {
    "duration": 27,
    "start_time": "2023-05-14T12:19:35.621Z"
   },
   {
    "duration": 2915,
    "start_time": "2023-05-14T12:24:22.047Z"
   },
   {
    "duration": 9,
    "start_time": "2023-05-14T12:24:33.235Z"
   },
   {
    "duration": 15,
    "start_time": "2023-05-14T12:24:37.886Z"
   },
   {
    "duration": 264,
    "start_time": "2023-05-14T12:25:00.402Z"
   },
   {
    "duration": 13,
    "start_time": "2023-05-14T12:25:04.315Z"
   },
   {
    "duration": 8,
    "start_time": "2023-05-14T12:25:15.687Z"
   },
   {
    "duration": 9,
    "start_time": "2023-05-14T12:25:50.512Z"
   },
   {
    "duration": 1339,
    "start_time": "2023-05-14T12:26:11.090Z"
   },
   {
    "duration": 5,
    "start_time": "2023-05-14T12:30:31.328Z"
   },
   {
    "duration": 10,
    "start_time": "2023-05-14T12:30:43.211Z"
   },
   {
    "duration": 601,
    "start_time": "2023-05-14T12:31:38.629Z"
   },
   {
    "duration": 63,
    "start_time": "2023-05-14T12:31:49.664Z"
   },
   {
    "duration": 52,
    "start_time": "2023-05-14T12:32:01.736Z"
   },
   {
    "duration": 98,
    "start_time": "2023-05-14T12:32:06.886Z"
   },
   {
    "duration": 49,
    "start_time": "2023-05-14T12:32:19.491Z"
   },
   {
    "duration": 13,
    "start_time": "2023-05-14T12:32:24.953Z"
   },
   {
    "duration": 6,
    "start_time": "2023-05-14T12:32:37.386Z"
   },
   {
    "duration": 5,
    "start_time": "2023-05-14T12:32:57.412Z"
   },
   {
    "duration": 7,
    "start_time": "2023-05-14T12:33:05.843Z"
   },
   {
    "duration": 15,
    "start_time": "2023-05-14T12:33:17.090Z"
   },
   {
    "duration": 19,
    "start_time": "2023-05-14T12:33:31.494Z"
   },
   {
    "duration": 18,
    "start_time": "2023-05-14T12:33:40.286Z"
   },
   {
    "duration": 18,
    "start_time": "2023-05-14T12:34:31.110Z"
   },
   {
    "duration": 18,
    "start_time": "2023-05-14T12:34:46.886Z"
   },
   {
    "duration": 19,
    "start_time": "2023-05-14T12:34:58.642Z"
   },
   {
    "duration": 1432,
    "start_time": "2023-05-14T12:35:12.092Z"
   },
   {
    "duration": 19,
    "start_time": "2023-05-14T12:35:35.641Z"
   },
   {
    "duration": 28,
    "start_time": "2023-05-14T12:35:42.891Z"
   },
   {
    "duration": 18,
    "start_time": "2023-05-14T12:36:16.498Z"
   },
   {
    "duration": 18,
    "start_time": "2023-05-14T12:36:30.786Z"
   },
   {
    "duration": 18,
    "start_time": "2023-05-14T12:36:41.939Z"
   },
   {
    "duration": 95,
    "start_time": "2023-05-14T12:37:56.592Z"
   },
   {
    "duration": 74,
    "start_time": "2023-05-14T12:38:05.689Z"
   },
   {
    "duration": 66,
    "start_time": "2023-05-14T12:38:10.485Z"
   },
   {
    "duration": 33,
    "start_time": "2023-05-14T12:38:14.878Z"
   },
   {
    "duration": 26,
    "start_time": "2023-05-14T12:38:31.146Z"
   },
   {
    "duration": 66,
    "start_time": "2023-05-14T12:38:41.487Z"
   },
   {
    "duration": 58,
    "start_time": "2023-05-14T12:38:50.128Z"
   },
   {
    "duration": 22,
    "start_time": "2023-05-14T12:38:58.100Z"
   },
   {
    "duration": 18,
    "start_time": "2023-05-14T12:39:46.959Z"
   },
   {
    "duration": 18,
    "start_time": "2023-05-14T12:40:28.290Z"
   },
   {
    "duration": 19,
    "start_time": "2023-05-14T12:40:37.814Z"
   },
   {
    "duration": 32,
    "start_time": "2023-05-14T12:40:52.752Z"
   },
   {
    "duration": 19,
    "start_time": "2023-05-14T12:40:56.299Z"
   },
   {
    "duration": 29,
    "start_time": "2023-05-14T12:41:02.503Z"
   },
   {
    "duration": 22,
    "start_time": "2023-05-14T12:41:12.902Z"
   },
   {
    "duration": 19,
    "start_time": "2023-05-14T12:41:28.519Z"
   },
   {
    "duration": 20,
    "start_time": "2023-05-14T12:41:51.443Z"
   },
   {
    "duration": 19,
    "start_time": "2023-05-14T12:42:17.352Z"
   },
   {
    "duration": 19,
    "start_time": "2023-05-14T12:42:23.815Z"
   },
   {
    "duration": 22,
    "start_time": "2023-05-14T12:42:30.856Z"
   },
   {
    "duration": 18,
    "start_time": "2023-05-14T12:43:16.986Z"
   },
   {
    "duration": 17,
    "start_time": "2023-05-14T12:43:29.591Z"
   },
   {
    "duration": 18,
    "start_time": "2023-05-14T12:49:42.098Z"
   },
   {
    "duration": 21,
    "start_time": "2023-05-14T12:49:48.339Z"
   },
   {
    "duration": 13,
    "start_time": "2023-05-14T13:34:08.228Z"
   },
   {
    "duration": 78,
    "start_time": "2023-05-14T13:34:13.676Z"
   },
   {
    "duration": 5,
    "start_time": "2023-05-14T13:34:22.873Z"
   },
   {
    "duration": 763,
    "start_time": "2023-05-14T13:34:25.156Z"
   },
   {
    "duration": 5,
    "start_time": "2023-05-14T13:34:55.584Z"
   },
   {
    "duration": 730,
    "start_time": "2023-05-14T13:34:58.290Z"
   },
   {
    "duration": 16,
    "start_time": "2023-05-14T13:35:03.688Z"
   },
   {
    "duration": 20,
    "start_time": "2023-05-14T13:35:23.317Z"
   },
   {
    "duration": 18,
    "start_time": "2023-05-14T13:35:37.009Z"
   },
   {
    "duration": 10,
    "start_time": "2023-05-14T13:36:00.694Z"
   },
   {
    "duration": 7,
    "start_time": "2023-05-14T13:36:21.032Z"
   },
   {
    "duration": 25,
    "start_time": "2023-05-14T13:36:31.021Z"
   },
   {
    "duration": 1397,
    "start_time": "2023-05-14T13:37:30.254Z"
   },
   {
    "duration": 433,
    "start_time": "2023-05-14T13:37:31.653Z"
   },
   {
    "duration": 14,
    "start_time": "2023-05-14T13:37:32.088Z"
   },
   {
    "duration": 63,
    "start_time": "2023-05-14T13:37:32.105Z"
   },
   {
    "duration": 243,
    "start_time": "2023-05-14T13:37:32.170Z"
   },
   {
    "duration": 0,
    "start_time": "2023-05-14T13:37:32.416Z"
   },
   {
    "duration": 0,
    "start_time": "2023-05-14T13:37:32.417Z"
   },
   {
    "duration": 0,
    "start_time": "2023-05-14T13:37:32.419Z"
   },
   {
    "duration": 0,
    "start_time": "2023-05-14T13:37:32.420Z"
   },
   {
    "duration": 0,
    "start_time": "2023-05-14T13:37:32.421Z"
   },
   {
    "duration": 0,
    "start_time": "2023-05-14T13:37:32.423Z"
   },
   {
    "duration": 0,
    "start_time": "2023-05-14T13:37:32.424Z"
   },
   {
    "duration": 0,
    "start_time": "2023-05-14T13:37:32.425Z"
   },
   {
    "duration": 1447,
    "start_time": "2023-05-14T13:37:55.977Z"
   },
   {
    "duration": 428,
    "start_time": "2023-05-14T13:37:57.427Z"
   },
   {
    "duration": 8,
    "start_time": "2023-05-14T13:37:57.857Z"
   },
   {
    "duration": 6840,
    "start_time": "2023-05-14T13:37:57.867Z"
   },
   {
    "duration": 39,
    "start_time": "2023-05-14T13:38:04.709Z"
   },
   {
    "duration": 19,
    "start_time": "2023-05-14T13:38:04.751Z"
   },
   {
    "duration": 2626,
    "start_time": "2023-05-14T13:38:04.772Z"
   },
   {
    "duration": 45,
    "start_time": "2023-05-14T13:38:07.401Z"
   },
   {
    "duration": 32,
    "start_time": "2023-05-14T13:38:07.448Z"
   },
   {
    "duration": 0,
    "start_time": "2023-05-14T13:38:07.483Z"
   },
   {
    "duration": 0,
    "start_time": "2023-05-14T13:38:07.484Z"
   },
   {
    "duration": 0,
    "start_time": "2023-05-14T13:38:07.485Z"
   },
   {
    "duration": 0,
    "start_time": "2023-05-14T13:38:07.487Z"
   },
   {
    "duration": 25,
    "start_time": "2023-05-14T13:38:15.019Z"
   },
   {
    "duration": 4,
    "start_time": "2023-05-14T13:38:19.618Z"
   },
   {
    "duration": 924,
    "start_time": "2023-05-14T13:38:22.122Z"
   },
   {
    "duration": 11,
    "start_time": "2023-05-14T13:38:26.617Z"
   },
   {
    "duration": 13,
    "start_time": "2023-05-14T13:38:41.532Z"
   },
   {
    "duration": 4,
    "start_time": "2023-05-14T13:38:57.581Z"
   },
   {
    "duration": 204,
    "start_time": "2023-05-14T13:38:59.488Z"
   },
   {
    "duration": 5,
    "start_time": "2023-05-14T13:39:06.675Z"
   },
   {
    "duration": 5,
    "start_time": "2023-05-14T13:39:15.279Z"
   },
   {
    "duration": 743,
    "start_time": "2023-05-14T13:39:17.764Z"
   },
   {
    "duration": 17,
    "start_time": "2023-05-14T13:39:20.285Z"
   },
   {
    "duration": 1605,
    "start_time": "2023-05-14T13:39:36.872Z"
   },
   {
    "duration": 441,
    "start_time": "2023-05-14T13:39:38.480Z"
   },
   {
    "duration": 26,
    "start_time": "2023-05-14T13:39:38.923Z"
   },
   {
    "duration": 9050,
    "start_time": "2023-05-14T13:39:38.952Z"
   },
   {
    "duration": 44,
    "start_time": "2023-05-14T13:39:48.004Z"
   },
   {
    "duration": 7,
    "start_time": "2023-05-14T13:39:48.051Z"
   },
   {
    "duration": 3310,
    "start_time": "2023-05-14T13:39:48.059Z"
   },
   {
    "duration": 28,
    "start_time": "2023-05-14T13:39:51.371Z"
   },
   {
    "duration": 6,
    "start_time": "2023-05-14T13:39:51.408Z"
   },
   {
    "duration": 0,
    "start_time": "2023-05-14T13:39:51.416Z"
   },
   {
    "duration": 0,
    "start_time": "2023-05-14T13:39:51.417Z"
   },
   {
    "duration": 0,
    "start_time": "2023-05-14T13:39:51.418Z"
   },
   {
    "duration": 0,
    "start_time": "2023-05-14T13:39:51.420Z"
   },
   {
    "duration": 6,
    "start_time": "2023-05-14T13:40:05.024Z"
   },
   {
    "duration": 777,
    "start_time": "2023-05-14T13:40:16.528Z"
   },
   {
    "duration": 13,
    "start_time": "2023-05-14T13:40:20.181Z"
   },
   {
    "duration": 1316,
    "start_time": "2023-05-14T13:40:57.027Z"
   },
   {
    "duration": 15,
    "start_time": "2023-05-14T13:41:01.625Z"
   },
   {
    "duration": 20,
    "start_time": "2023-05-14T13:41:18.889Z"
   },
   {
    "duration": 11,
    "start_time": "2023-05-14T13:44:03.776Z"
   },
   {
    "duration": 9,
    "start_time": "2023-05-14T13:44:16.173Z"
   },
   {
    "duration": 17,
    "start_time": "2023-05-14T13:46:36.874Z"
   },
   {
    "duration": 18,
    "start_time": "2023-05-14T13:56:01.439Z"
   },
   {
    "duration": 9,
    "start_time": "2023-05-14T13:59:48.264Z"
   },
   {
    "duration": 20,
    "start_time": "2023-05-14T13:59:50.272Z"
   },
   {
    "duration": 9,
    "start_time": "2023-05-14T14:00:01.079Z"
   },
   {
    "duration": 1447,
    "start_time": "2023-05-14T14:00:03.424Z"
   },
   {
    "duration": 9,
    "start_time": "2023-05-14T14:00:22.847Z"
   },
   {
    "duration": 6,
    "start_time": "2023-05-14T14:00:25.430Z"
   },
   {
    "duration": 1646,
    "start_time": "2023-05-14T14:00:27.026Z"
   },
   {
    "duration": 22,
    "start_time": "2023-05-14T14:00:31.090Z"
   },
   {
    "duration": 1235,
    "start_time": "2023-05-14T14:00:42.962Z"
   },
   {
    "duration": 373,
    "start_time": "2023-05-14T14:00:44.199Z"
   },
   {
    "duration": 9,
    "start_time": "2023-05-14T14:00:44.574Z"
   },
   {
    "duration": 6318,
    "start_time": "2023-05-14T14:00:44.585Z"
   },
   {
    "duration": 41,
    "start_time": "2023-05-14T14:00:50.906Z"
   },
   {
    "duration": 19,
    "start_time": "2023-05-14T14:00:50.950Z"
   },
   {
    "duration": 2544,
    "start_time": "2023-05-14T14:00:50.971Z"
   },
   {
    "duration": 43,
    "start_time": "2023-05-14T14:00:53.517Z"
   },
   {
    "duration": 37,
    "start_time": "2023-05-14T14:00:53.562Z"
   },
   {
    "duration": 6,
    "start_time": "2023-05-14T14:00:53.602Z"
   },
   {
    "duration": 1419,
    "start_time": "2023-05-14T14:00:53.610Z"
   },
   {
    "duration": 27,
    "start_time": "2023-05-14T14:00:55.031Z"
   },
   {
    "duration": 15,
    "start_time": "2023-05-14T14:01:36.569Z"
   },
   {
    "duration": 1690,
    "start_time": "2023-05-14T14:03:00.976Z"
   },
   {
    "duration": 476,
    "start_time": "2023-05-14T14:03:02.680Z"
   },
   {
    "duration": 9,
    "start_time": "2023-05-14T14:03:03.158Z"
   },
   {
    "duration": 7235,
    "start_time": "2023-05-14T14:03:03.169Z"
   },
   {
    "duration": 22,
    "start_time": "2023-05-14T14:03:10.406Z"
   },
   {
    "duration": 60,
    "start_time": "2023-05-14T14:03:10.430Z"
   },
   {
    "duration": 2486,
    "start_time": "2023-05-14T14:03:10.492Z"
   },
   {
    "duration": 29,
    "start_time": "2023-05-14T14:03:12.980Z"
   },
   {
    "duration": 14,
    "start_time": "2023-05-14T14:03:13.011Z"
   },
   {
    "duration": 45,
    "start_time": "2023-05-14T14:03:13.050Z"
   },
   {
    "duration": 1750,
    "start_time": "2023-05-14T14:03:13.100Z"
   },
   {
    "duration": 133,
    "start_time": "2023-05-14T14:03:14.852Z"
   },
   {
    "duration": 25,
    "start_time": "2023-05-14T14:03:19.271Z"
   },
   {
    "duration": 21,
    "start_time": "2023-05-14T14:05:02.002Z"
   },
   {
    "duration": 1383,
    "start_time": "2023-05-14T14:06:23.721Z"
   },
   {
    "duration": 416,
    "start_time": "2023-05-14T14:06:25.106Z"
   },
   {
    "duration": 10,
    "start_time": "2023-05-14T14:06:25.548Z"
   },
   {
    "duration": 7293,
    "start_time": "2023-05-14T14:06:25.561Z"
   },
   {
    "duration": 33,
    "start_time": "2023-05-14T14:06:32.863Z"
   },
   {
    "duration": 16,
    "start_time": "2023-05-14T14:06:32.902Z"
   },
   {
    "duration": 2340,
    "start_time": "2023-05-14T14:06:32.920Z"
   },
   {
    "duration": 39,
    "start_time": "2023-05-14T14:06:35.262Z"
   },
   {
    "duration": 9,
    "start_time": "2023-05-14T14:06:35.303Z"
   },
   {
    "duration": 1715,
    "start_time": "2023-05-14T14:06:35.315Z"
   },
   {
    "duration": 42,
    "start_time": "2023-05-14T14:06:37.032Z"
   },
   {
    "duration": 30,
    "start_time": "2023-05-14T14:06:37.077Z"
   },
   {
    "duration": 16,
    "start_time": "2023-05-14T14:08:59.427Z"
   },
   {
    "duration": 137,
    "start_time": "2023-05-14T14:12:26.962Z"
   },
   {
    "duration": 10,
    "start_time": "2023-05-14T14:12:40.904Z"
   },
   {
    "duration": 17,
    "start_time": "2023-05-14T14:13:42.874Z"
   },
   {
    "duration": 15,
    "start_time": "2023-05-14T14:13:54.539Z"
   },
   {
    "duration": 57,
    "start_time": "2023-05-14T14:16:18.063Z"
   },
   {
    "duration": 20,
    "start_time": "2023-05-14T14:16:37.840Z"
   },
   {
    "duration": 7,
    "start_time": "2023-05-14T14:18:07.187Z"
   },
   {
    "duration": 13,
    "start_time": "2023-05-14T14:18:15.463Z"
   },
   {
    "duration": 18,
    "start_time": "2023-05-14T14:18:23.471Z"
   },
   {
    "duration": 18,
    "start_time": "2023-05-14T14:18:58.178Z"
   },
   {
    "duration": 1549,
    "start_time": "2023-05-14T14:19:53.513Z"
   },
   {
    "duration": 414,
    "start_time": "2023-05-14T14:19:55.065Z"
   },
   {
    "duration": 11,
    "start_time": "2023-05-14T14:19:55.481Z"
   },
   {
    "duration": 7856,
    "start_time": "2023-05-14T14:19:55.494Z"
   },
   {
    "duration": 24,
    "start_time": "2023-05-14T14:20:03.352Z"
   },
   {
    "duration": 68,
    "start_time": "2023-05-14T14:20:03.377Z"
   },
   {
    "duration": 2624,
    "start_time": "2023-05-14T14:20:03.447Z"
   },
   {
    "duration": 32,
    "start_time": "2023-05-14T14:20:06.074Z"
   },
   {
    "duration": 20,
    "start_time": "2023-05-14T14:20:06.108Z"
   },
   {
    "duration": 1952,
    "start_time": "2023-05-14T14:20:06.146Z"
   },
   {
    "duration": 17,
    "start_time": "2023-05-14T14:20:08.100Z"
   },
   {
    "duration": 37,
    "start_time": "2023-05-14T14:20:08.120Z"
   },
   {
    "duration": 40,
    "start_time": "2023-05-14T14:20:08.159Z"
   },
   {
    "duration": 144,
    "start_time": "2023-05-14T14:20:31.040Z"
   },
   {
    "duration": 1339,
    "start_time": "2023-05-14T14:20:39.964Z"
   },
   {
    "duration": 454,
    "start_time": "2023-05-14T14:20:41.306Z"
   },
   {
    "duration": 8,
    "start_time": "2023-05-14T14:20:41.762Z"
   },
   {
    "duration": 7874,
    "start_time": "2023-05-14T14:20:41.773Z"
   },
   {
    "duration": 27,
    "start_time": "2023-05-14T14:20:49.650Z"
   },
   {
    "duration": 5,
    "start_time": "2023-05-14T14:20:49.681Z"
   },
   {
    "duration": 2681,
    "start_time": "2023-05-14T14:20:49.688Z"
   },
   {
    "duration": 31,
    "start_time": "2023-05-14T14:20:52.371Z"
   },
   {
    "duration": 74,
    "start_time": "2023-05-14T14:20:52.405Z"
   },
   {
    "duration": 1973,
    "start_time": "2023-05-14T14:20:52.483Z"
   },
   {
    "duration": 16,
    "start_time": "2023-05-14T14:20:54.458Z"
   },
   {
    "duration": 32,
    "start_time": "2023-05-14T14:20:54.476Z"
   },
   {
    "duration": 66,
    "start_time": "2023-05-14T14:20:54.511Z"
   },
   {
    "duration": 1422,
    "start_time": "2023-05-14T14:22:08.493Z"
   },
   {
    "duration": 448,
    "start_time": "2023-05-14T14:22:09.918Z"
   },
   {
    "duration": 10,
    "start_time": "2023-05-14T14:22:10.368Z"
   },
   {
    "duration": 7444,
    "start_time": "2023-05-14T14:22:10.383Z"
   },
   {
    "duration": 35,
    "start_time": "2023-05-14T14:22:17.830Z"
   },
   {
    "duration": 6,
    "start_time": "2023-05-14T14:22:17.867Z"
   },
   {
    "duration": 2594,
    "start_time": "2023-05-14T14:22:17.875Z"
   },
   {
    "duration": 29,
    "start_time": "2023-05-14T14:22:20.471Z"
   },
   {
    "duration": 45,
    "start_time": "2023-05-14T14:22:20.502Z"
   },
   {
    "duration": 1879,
    "start_time": "2023-05-14T14:22:20.550Z"
   },
   {
    "duration": 20,
    "start_time": "2023-05-14T14:22:22.446Z"
   },
   {
    "duration": 54,
    "start_time": "2023-05-14T14:22:22.469Z"
   },
   {
    "duration": 62,
    "start_time": "2023-05-14T14:22:22.526Z"
   },
   {
    "duration": 34,
    "start_time": "2023-05-14T14:23:48.955Z"
   },
   {
    "duration": 140,
    "start_time": "2023-05-14T14:25:58.899Z"
   },
   {
    "duration": 9,
    "start_time": "2023-05-14T14:26:23.039Z"
   },
   {
    "duration": 1479,
    "start_time": "2023-05-14T14:26:54.961Z"
   },
   {
    "duration": 455,
    "start_time": "2023-05-14T14:26:56.442Z"
   },
   {
    "duration": 9,
    "start_time": "2023-05-14T14:26:56.899Z"
   },
   {
    "duration": 14,
    "start_time": "2023-05-14T14:26:56.911Z"
   },
   {
    "duration": 136,
    "start_time": "2023-05-14T14:26:56.927Z"
   },
   {
    "duration": 0,
    "start_time": "2023-05-14T14:26:57.065Z"
   },
   {
    "duration": 0,
    "start_time": "2023-05-14T14:26:57.067Z"
   },
   {
    "duration": 0,
    "start_time": "2023-05-14T14:26:57.069Z"
   },
   {
    "duration": 0,
    "start_time": "2023-05-14T14:26:57.071Z"
   },
   {
    "duration": 0,
    "start_time": "2023-05-14T14:26:57.072Z"
   },
   {
    "duration": 0,
    "start_time": "2023-05-14T14:26:57.074Z"
   },
   {
    "duration": 0,
    "start_time": "2023-05-14T14:26:57.075Z"
   },
   {
    "duration": 1960,
    "start_time": "2023-05-14T14:27:31.444Z"
   },
   {
    "duration": 456,
    "start_time": "2023-05-14T14:27:33.406Z"
   },
   {
    "duration": 11,
    "start_time": "2023-05-14T14:27:33.864Z"
   },
   {
    "duration": 7343,
    "start_time": "2023-05-14T14:27:33.877Z"
   },
   {
    "duration": 29,
    "start_time": "2023-05-14T14:27:41.222Z"
   },
   {
    "duration": 7,
    "start_time": "2023-05-14T14:27:41.253Z"
   },
   {
    "duration": 2610,
    "start_time": "2023-05-14T14:27:41.262Z"
   },
   {
    "duration": 36,
    "start_time": "2023-05-14T14:27:43.874Z"
   },
   {
    "duration": 32,
    "start_time": "2023-05-14T14:27:43.915Z"
   },
   {
    "duration": 2042,
    "start_time": "2023-05-14T14:27:43.952Z"
   },
   {
    "duration": 0,
    "start_time": "2023-05-14T14:27:45.997Z"
   },
   {
    "duration": 0,
    "start_time": "2023-05-14T14:27:45.998Z"
   },
   {
    "duration": 9,
    "start_time": "2023-05-14T14:29:19.043Z"
   },
   {
    "duration": 1980,
    "start_time": "2023-05-14T14:29:21.563Z"
   },
   {
    "duration": 24,
    "start_time": "2023-05-14T14:29:25.870Z"
   },
   {
    "duration": 16,
    "start_time": "2023-05-14T14:44:21.953Z"
   },
   {
    "duration": 27,
    "start_time": "2023-05-14T14:44:52.037Z"
   },
   {
    "duration": 14,
    "start_time": "2023-05-14T14:45:19.306Z"
   },
   {
    "duration": 17,
    "start_time": "2023-05-14T14:45:27.578Z"
   },
   {
    "duration": 196,
    "start_time": "2023-05-14T14:46:01.079Z"
   },
   {
    "duration": 204,
    "start_time": "2023-05-14T14:46:12.888Z"
   },
   {
    "duration": 13,
    "start_time": "2023-05-14T14:46:18.090Z"
   },
   {
    "duration": 184,
    "start_time": "2023-05-14T14:46:20.942Z"
   },
   {
    "duration": 214,
    "start_time": "2023-05-14T14:46:48.926Z"
   },
   {
    "duration": 12,
    "start_time": "2023-05-14T14:47:08.892Z"
   },
   {
    "duration": 10,
    "start_time": "2023-05-14T14:47:14.832Z"
   },
   {
    "duration": 12,
    "start_time": "2023-05-14T14:47:25.410Z"
   },
   {
    "duration": 10,
    "start_time": "2023-05-14T14:47:31.015Z"
   },
   {
    "duration": 281,
    "start_time": "2023-05-14T14:54:34.438Z"
   },
   {
    "duration": 199,
    "start_time": "2023-05-14T14:55:21.252Z"
   },
   {
    "duration": 236,
    "start_time": "2023-05-14T14:55:24.688Z"
   },
   {
    "duration": 412,
    "start_time": "2023-05-14T14:55:49.987Z"
   },
   {
    "duration": 327,
    "start_time": "2023-05-14T14:55:57.340Z"
   },
   {
    "duration": 289,
    "start_time": "2023-05-14T14:56:05.010Z"
   },
   {
    "duration": 37,
    "start_time": "2023-05-14T14:58:12.265Z"
   },
   {
    "duration": 11,
    "start_time": "2023-05-14T14:58:37.893Z"
   },
   {
    "duration": 422,
    "start_time": "2023-05-14T14:58:41.833Z"
   },
   {
    "duration": 13,
    "start_time": "2023-05-14T14:59:06.860Z"
   },
   {
    "duration": 11,
    "start_time": "2023-05-14T14:59:13.532Z"
   },
   {
    "duration": 29,
    "start_time": "2023-05-14T14:59:21.248Z"
   },
   {
    "duration": 12,
    "start_time": "2023-05-14T14:59:27.719Z"
   },
   {
    "duration": 8,
    "start_time": "2023-05-14T14:59:31.715Z"
   },
   {
    "duration": 10,
    "start_time": "2023-05-14T14:59:36.275Z"
   },
   {
    "duration": 12,
    "start_time": "2023-05-14T14:59:43.373Z"
   },
   {
    "duration": 9,
    "start_time": "2023-05-14T14:59:56.522Z"
   },
   {
    "duration": 16,
    "start_time": "2023-05-14T15:00:10.305Z"
   },
   {
    "duration": 6,
    "start_time": "2023-05-14T15:01:25.777Z"
   },
   {
    "duration": 18,
    "start_time": "2023-05-14T15:01:31.998Z"
   },
   {
    "duration": 255,
    "start_time": "2023-05-14T15:17:00.308Z"
   },
   {
    "duration": 16,
    "start_time": "2023-05-14T15:19:07.802Z"
   },
   {
    "duration": 5,
    "start_time": "2023-05-14T15:19:18.146Z"
   },
   {
    "duration": 7,
    "start_time": "2023-05-14T15:19:36.708Z"
   },
   {
    "duration": 238,
    "start_time": "2023-05-14T15:19:43.112Z"
   },
   {
    "duration": 7,
    "start_time": "2023-05-14T15:20:00.473Z"
   },
   {
    "duration": 279,
    "start_time": "2023-05-14T15:20:02.642Z"
   },
   {
    "duration": 7,
    "start_time": "2023-05-14T15:20:15.111Z"
   },
   {
    "duration": 320,
    "start_time": "2023-05-14T15:20:16.912Z"
   },
   {
    "duration": 7,
    "start_time": "2023-05-14T15:20:27.100Z"
   },
   {
    "duration": 227,
    "start_time": "2023-05-14T15:20:28.656Z"
   },
   {
    "duration": 1230,
    "start_time": "2023-05-14T15:20:39.504Z"
   },
   {
    "duration": 372,
    "start_time": "2023-05-14T15:20:40.737Z"
   },
   {
    "duration": 38,
    "start_time": "2023-05-14T15:20:41.111Z"
   },
   {
    "duration": 7615,
    "start_time": "2023-05-14T15:20:41.151Z"
   },
   {
    "duration": 8,
    "start_time": "2023-05-14T15:20:48.769Z"
   },
   {
    "duration": 2340,
    "start_time": "2023-05-14T15:20:48.780Z"
   },
   {
    "duration": 26,
    "start_time": "2023-05-14T15:20:51.122Z"
   },
   {
    "duration": 1680,
    "start_time": "2023-05-14T15:20:51.150Z"
   },
   {
    "duration": 40,
    "start_time": "2023-05-14T15:20:52.832Z"
   },
   {
    "duration": 363,
    "start_time": "2023-05-14T15:20:52.875Z"
   },
   {
    "duration": 406,
    "start_time": "2023-05-14T15:20:53.247Z"
   },
   {
    "duration": 8,
    "start_time": "2023-05-14T15:20:53.655Z"
   },
   {
    "duration": 281,
    "start_time": "2023-05-14T15:20:53.666Z"
   },
   {
    "duration": 15,
    "start_time": "2023-05-14T15:21:26.634Z"
   },
   {
    "duration": 7,
    "start_time": "2023-05-14T15:21:54.435Z"
   },
   {
    "duration": 359,
    "start_time": "2023-05-14T15:21:56.580Z"
   },
   {
    "duration": 110,
    "start_time": "2023-05-14T15:23:10.590Z"
   },
   {
    "duration": 6,
    "start_time": "2023-05-14T15:23:24.596Z"
   },
   {
    "duration": 128,
    "start_time": "2023-05-14T15:23:26.565Z"
   },
   {
    "duration": 7,
    "start_time": "2023-05-14T15:23:33.984Z"
   },
   {
    "duration": 134,
    "start_time": "2023-05-14T15:23:36.916Z"
   },
   {
    "duration": 7,
    "start_time": "2023-05-14T15:23:47.309Z"
   },
   {
    "duration": 129,
    "start_time": "2023-05-14T15:23:49.205Z"
   },
   {
    "duration": 7,
    "start_time": "2023-05-14T15:23:56.737Z"
   },
   {
    "duration": 230,
    "start_time": "2023-05-14T15:23:58.355Z"
   },
   {
    "duration": 7,
    "start_time": "2023-05-14T15:24:44.037Z"
   },
   {
    "duration": 122,
    "start_time": "2023-05-14T15:24:46.470Z"
   },
   {
    "duration": 177,
    "start_time": "2023-05-14T15:24:51.381Z"
   },
   {
    "duration": 7,
    "start_time": "2023-05-14T15:24:57.978Z"
   },
   {
    "duration": 128,
    "start_time": "2023-05-14T15:24:59.518Z"
   },
   {
    "duration": 1221,
    "start_time": "2023-05-14T15:25:08.266Z"
   },
   {
    "duration": 312,
    "start_time": "2023-05-14T15:25:09.489Z"
   },
   {
    "duration": 6,
    "start_time": "2023-05-14T15:25:09.803Z"
   },
   {
    "duration": 6238,
    "start_time": "2023-05-14T15:25:09.811Z"
   },
   {
    "duration": 5,
    "start_time": "2023-05-14T15:25:16.051Z"
   },
   {
    "duration": 2089,
    "start_time": "2023-05-14T15:25:16.058Z"
   },
   {
    "duration": 7,
    "start_time": "2023-05-14T15:25:18.149Z"
   },
   {
    "duration": 1362,
    "start_time": "2023-05-14T15:25:18.157Z"
   },
   {
    "duration": 42,
    "start_time": "2023-05-14T15:25:19.521Z"
   },
   {
    "duration": 264,
    "start_time": "2023-05-14T15:25:19.566Z"
   },
   {
    "duration": 267,
    "start_time": "2023-05-14T15:25:19.831Z"
   },
   {
    "duration": 6,
    "start_time": "2023-05-14T15:25:20.099Z"
   },
   {
    "duration": 116,
    "start_time": "2023-05-14T15:25:20.107Z"
   },
   {
    "duration": 20,
    "start_time": "2023-05-14T15:25:20.225Z"
   },
   {
    "duration": 6,
    "start_time": "2023-05-14T15:25:39.231Z"
   },
   {
    "duration": 134,
    "start_time": "2023-05-14T15:25:40.926Z"
   },
   {
    "duration": 119,
    "start_time": "2023-05-14T15:26:08.516Z"
   },
   {
    "duration": 12,
    "start_time": "2023-05-14T15:26:30.571Z"
   },
   {
    "duration": 204,
    "start_time": "2023-05-14T15:26:40.269Z"
   },
   {
    "duration": 245,
    "start_time": "2023-05-14T15:27:25.060Z"
   },
   {
    "duration": 5,
    "start_time": "2023-05-14T15:27:59.122Z"
   },
   {
    "duration": 109,
    "start_time": "2023-05-14T15:28:00.819Z"
   },
   {
    "duration": 6,
    "start_time": "2023-05-14T15:28:10.622Z"
   },
   {
    "duration": 210,
    "start_time": "2023-05-14T15:28:12.614Z"
   },
   {
    "duration": 1216,
    "start_time": "2023-05-14T15:28:22.400Z"
   },
   {
    "duration": 350,
    "start_time": "2023-05-14T15:28:23.618Z"
   },
   {
    "duration": 7,
    "start_time": "2023-05-14T15:28:23.970Z"
   },
   {
    "duration": 6115,
    "start_time": "2023-05-14T15:28:23.979Z"
   },
   {
    "duration": 4,
    "start_time": "2023-05-14T15:28:30.096Z"
   },
   {
    "duration": 1993,
    "start_time": "2023-05-14T15:28:30.102Z"
   },
   {
    "duration": 8,
    "start_time": "2023-05-14T15:28:32.096Z"
   },
   {
    "duration": 1557,
    "start_time": "2023-05-14T15:28:32.106Z"
   },
   {
    "duration": 29,
    "start_time": "2023-05-14T15:28:33.664Z"
   },
   {
    "duration": 264,
    "start_time": "2023-05-14T15:28:33.696Z"
   },
   {
    "duration": 5,
    "start_time": "2023-05-14T15:28:33.962Z"
   },
   {
    "duration": 119,
    "start_time": "2023-05-14T15:28:33.968Z"
   },
   {
    "duration": 248,
    "start_time": "2023-05-14T15:28:34.088Z"
   },
   {
    "duration": 12,
    "start_time": "2023-05-14T15:28:34.338Z"
   },
   {
    "duration": 148,
    "start_time": "2023-05-14T15:28:34.352Z"
   },
   {
    "duration": 13,
    "start_time": "2023-05-14T15:28:34.502Z"
   },
   {
    "duration": 1271,
    "start_time": "2023-05-14T15:28:49.312Z"
   },
   {
    "duration": 373,
    "start_time": "2023-05-14T15:28:50.585Z"
   },
   {
    "duration": 7,
    "start_time": "2023-05-14T15:28:50.961Z"
   },
   {
    "duration": 6454,
    "start_time": "2023-05-14T15:28:50.970Z"
   },
   {
    "duration": 5,
    "start_time": "2023-05-14T15:28:57.427Z"
   },
   {
    "duration": 1913,
    "start_time": "2023-05-14T15:28:57.446Z"
   },
   {
    "duration": 7,
    "start_time": "2023-05-14T15:28:59.360Z"
   },
   {
    "duration": 1392,
    "start_time": "2023-05-14T15:28:59.370Z"
   },
   {
    "duration": 29,
    "start_time": "2023-05-14T15:29:00.764Z"
   },
   {
    "duration": 300,
    "start_time": "2023-05-14T15:29:00.795Z"
   },
   {
    "duration": 5,
    "start_time": "2023-05-14T15:29:01.098Z"
   },
   {
    "duration": 154,
    "start_time": "2023-05-14T15:29:01.105Z"
   },
   {
    "duration": 258,
    "start_time": "2023-05-14T15:29:01.261Z"
   },
   {
    "duration": 8,
    "start_time": "2023-05-14T15:29:01.522Z"
   },
   {
    "duration": 186,
    "start_time": "2023-05-14T15:29:01.532Z"
   },
   {
    "duration": 27,
    "start_time": "2023-05-14T15:29:01.720Z"
   },
   {
    "duration": 267,
    "start_time": "2023-05-14T15:31:51.435Z"
   },
   {
    "duration": 9,
    "start_time": "2023-05-14T15:33:33.996Z"
   },
   {
    "duration": 4,
    "start_time": "2023-05-14T15:33:45.984Z"
   },
   {
    "duration": 5,
    "start_time": "2023-05-14T15:34:02.231Z"
   },
   {
    "duration": 17,
    "start_time": "2023-05-14T15:34:08.727Z"
   },
   {
    "duration": 28,
    "start_time": "2023-05-14T15:34:32.447Z"
   },
   {
    "duration": 123,
    "start_time": "2023-05-14T15:37:10.624Z"
   },
   {
    "duration": 18,
    "start_time": "2023-05-14T15:37:12.539Z"
   },
   {
    "duration": 9,
    "start_time": "2023-05-14T15:37:18.899Z"
   },
   {
    "duration": 5,
    "start_time": "2023-05-14T15:37:20.731Z"
   },
   {
    "duration": 13,
    "start_time": "2023-05-14T15:38:31.011Z"
   },
   {
    "duration": 9,
    "start_time": "2023-05-14T15:38:34.132Z"
   },
   {
    "duration": 22,
    "start_time": "2023-05-14T15:38:36.204Z"
   },
   {
    "duration": 6,
    "start_time": "2023-05-14T15:38:38.425Z"
   },
   {
    "duration": 14,
    "start_time": "2023-05-14T15:39:26.572Z"
   },
   {
    "duration": 1231,
    "start_time": "2023-05-14T15:44:23.459Z"
   },
   {
    "duration": 357,
    "start_time": "2023-05-14T15:44:24.692Z"
   },
   {
    "duration": 7,
    "start_time": "2023-05-14T15:44:25.051Z"
   },
   {
    "duration": 5845,
    "start_time": "2023-05-14T15:44:25.060Z"
   },
   {
    "duration": 5,
    "start_time": "2023-05-14T15:44:30.907Z"
   },
   {
    "duration": 2067,
    "start_time": "2023-05-14T15:44:30.914Z"
   },
   {
    "duration": 8,
    "start_time": "2023-05-14T15:44:32.982Z"
   },
   {
    "duration": 1273,
    "start_time": "2023-05-14T15:44:32.992Z"
   },
   {
    "duration": 24,
    "start_time": "2023-05-14T15:44:34.267Z"
   },
   {
    "duration": 262,
    "start_time": "2023-05-14T15:44:34.293Z"
   },
   {
    "duration": 5,
    "start_time": "2023-05-14T15:44:34.557Z"
   },
   {
    "duration": 131,
    "start_time": "2023-05-14T15:44:34.563Z"
   },
   {
    "duration": 248,
    "start_time": "2023-05-14T15:44:34.696Z"
   },
   {
    "duration": 5,
    "start_time": "2023-05-14T15:44:34.947Z"
   },
   {
    "duration": 136,
    "start_time": "2023-05-14T15:44:34.954Z"
   },
   {
    "duration": 13,
    "start_time": "2023-05-14T15:44:35.092Z"
   },
   {
    "duration": 272,
    "start_time": "2023-05-14T15:44:35.107Z"
   },
   {
    "duration": 25,
    "start_time": "2023-05-14T15:44:35.381Z"
   },
   {
    "duration": 7,
    "start_time": "2023-05-14T15:44:35.408Z"
   },
   {
    "duration": 4,
    "start_time": "2023-05-14T15:53:25.498Z"
   },
   {
    "duration": 11,
    "start_time": "2023-05-14T16:11:42.455Z"
   },
   {
    "duration": 8,
    "start_time": "2023-05-14T16:11:53.896Z"
   },
   {
    "duration": 1340,
    "start_time": "2023-05-14T16:13:50.020Z"
   },
   {
    "duration": 423,
    "start_time": "2023-05-14T16:13:51.363Z"
   },
   {
    "duration": 8,
    "start_time": "2023-05-14T16:13:51.788Z"
   },
   {
    "duration": 7260,
    "start_time": "2023-05-14T16:13:51.798Z"
   },
   {
    "duration": 5,
    "start_time": "2023-05-14T16:13:59.064Z"
   },
   {
    "duration": 2039,
    "start_time": "2023-05-14T16:13:59.070Z"
   },
   {
    "duration": 8,
    "start_time": "2023-05-14T16:14:01.111Z"
   },
   {
    "duration": 1752,
    "start_time": "2023-05-14T16:14:01.121Z"
   },
   {
    "duration": 22,
    "start_time": "2023-05-14T16:14:02.875Z"
   },
   {
    "duration": 324,
    "start_time": "2023-05-14T16:14:02.900Z"
   },
   {
    "duration": 5,
    "start_time": "2023-05-14T16:14:03.226Z"
   },
   {
    "duration": 133,
    "start_time": "2023-05-14T16:14:03.251Z"
   },
   {
    "duration": 240,
    "start_time": "2023-05-14T16:14:03.386Z"
   },
   {
    "duration": 4,
    "start_time": "2023-05-14T16:14:03.628Z"
   },
   {
    "duration": 146,
    "start_time": "2023-05-14T16:14:03.634Z"
   },
   {
    "duration": 13,
    "start_time": "2023-05-14T16:14:03.782Z"
   },
   {
    "duration": 353,
    "start_time": "2023-05-14T16:14:03.797Z"
   },
   {
    "duration": 37,
    "start_time": "2023-05-14T16:14:04.154Z"
   },
   {
    "duration": 6,
    "start_time": "2023-05-14T16:14:19.136Z"
   },
   {
    "duration": 9,
    "start_time": "2023-05-14T16:14:22.445Z"
   },
   {
    "duration": 11,
    "start_time": "2023-05-14T16:14:23.905Z"
   },
   {
    "duration": 133,
    "start_time": "2023-05-14T16:14:34.203Z"
   },
   {
    "duration": 158,
    "start_time": "2023-05-14T16:15:36.301Z"
   },
   {
    "duration": 289,
    "start_time": "2023-05-14T16:15:48.525Z"
   },
   {
    "duration": 1230,
    "start_time": "2023-05-14T16:25:13.094Z"
   },
   {
    "duration": 352,
    "start_time": "2023-05-14T16:25:14.327Z"
   },
   {
    "duration": 6,
    "start_time": "2023-05-14T16:25:14.681Z"
   },
   {
    "duration": 6231,
    "start_time": "2023-05-14T16:25:14.690Z"
   },
   {
    "duration": 4,
    "start_time": "2023-05-14T16:25:20.923Z"
   },
   {
    "duration": 2209,
    "start_time": "2023-05-14T16:25:20.928Z"
   },
   {
    "duration": 20,
    "start_time": "2023-05-14T16:25:23.139Z"
   },
   {
    "duration": 1262,
    "start_time": "2023-05-14T16:25:23.161Z"
   },
   {
    "duration": 42,
    "start_time": "2023-05-14T16:25:24.425Z"
   },
   {
    "duration": 235,
    "start_time": "2023-05-14T16:25:24.470Z"
   },
   {
    "duration": 4,
    "start_time": "2023-05-14T16:25:24.707Z"
   },
   {
    "duration": 117,
    "start_time": "2023-05-14T16:25:24.712Z"
   },
   {
    "duration": 231,
    "start_time": "2023-05-14T16:25:24.831Z"
   },
   {
    "duration": 5,
    "start_time": "2023-05-14T16:25:25.063Z"
   },
   {
    "duration": 134,
    "start_time": "2023-05-14T16:25:25.069Z"
   },
   {
    "duration": 10,
    "start_time": "2023-05-14T16:25:25.205Z"
   },
   {
    "duration": 7,
    "start_time": "2023-05-14T16:27:03.981Z"
   },
   {
    "duration": 131,
    "start_time": "2023-05-14T16:27:06.692Z"
   },
   {
    "duration": 127,
    "start_time": "2023-05-14T16:27:12.163Z"
   },
   {
    "duration": 1211,
    "start_time": "2023-05-14T16:27:24.213Z"
   },
   {
    "duration": 364,
    "start_time": "2023-05-14T16:27:25.425Z"
   },
   {
    "duration": 6,
    "start_time": "2023-05-14T16:27:25.791Z"
   },
   {
    "duration": 6318,
    "start_time": "2023-05-14T16:27:25.800Z"
   },
   {
    "duration": 6,
    "start_time": "2023-05-14T16:27:32.121Z"
   },
   {
    "duration": 2204,
    "start_time": "2023-05-14T16:27:32.147Z"
   },
   {
    "duration": 8,
    "start_time": "2023-05-14T16:27:34.361Z"
   },
   {
    "duration": 1452,
    "start_time": "2023-05-14T16:27:34.370Z"
   },
   {
    "duration": 46,
    "start_time": "2023-05-14T16:27:35.825Z"
   },
   {
    "duration": 256,
    "start_time": "2023-05-14T16:27:35.874Z"
   },
   {
    "duration": 5,
    "start_time": "2023-05-14T16:27:36.132Z"
   },
   {
    "duration": 129,
    "start_time": "2023-05-14T16:27:36.152Z"
   },
   {
    "duration": 247,
    "start_time": "2023-05-14T16:27:36.283Z"
   },
   {
    "duration": 27,
    "start_time": "2023-05-14T16:27:36.532Z"
   },
   {
    "duration": 150,
    "start_time": "2023-05-14T16:27:36.561Z"
   },
   {
    "duration": 13,
    "start_time": "2023-05-14T16:27:36.713Z"
   },
   {
    "duration": 154,
    "start_time": "2023-05-14T16:33:19.544Z"
   },
   {
    "duration": 326,
    "start_time": "2023-05-14T16:33:21.383Z"
   },
   {
    "duration": 1289,
    "start_time": "2023-05-14T16:33:34.223Z"
   },
   {
    "duration": 374,
    "start_time": "2023-05-14T16:33:35.514Z"
   },
   {
    "duration": 6,
    "start_time": "2023-05-14T16:33:35.889Z"
   },
   {
    "duration": 6517,
    "start_time": "2023-05-14T16:33:35.897Z"
   },
   {
    "duration": 7,
    "start_time": "2023-05-14T16:33:42.416Z"
   },
   {
    "duration": 2162,
    "start_time": "2023-05-14T16:33:42.425Z"
   },
   {
    "duration": 8,
    "start_time": "2023-05-14T16:33:44.589Z"
   },
   {
    "duration": 1331,
    "start_time": "2023-05-14T16:33:44.599Z"
   },
   {
    "duration": 34,
    "start_time": "2023-05-14T16:33:45.946Z"
   },
   {
    "duration": 258,
    "start_time": "2023-05-14T16:33:45.983Z"
   },
   {
    "duration": 7,
    "start_time": "2023-05-14T16:33:46.246Z"
   },
   {
    "duration": 141,
    "start_time": "2023-05-14T16:33:46.254Z"
   },
   {
    "duration": 257,
    "start_time": "2023-05-14T16:33:46.397Z"
   },
   {
    "duration": 6,
    "start_time": "2023-05-14T16:33:46.658Z"
   },
   {
    "duration": 136,
    "start_time": "2023-05-14T16:33:46.667Z"
   },
   {
    "duration": 14,
    "start_time": "2023-05-14T16:33:46.805Z"
   },
   {
    "duration": 422,
    "start_time": "2023-05-14T16:33:46.821Z"
   },
   {
    "duration": 0,
    "start_time": "2023-05-14T16:33:47.246Z"
   },
   {
    "duration": 20,
    "start_time": "2023-05-14T16:33:53.846Z"
   },
   {
    "duration": 60,
    "start_time": "2023-05-14T16:34:08.897Z"
   },
   {
    "duration": 6,
    "start_time": "2023-05-14T16:34:40.337Z"
   },
   {
    "duration": 10,
    "start_time": "2023-05-14T16:34:42.815Z"
   },
   {
    "duration": 7,
    "start_time": "2023-05-14T16:34:53.343Z"
   },
   {
    "duration": 5,
    "start_time": "2023-05-14T16:35:03.051Z"
   },
   {
    "duration": 156,
    "start_time": "2023-05-14T16:35:03.062Z"
   },
   {
    "duration": 13,
    "start_time": "2023-05-14T16:35:03.220Z"
   },
   {
    "duration": 0,
    "start_time": "2023-05-14T16:35:03.234Z"
   },
   {
    "duration": 0,
    "start_time": "2023-05-14T16:35:03.246Z"
   },
   {
    "duration": 1258,
    "start_time": "2023-05-14T16:35:16.154Z"
   },
   {
    "duration": 380,
    "start_time": "2023-05-14T16:35:17.414Z"
   },
   {
    "duration": 6,
    "start_time": "2023-05-14T16:35:17.796Z"
   },
   {
    "duration": 6536,
    "start_time": "2023-05-14T16:35:17.804Z"
   },
   {
    "duration": 10,
    "start_time": "2023-05-14T16:35:24.346Z"
   },
   {
    "duration": 2155,
    "start_time": "2023-05-14T16:35:24.358Z"
   },
   {
    "duration": 8,
    "start_time": "2023-05-14T16:35:26.515Z"
   },
   {
    "duration": 1486,
    "start_time": "2023-05-14T16:35:26.547Z"
   },
   {
    "duration": 31,
    "start_time": "2023-05-14T16:35:28.051Z"
   },
   {
    "duration": 284,
    "start_time": "2023-05-14T16:35:28.085Z"
   },
   {
    "duration": 5,
    "start_time": "2023-05-14T16:35:28.371Z"
   },
   {
    "duration": 132,
    "start_time": "2023-05-14T16:35:28.378Z"
   },
   {
    "duration": 251,
    "start_time": "2023-05-14T16:35:28.512Z"
   },
   {
    "duration": 6,
    "start_time": "2023-05-14T16:35:28.765Z"
   },
   {
    "duration": 129,
    "start_time": "2023-05-14T16:35:28.772Z"
   },
   {
    "duration": 12,
    "start_time": "2023-05-14T16:35:28.903Z"
   },
   {
    "duration": 278,
    "start_time": "2023-05-14T16:35:28.917Z"
   },
   {
    "duration": 9,
    "start_time": "2023-05-14T16:35:29.197Z"
   },
   {
    "duration": 1313,
    "start_time": "2023-05-14T16:36:11.012Z"
   },
   {
    "duration": 449,
    "start_time": "2023-05-14T16:36:12.327Z"
   },
   {
    "duration": 8,
    "start_time": "2023-05-14T16:36:12.778Z"
   },
   {
    "duration": 6275,
    "start_time": "2023-05-14T16:36:12.788Z"
   },
   {
    "duration": 5,
    "start_time": "2023-05-14T16:36:19.065Z"
   },
   {
    "duration": 2016,
    "start_time": "2023-05-14T16:36:19.072Z"
   },
   {
    "duration": 8,
    "start_time": "2023-05-14T16:36:21.090Z"
   },
   {
    "duration": 1524,
    "start_time": "2023-05-14T16:36:21.100Z"
   },
   {
    "duration": 47,
    "start_time": "2023-05-14T16:36:22.626Z"
   },
   {
    "duration": 305,
    "start_time": "2023-05-14T16:36:22.677Z"
   },
   {
    "duration": 6,
    "start_time": "2023-05-14T16:36:22.983Z"
   },
   {
    "duration": 175,
    "start_time": "2023-05-14T16:36:22.991Z"
   },
   {
    "duration": 294,
    "start_time": "2023-05-14T16:36:23.168Z"
   },
   {
    "duration": 7,
    "start_time": "2023-05-14T16:36:23.464Z"
   },
   {
    "duration": 159,
    "start_time": "2023-05-14T16:36:23.474Z"
   },
   {
    "duration": 16,
    "start_time": "2023-05-14T16:36:23.635Z"
   },
   {
    "duration": 295,
    "start_time": "2023-05-14T16:36:23.661Z"
   },
   {
    "duration": 14,
    "start_time": "2023-05-14T16:36:23.958Z"
   },
   {
    "duration": 1237,
    "start_time": "2023-05-14T16:41:03.644Z"
   },
   {
    "duration": 398,
    "start_time": "2023-05-14T16:41:04.883Z"
   },
   {
    "duration": 7,
    "start_time": "2023-05-14T16:41:05.283Z"
   },
   {
    "duration": 6471,
    "start_time": "2023-05-14T16:41:05.292Z"
   },
   {
    "duration": 5,
    "start_time": "2023-05-14T16:41:11.765Z"
   },
   {
    "duration": 2221,
    "start_time": "2023-05-14T16:41:11.772Z"
   },
   {
    "duration": 10,
    "start_time": "2023-05-14T16:41:13.995Z"
   },
   {
    "duration": 1489,
    "start_time": "2023-05-14T16:41:14.006Z"
   },
   {
    "duration": 22,
    "start_time": "2023-05-14T16:41:15.497Z"
   },
   {
    "duration": 263,
    "start_time": "2023-05-14T16:41:15.521Z"
   },
   {
    "duration": 5,
    "start_time": "2023-05-14T16:41:15.785Z"
   },
   {
    "duration": 132,
    "start_time": "2023-05-14T16:41:15.792Z"
   },
   {
    "duration": 256,
    "start_time": "2023-05-14T16:41:15.925Z"
   },
   {
    "duration": 6,
    "start_time": "2023-05-14T16:41:16.183Z"
   },
   {
    "duration": 143,
    "start_time": "2023-05-14T16:41:16.190Z"
   },
   {
    "duration": 27,
    "start_time": "2023-05-14T16:41:16.334Z"
   },
   {
    "duration": 262,
    "start_time": "2023-05-14T16:41:16.364Z"
   },
   {
    "duration": 28,
    "start_time": "2023-05-14T16:41:16.628Z"
   },
   {
    "duration": 1203,
    "start_time": "2023-05-14T16:41:30.516Z"
   },
   {
    "duration": 391,
    "start_time": "2023-05-14T16:41:31.721Z"
   },
   {
    "duration": 6,
    "start_time": "2023-05-14T16:41:32.114Z"
   },
   {
    "duration": 6630,
    "start_time": "2023-05-14T16:41:32.146Z"
   },
   {
    "duration": 4,
    "start_time": "2023-05-14T16:41:38.778Z"
   },
   {
    "duration": 2129,
    "start_time": "2023-05-14T16:41:38.783Z"
   },
   {
    "duration": 8,
    "start_time": "2023-05-14T16:41:40.914Z"
   },
   {
    "duration": 1404,
    "start_time": "2023-05-14T16:41:40.924Z"
   },
   {
    "duration": 49,
    "start_time": "2023-05-14T16:41:42.330Z"
   },
   {
    "duration": 377,
    "start_time": "2023-05-14T16:41:42.382Z"
   },
   {
    "duration": 7,
    "start_time": "2023-05-14T16:41:42.760Z"
   },
   {
    "duration": 166,
    "start_time": "2023-05-14T16:41:42.769Z"
   },
   {
    "duration": 281,
    "start_time": "2023-05-14T16:41:42.937Z"
   },
   {
    "duration": 6,
    "start_time": "2023-05-14T16:41:43.220Z"
   },
   {
    "duration": 150,
    "start_time": "2023-05-14T16:41:43.227Z"
   },
   {
    "duration": 12,
    "start_time": "2023-05-14T16:41:43.379Z"
   },
   {
    "duration": 282,
    "start_time": "2023-05-14T16:41:43.393Z"
   },
   {
    "duration": 10,
    "start_time": "2023-05-14T16:41:43.677Z"
   },
   {
    "duration": 1244,
    "start_time": "2023-05-14T16:41:58.261Z"
   },
   {
    "duration": 373,
    "start_time": "2023-05-14T16:41:59.507Z"
   },
   {
    "duration": 9,
    "start_time": "2023-05-14T16:41:59.882Z"
   },
   {
    "duration": 6668,
    "start_time": "2023-05-14T16:41:59.894Z"
   },
   {
    "duration": 5,
    "start_time": "2023-05-14T16:42:06.565Z"
   },
   {
    "duration": 2045,
    "start_time": "2023-05-14T16:42:06.573Z"
   },
   {
    "duration": 8,
    "start_time": "2023-05-14T16:42:08.620Z"
   },
   {
    "duration": 1495,
    "start_time": "2023-05-14T16:42:08.630Z"
   },
   {
    "duration": 52,
    "start_time": "2023-05-14T16:42:10.126Z"
   },
   {
    "duration": 301,
    "start_time": "2023-05-14T16:42:10.181Z"
   },
   {
    "duration": 5,
    "start_time": "2023-05-14T16:42:10.484Z"
   },
   {
    "duration": 142,
    "start_time": "2023-05-14T16:42:10.490Z"
   },
   {
    "duration": 278,
    "start_time": "2023-05-14T16:42:10.633Z"
   },
   {
    "duration": 6,
    "start_time": "2023-05-14T16:42:10.913Z"
   },
   {
    "duration": 198,
    "start_time": "2023-05-14T16:42:10.921Z"
   },
   {
    "duration": 12,
    "start_time": "2023-05-14T16:42:11.121Z"
   },
   {
    "duration": 322,
    "start_time": "2023-05-14T16:42:11.153Z"
   },
   {
    "duration": 10,
    "start_time": "2023-05-14T16:42:11.477Z"
   },
   {
    "duration": 1321,
    "start_time": "2023-05-14T16:47:24.195Z"
   },
   {
    "duration": 381,
    "start_time": "2023-05-14T16:47:25.518Z"
   },
   {
    "duration": 9,
    "start_time": "2023-05-14T16:47:25.901Z"
   },
   {
    "duration": 6709,
    "start_time": "2023-05-14T16:47:25.912Z"
   },
   {
    "duration": 5,
    "start_time": "2023-05-14T16:47:32.624Z"
   },
   {
    "duration": 1921,
    "start_time": "2023-05-14T16:47:32.646Z"
   },
   {
    "duration": 7,
    "start_time": "2023-05-14T16:47:34.569Z"
   },
   {
    "duration": 1411,
    "start_time": "2023-05-14T16:47:34.578Z"
   },
   {
    "duration": 21,
    "start_time": "2023-05-14T16:47:35.991Z"
   },
   {
    "duration": 285,
    "start_time": "2023-05-14T16:47:36.015Z"
   },
   {
    "duration": 4,
    "start_time": "2023-05-14T16:47:36.302Z"
   },
   {
    "duration": 160,
    "start_time": "2023-05-14T16:47:36.308Z"
   },
   {
    "duration": 251,
    "start_time": "2023-05-14T16:47:36.471Z"
   },
   {
    "duration": 6,
    "start_time": "2023-05-14T16:47:36.724Z"
   },
   {
    "duration": 140,
    "start_time": "2023-05-14T16:47:36.732Z"
   },
   {
    "duration": 11,
    "start_time": "2023-05-14T16:47:36.874Z"
   },
   {
    "duration": 272,
    "start_time": "2023-05-14T16:47:36.887Z"
   },
   {
    "duration": 10,
    "start_time": "2023-05-14T16:47:37.161Z"
   },
   {
    "duration": 1299,
    "start_time": "2023-05-14T16:48:01.861Z"
   },
   {
    "duration": 347,
    "start_time": "2023-05-14T16:48:03.162Z"
   },
   {
    "duration": 7,
    "start_time": "2023-05-14T16:48:03.510Z"
   },
   {
    "duration": 6054,
    "start_time": "2023-05-14T16:48:03.518Z"
   },
   {
    "duration": 5,
    "start_time": "2023-05-14T16:48:09.574Z"
   },
   {
    "duration": 1978,
    "start_time": "2023-05-14T16:48:09.581Z"
   },
   {
    "duration": 8,
    "start_time": "2023-05-14T16:48:11.561Z"
   },
   {
    "duration": 1520,
    "start_time": "2023-05-14T16:48:11.571Z"
   },
   {
    "duration": 24,
    "start_time": "2023-05-14T16:48:13.093Z"
   },
   {
    "duration": 273,
    "start_time": "2023-05-14T16:48:13.120Z"
   },
   {
    "duration": 5,
    "start_time": "2023-05-14T16:48:13.395Z"
   },
   {
    "duration": 136,
    "start_time": "2023-05-14T16:48:13.401Z"
   },
   {
    "duration": 236,
    "start_time": "2023-05-14T16:48:13.546Z"
   },
   {
    "duration": 5,
    "start_time": "2023-05-14T16:48:13.784Z"
   },
   {
    "duration": 136,
    "start_time": "2023-05-14T16:48:13.791Z"
   },
   {
    "duration": 29,
    "start_time": "2023-05-14T16:48:13.930Z"
   },
   {
    "duration": 264,
    "start_time": "2023-05-14T16:48:13.961Z"
   },
   {
    "duration": 9,
    "start_time": "2023-05-14T16:48:14.227Z"
   },
   {
    "duration": 1216,
    "start_time": "2023-05-14T16:52:08.066Z"
   },
   {
    "duration": 326,
    "start_time": "2023-05-14T16:52:09.284Z"
   },
   {
    "duration": 6,
    "start_time": "2023-05-14T16:52:09.612Z"
   },
   {
    "duration": 6182,
    "start_time": "2023-05-14T16:52:09.646Z"
   },
   {
    "duration": 21,
    "start_time": "2023-05-14T16:52:15.829Z"
   },
   {
    "duration": 1965,
    "start_time": "2023-05-14T16:52:15.852Z"
   },
   {
    "duration": 6,
    "start_time": "2023-05-14T16:52:17.819Z"
   },
   {
    "duration": 1360,
    "start_time": "2023-05-14T16:52:17.827Z"
   },
   {
    "duration": 23,
    "start_time": "2023-05-14T16:52:19.189Z"
   },
   {
    "duration": 293,
    "start_time": "2023-05-14T16:52:19.215Z"
   },
   {
    "duration": 4,
    "start_time": "2023-05-14T16:52:19.511Z"
   },
   {
    "duration": 133,
    "start_time": "2023-05-14T16:52:19.517Z"
   },
   {
    "duration": 244,
    "start_time": "2023-05-14T16:52:19.655Z"
   },
   {
    "duration": 6,
    "start_time": "2023-05-14T16:52:19.901Z"
   },
   {
    "duration": 124,
    "start_time": "2023-05-14T16:52:19.909Z"
   },
   {
    "duration": 26,
    "start_time": "2023-05-14T16:52:20.034Z"
   },
   {
    "duration": 260,
    "start_time": "2023-05-14T16:52:20.062Z"
   },
   {
    "duration": 12,
    "start_time": "2023-05-14T16:52:20.324Z"
   },
   {
    "duration": 1358,
    "start_time": "2023-05-15T04:16:04.142Z"
   },
   {
    "duration": 710,
    "start_time": "2023-05-15T04:16:05.872Z"
   },
   {
    "duration": 6,
    "start_time": "2023-05-15T04:18:44.226Z"
   },
   {
    "duration": 5308,
    "start_time": "2023-05-15T04:19:14.720Z"
   },
   {
    "duration": 14,
    "start_time": "2023-05-15T04:19:29.514Z"
   },
   {
    "duration": 4,
    "start_time": "2023-05-15T04:22:07.881Z"
   },
   {
    "duration": 1755,
    "start_time": "2023-05-15T04:22:12.513Z"
   },
   {
    "duration": 15,
    "start_time": "2023-05-15T04:22:26.252Z"
   },
   {
    "duration": 6,
    "start_time": "2023-05-15T04:23:06.258Z"
   },
   {
    "duration": 6,
    "start_time": "2023-05-15T04:23:15.596Z"
   },
   {
    "duration": 1167,
    "start_time": "2023-05-15T04:23:15.760Z"
   },
   {
    "duration": 17,
    "start_time": "2023-05-15T04:23:17.842Z"
   },
   {
    "duration": 25,
    "start_time": "2023-05-15T04:27:48.263Z"
   },
   {
    "duration": 207,
    "start_time": "2023-05-15T04:28:45.643Z"
   },
   {
    "duration": 5,
    "start_time": "2023-05-15T04:28:46.472Z"
   },
   {
    "duration": 100,
    "start_time": "2023-05-15T04:28:47.229Z"
   },
   {
    "duration": 205,
    "start_time": "2023-05-15T04:28:47.790Z"
   },
   {
    "duration": 5,
    "start_time": "2023-05-15T04:28:48.273Z"
   },
   {
    "duration": 115,
    "start_time": "2023-05-15T04:28:48.454Z"
   },
   {
    "duration": 11,
    "start_time": "2023-05-15T04:28:48.682Z"
   },
   {
    "duration": 1391,
    "start_time": "2023-05-18T13:52:01.097Z"
   },
   {
    "duration": 704,
    "start_time": "2023-05-18T13:52:02.491Z"
   },
   {
    "duration": 5,
    "start_time": "2023-05-18T13:52:03.197Z"
   },
   {
    "duration": 5652,
    "start_time": "2023-05-18T13:52:03.204Z"
   },
   {
    "duration": 7,
    "start_time": "2023-05-18T13:52:08.858Z"
   },
   {
    "duration": 2688,
    "start_time": "2023-05-18T13:52:08.866Z"
   },
   {
    "duration": 6,
    "start_time": "2023-05-18T13:52:11.556Z"
   },
   {
    "duration": 1336,
    "start_time": "2023-05-18T13:52:11.564Z"
   },
   {
    "duration": 57,
    "start_time": "2023-05-18T13:52:12.901Z"
   },
   {
    "duration": 257,
    "start_time": "2023-05-18T13:52:12.960Z"
   },
   {
    "duration": 242,
    "start_time": "2023-05-18T13:52:13.219Z"
   },
   {
    "duration": 6,
    "start_time": "2023-05-18T13:52:13.463Z"
   },
   {
    "duration": 124,
    "start_time": "2023-05-18T13:52:13.471Z"
   },
   {
    "duration": 123,
    "start_time": "2023-05-18T13:52:13.596Z"
   },
   {
    "duration": 4,
    "start_time": "2023-05-18T13:52:13.721Z"
   },
   {
    "duration": 106,
    "start_time": "2023-05-18T13:52:13.727Z"
   },
   {
    "duration": 201,
    "start_time": "2023-05-18T13:52:13.847Z"
   },
   {
    "duration": 250,
    "start_time": "2023-05-18T13:52:14.049Z"
   },
   {
    "duration": 118,
    "start_time": "2023-05-18T13:52:14.301Z"
   },
   {
    "duration": 0,
    "start_time": "2023-05-18T13:52:14.421Z"
   },
   {
    "duration": 0,
    "start_time": "2023-05-18T13:52:14.422Z"
   },
   {
    "duration": 0,
    "start_time": "2023-05-18T13:52:14.423Z"
   },
   {
    "duration": 0,
    "start_time": "2023-05-18T13:52:14.424Z"
   },
   {
    "duration": 0,
    "start_time": "2023-05-18T13:52:14.425Z"
   },
   {
    "duration": 44,
    "start_time": "2023-05-18T13:52:28.441Z"
   },
   {
    "duration": 12,
    "start_time": "2023-05-18T13:52:50.538Z"
   },
   {
    "duration": 11,
    "start_time": "2023-05-18T13:53:00.868Z"
   },
   {
    "duration": 6217,
    "start_time": "2023-05-18T14:07:00.403Z"
   },
   {
    "duration": 6080,
    "start_time": "2023-05-18T14:07:12.598Z"
   },
   {
    "duration": 6310,
    "start_time": "2023-05-18T14:07:32.985Z"
   },
   {
    "duration": 6713,
    "start_time": "2023-05-18T14:07:46.954Z"
   },
   {
    "duration": 6799,
    "start_time": "2023-05-18T14:08:06.186Z"
   },
   {
    "duration": 14,
    "start_time": "2023-05-18T14:09:52.704Z"
   },
   {
    "duration": 362,
    "start_time": "2023-05-18T14:10:03.259Z"
   },
   {
    "duration": 6776,
    "start_time": "2023-05-18T14:10:14.865Z"
   },
   {
    "duration": 6878,
    "start_time": "2023-05-18T14:11:26.095Z"
   },
   {
    "duration": 6615,
    "start_time": "2023-05-18T14:11:53.978Z"
   },
   {
    "duration": 6862,
    "start_time": "2023-05-18T14:12:34.873Z"
   },
   {
    "duration": 7033,
    "start_time": "2023-05-18T14:13:01.862Z"
   },
   {
    "duration": 7082,
    "start_time": "2023-05-18T14:13:24.824Z"
   },
   {
    "duration": 6967,
    "start_time": "2023-05-18T14:13:45.102Z"
   },
   {
    "duration": 1691,
    "start_time": "2023-05-18T14:14:08.476Z"
   },
   {
    "duration": 1469,
    "start_time": "2023-05-18T14:14:57.062Z"
   },
   {
    "duration": 7316,
    "start_time": "2023-05-18T14:15:12.088Z"
   },
   {
    "duration": 30,
    "start_time": "2023-05-18T14:15:40.450Z"
   },
   {
    "duration": 1619,
    "start_time": "2023-05-18T14:16:41.129Z"
   },
   {
    "duration": 1502,
    "start_time": "2023-05-18T14:17:03.173Z"
   },
   {
    "duration": 1548,
    "start_time": "2023-05-18T14:18:05.184Z"
   },
   {
    "duration": 1684,
    "start_time": "2023-05-18T14:19:09.708Z"
   },
   {
    "duration": 1199,
    "start_time": "2023-05-18T14:20:35.679Z"
   },
   {
    "duration": 320,
    "start_time": "2023-05-18T14:20:36.880Z"
   },
   {
    "duration": 7,
    "start_time": "2023-05-18T14:20:37.201Z"
   },
   {
    "duration": 5938,
    "start_time": "2023-05-18T14:20:37.209Z"
   },
   {
    "duration": 6,
    "start_time": "2023-05-18T14:20:43.149Z"
   },
   {
    "duration": 2652,
    "start_time": "2023-05-18T14:20:43.157Z"
   },
   {
    "duration": 6,
    "start_time": "2023-05-18T14:20:45.811Z"
   },
   {
    "duration": 1227,
    "start_time": "2023-05-18T14:20:45.819Z"
   },
   {
    "duration": 36,
    "start_time": "2023-05-18T14:20:47.048Z"
   },
   {
    "duration": 247,
    "start_time": "2023-05-18T14:20:47.087Z"
   },
   {
    "duration": 242,
    "start_time": "2023-05-18T14:20:47.336Z"
   },
   {
    "duration": 5,
    "start_time": "2023-05-18T14:20:47.580Z"
   },
   {
    "duration": 161,
    "start_time": "2023-05-18T14:20:47.586Z"
   },
   {
    "duration": 121,
    "start_time": "2023-05-18T14:20:47.749Z"
   },
   {
    "duration": 5,
    "start_time": "2023-05-18T14:20:47.871Z"
   },
   {
    "duration": 119,
    "start_time": "2023-05-18T14:20:47.877Z"
   },
   {
    "duration": 199,
    "start_time": "2023-05-18T14:20:47.998Z"
   },
   {
    "duration": 189,
    "start_time": "2023-05-18T14:20:48.199Z"
   },
   {
    "duration": 1647,
    "start_time": "2023-05-18T14:20:48.389Z"
   },
   {
    "duration": 17,
    "start_time": "2023-05-18T14:20:50.038Z"
   },
   {
    "duration": 293,
    "start_time": "2023-05-18T14:20:50.056Z"
   },
   {
    "duration": 3,
    "start_time": "2023-05-18T14:20:50.351Z"
   },
   {
    "duration": 3,
    "start_time": "2023-05-18T14:20:50.446Z"
   },
   {
    "duration": 95,
    "start_time": "2023-05-18T14:20:50.452Z"
   },
   {
    "duration": 1267,
    "start_time": "2023-05-18T14:21:52.625Z"
   },
   {
    "duration": 321,
    "start_time": "2023-05-18T14:21:53.894Z"
   },
   {
    "duration": 7,
    "start_time": "2023-05-18T14:21:54.245Z"
   },
   {
    "duration": 5859,
    "start_time": "2023-05-18T14:21:54.253Z"
   },
   {
    "duration": 6,
    "start_time": "2023-05-18T14:22:00.114Z"
   },
   {
    "duration": 2835,
    "start_time": "2023-05-18T14:22:00.122Z"
   },
   {
    "duration": 8,
    "start_time": "2023-05-18T14:22:02.960Z"
   },
   {
    "duration": 1189,
    "start_time": "2023-05-18T14:22:02.971Z"
   },
   {
    "duration": 35,
    "start_time": "2023-05-18T14:22:04.162Z"
   },
   {
    "duration": 252,
    "start_time": "2023-05-18T14:22:04.199Z"
   },
   {
    "duration": 215,
    "start_time": "2023-05-18T14:22:04.453Z"
   },
   {
    "duration": 5,
    "start_time": "2023-05-18T14:22:04.669Z"
   },
   {
    "duration": 110,
    "start_time": "2023-05-18T14:22:04.675Z"
   },
   {
    "duration": 124,
    "start_time": "2023-05-18T14:22:04.788Z"
   },
   {
    "duration": 5,
    "start_time": "2023-05-18T14:22:04.914Z"
   },
   {
    "duration": 170,
    "start_time": "2023-05-18T14:22:04.920Z"
   },
   {
    "duration": 196,
    "start_time": "2023-05-18T14:22:05.092Z"
   },
   {
    "duration": 173,
    "start_time": "2023-05-18T14:22:05.290Z"
   },
   {
    "duration": 1639,
    "start_time": "2023-05-18T14:22:05.465Z"
   },
   {
    "duration": 15,
    "start_time": "2023-05-18T14:22:07.106Z"
   },
   {
    "duration": 331,
    "start_time": "2023-05-18T14:22:07.123Z"
   },
   {
    "duration": 91,
    "start_time": "2023-05-18T14:22:07.456Z"
   },
   {
    "duration": 34,
    "start_time": "2023-05-18T14:22:07.548Z"
   },
   {
    "duration": 19,
    "start_time": "2023-05-18T14:22:07.584Z"
   },
   {
    "duration": 1250,
    "start_time": "2023-05-18T14:23:46.726Z"
   },
   {
    "duration": 335,
    "start_time": "2023-05-18T14:23:47.978Z"
   },
   {
    "duration": 32,
    "start_time": "2023-05-18T14:23:48.315Z"
   },
   {
    "duration": 5905,
    "start_time": "2023-05-18T14:23:48.349Z"
   },
   {
    "duration": 6,
    "start_time": "2023-05-18T14:23:54.256Z"
   },
   {
    "duration": 2632,
    "start_time": "2023-05-18T14:23:54.263Z"
   },
   {
    "duration": 6,
    "start_time": "2023-05-18T14:23:56.897Z"
   },
   {
    "duration": 1306,
    "start_time": "2023-05-18T14:23:56.905Z"
   },
   {
    "duration": 49,
    "start_time": "2023-05-18T14:23:58.213Z"
   },
   {
    "duration": 236,
    "start_time": "2023-05-18T14:23:58.266Z"
   },
   {
    "duration": 230,
    "start_time": "2023-05-18T14:23:58.503Z"
   },
   {
    "duration": 12,
    "start_time": "2023-05-18T14:23:58.735Z"
   },
   {
    "duration": 113,
    "start_time": "2023-05-18T14:23:58.748Z"
   },
   {
    "duration": 113,
    "start_time": "2023-05-18T14:23:58.863Z"
   },
   {
    "duration": 4,
    "start_time": "2023-05-18T14:23:58.978Z"
   },
   {
    "duration": 111,
    "start_time": "2023-05-18T14:23:58.983Z"
   },
   {
    "duration": 191,
    "start_time": "2023-05-18T14:23:59.096Z"
   },
   {
    "duration": 170,
    "start_time": "2023-05-18T14:23:59.288Z"
   },
   {
    "duration": 1532,
    "start_time": "2023-05-18T14:23:59.459Z"
   },
   {
    "duration": 17,
    "start_time": "2023-05-18T14:24:00.993Z"
   },
   {
    "duration": 339,
    "start_time": "2023-05-18T14:24:01.012Z"
   },
   {
    "duration": 93,
    "start_time": "2023-05-18T14:24:01.354Z"
   },
   {
    "duration": 97,
    "start_time": "2023-05-18T14:24:01.449Z"
   },
   {
    "duration": 60,
    "start_time": "2023-05-18T14:24:01.548Z"
   },
   {
    "duration": 1240,
    "start_time": "2023-05-18T14:25:21.470Z"
   },
   {
    "duration": 358,
    "start_time": "2023-05-18T14:25:22.712Z"
   },
   {
    "duration": 7,
    "start_time": "2023-05-18T14:25:23.072Z"
   },
   {
    "duration": 5933,
    "start_time": "2023-05-18T14:25:23.082Z"
   },
   {
    "duration": 6,
    "start_time": "2023-05-18T14:25:29.016Z"
   },
   {
    "duration": 2793,
    "start_time": "2023-05-18T14:25:29.024Z"
   },
   {
    "duration": 7,
    "start_time": "2023-05-18T14:25:31.819Z"
   },
   {
    "duration": 1418,
    "start_time": "2023-05-18T14:25:31.847Z"
   },
   {
    "duration": 36,
    "start_time": "2023-05-18T14:25:33.267Z"
   },
   {
    "duration": 273,
    "start_time": "2023-05-18T14:25:33.305Z"
   },
   {
    "duration": 243,
    "start_time": "2023-05-18T14:25:33.580Z"
   },
   {
    "duration": 5,
    "start_time": "2023-05-18T14:25:33.825Z"
   },
   {
    "duration": 135,
    "start_time": "2023-05-18T14:25:33.832Z"
   },
   {
    "duration": 120,
    "start_time": "2023-05-18T14:25:33.968Z"
   },
   {
    "duration": 3,
    "start_time": "2023-05-18T14:25:34.090Z"
   },
   {
    "duration": 109,
    "start_time": "2023-05-18T14:25:34.095Z"
   },
   {
    "duration": 229,
    "start_time": "2023-05-18T14:25:34.205Z"
   },
   {
    "duration": 177,
    "start_time": "2023-05-18T14:25:34.436Z"
   },
   {
    "duration": 1661,
    "start_time": "2023-05-18T14:25:34.615Z"
   },
   {
    "duration": 15,
    "start_time": "2023-05-18T14:25:36.278Z"
   },
   {
    "duration": 356,
    "start_time": "2023-05-18T14:25:36.295Z"
   },
   {
    "duration": 94,
    "start_time": "2023-05-18T14:25:36.653Z"
   },
   {
    "duration": 34,
    "start_time": "2023-05-18T14:25:36.749Z"
   },
   {
    "duration": 15,
    "start_time": "2023-05-18T14:25:36.784Z"
   },
   {
    "duration": 2258,
    "start_time": "2023-05-18T14:30:37.298Z"
   },
   {
    "duration": 1278,
    "start_time": "2023-05-18T14:33:11.670Z"
   },
   {
    "duration": 353,
    "start_time": "2023-05-18T14:33:12.950Z"
   },
   {
    "duration": 10,
    "start_time": "2023-05-18T14:33:13.305Z"
   },
   {
    "duration": 6041,
    "start_time": "2023-05-18T14:33:13.347Z"
   },
   {
    "duration": 5,
    "start_time": "2023-05-18T14:33:19.390Z"
   },
   {
    "duration": 2821,
    "start_time": "2023-05-18T14:33:19.397Z"
   },
   {
    "duration": 9,
    "start_time": "2023-05-18T14:33:22.219Z"
   },
   {
    "duration": 1671,
    "start_time": "2023-05-18T14:33:22.246Z"
   },
   {
    "duration": 57,
    "start_time": "2023-05-18T14:33:23.919Z"
   },
   {
    "duration": 240,
    "start_time": "2023-05-18T14:33:23.978Z"
   },
   {
    "duration": 240,
    "start_time": "2023-05-18T14:33:24.220Z"
   },
   {
    "duration": 5,
    "start_time": "2023-05-18T14:33:24.462Z"
   },
   {
    "duration": 135,
    "start_time": "2023-05-18T14:33:24.469Z"
   },
   {
    "duration": 121,
    "start_time": "2023-05-18T14:33:24.605Z"
   },
   {
    "duration": 4,
    "start_time": "2023-05-18T14:33:24.728Z"
   },
   {
    "duration": 111,
    "start_time": "2023-05-18T14:33:24.746Z"
   },
   {
    "duration": 231,
    "start_time": "2023-05-18T14:33:24.858Z"
   },
   {
    "duration": 189,
    "start_time": "2023-05-18T14:33:25.091Z"
   },
   {
    "duration": 1639,
    "start_time": "2023-05-18T14:33:25.281Z"
   },
   {
    "duration": 17,
    "start_time": "2023-05-18T14:33:26.922Z"
   },
   {
    "duration": 303,
    "start_time": "2023-05-18T14:33:26.945Z"
   },
   {
    "duration": 2333,
    "start_time": "2023-05-18T14:33:27.253Z"
   },
   {
    "duration": 0,
    "start_time": "2023-05-18T14:33:29.588Z"
   },
   {
    "duration": 0,
    "start_time": "2023-05-18T14:33:29.589Z"
   },
   {
    "duration": 2231,
    "start_time": "2023-05-18T14:34:06.354Z"
   },
   {
    "duration": 2188,
    "start_time": "2023-05-18T14:34:19.170Z"
   },
   {
    "duration": 42451,
    "start_time": "2023-05-18T14:34:52.073Z"
   },
   {
    "duration": 32110,
    "start_time": "2023-05-18T14:35:34.527Z"
   },
   {
    "duration": 0,
    "start_time": "2023-05-18T14:36:06.639Z"
   },
   {
    "duration": 0,
    "start_time": "2023-05-18T14:36:06.640Z"
   },
   {
    "duration": 16,
    "start_time": "2023-05-18T14:36:09.090Z"
   },
   {
    "duration": 1310,
    "start_time": "2023-05-18T14:36:52.640Z"
   },
   {
    "duration": 354,
    "start_time": "2023-05-18T14:36:53.953Z"
   },
   {
    "duration": 38,
    "start_time": "2023-05-18T14:36:54.309Z"
   },
   {
    "duration": 6335,
    "start_time": "2023-05-18T14:36:54.349Z"
   },
   {
    "duration": 7,
    "start_time": "2023-05-18T14:37:00.686Z"
   },
   {
    "duration": 3231,
    "start_time": "2023-05-18T14:37:00.695Z"
   },
   {
    "duration": 7,
    "start_time": "2023-05-18T14:37:03.928Z"
   },
   {
    "duration": 1372,
    "start_time": "2023-05-18T14:37:03.936Z"
   },
   {
    "duration": 62,
    "start_time": "2023-05-18T14:37:05.309Z"
   },
   {
    "duration": 249,
    "start_time": "2023-05-18T14:37:05.373Z"
   },
   {
    "duration": 283,
    "start_time": "2023-05-18T14:37:05.624Z"
   },
   {
    "duration": 6,
    "start_time": "2023-05-18T14:37:05.910Z"
   },
   {
    "duration": 143,
    "start_time": "2023-05-18T14:37:05.918Z"
   },
   {
    "duration": 142,
    "start_time": "2023-05-18T14:37:06.063Z"
   },
   {
    "duration": 5,
    "start_time": "2023-05-18T14:37:06.207Z"
   },
   {
    "duration": 132,
    "start_time": "2023-05-18T14:37:06.214Z"
   },
   {
    "duration": 234,
    "start_time": "2023-05-18T14:37:06.348Z"
   },
   {
    "duration": 195,
    "start_time": "2023-05-18T14:37:06.584Z"
   },
   {
    "duration": 1747,
    "start_time": "2023-05-18T14:37:06.781Z"
   },
   {
    "duration": 22,
    "start_time": "2023-05-18T14:37:08.531Z"
   },
   {
    "duration": 499,
    "start_time": "2023-05-18T14:37:08.555Z"
   },
   {
    "duration": 43124,
    "start_time": "2023-05-18T14:37:09.056Z"
   },
   {
    "duration": 55762,
    "start_time": "2023-05-18T14:37:52.182Z"
   },
   {
    "duration": 121,
    "start_time": "2023-05-18T14:38:47.946Z"
   },
   {
    "duration": 2,
    "start_time": "2023-05-18T14:39:32.513Z"
   },
   {
    "duration": 11,
    "start_time": "2023-05-18T14:39:54.258Z"
   },
   {
    "duration": 8,
    "start_time": "2023-05-18T14:40:02.006Z"
   },
   {
    "duration": 15,
    "start_time": "2023-05-18T14:54:19.082Z"
   },
   {
    "duration": 12,
    "start_time": "2023-05-18T14:54:55.375Z"
   },
   {
    "duration": 512,
    "start_time": "2023-05-18T14:55:06.691Z"
   },
   {
    "duration": 59297,
    "start_time": "2023-05-18T14:55:53.103Z"
   },
   {
    "duration": 12,
    "start_time": "2023-05-18T14:56:56.802Z"
   },
   {
    "duration": 464,
    "start_time": "2023-05-18T14:58:03.916Z"
   },
   {
    "duration": 5422,
    "start_time": "2023-05-18T14:58:16.972Z"
   },
   {
    "duration": 5352,
    "start_time": "2023-05-18T14:58:37.852Z"
   },
   {
    "duration": 5292,
    "start_time": "2023-05-18T14:58:54.557Z"
   },
   {
    "duration": 7,
    "start_time": "2023-05-18T14:59:23.782Z"
   },
   {
    "duration": 11,
    "start_time": "2023-05-18T15:00:07.781Z"
   },
   {
    "duration": 15,
    "start_time": "2023-05-18T15:00:33.106Z"
   },
   {
    "duration": 15,
    "start_time": "2023-05-18T15:00:44.151Z"
   },
   {
    "duration": 5,
    "start_time": "2023-05-18T15:01:12.891Z"
   },
   {
    "duration": 15,
    "start_time": "2023-05-18T15:01:50.496Z"
   },
   {
    "duration": 11,
    "start_time": "2023-05-18T15:02:07.143Z"
   },
   {
    "duration": 11,
    "start_time": "2023-05-18T15:02:19.703Z"
   },
   {
    "duration": 10,
    "start_time": "2023-05-18T15:02:34.890Z"
   },
   {
    "duration": 12,
    "start_time": "2023-05-18T15:04:24.310Z"
   },
   {
    "duration": 526,
    "start_time": "2023-05-18T15:04:34.550Z"
   },
   {
    "duration": 555,
    "start_time": "2023-05-18T15:05:05.959Z"
   },
   {
    "duration": 684,
    "start_time": "2023-05-18T15:05:56.043Z"
   },
   {
    "duration": 63450,
    "start_time": "2023-05-18T15:06:12.188Z"
   },
   {
    "duration": 12,
    "start_time": "2023-05-18T15:07:16.288Z"
   },
   {
    "duration": 7,
    "start_time": "2023-05-18T15:07:34.603Z"
   },
   {
    "duration": 11,
    "start_time": "2023-05-18T15:07:36.884Z"
   },
   {
    "duration": 57550,
    "start_time": "2023-05-18T15:09:08.580Z"
   },
   {
    "duration": 141,
    "start_time": "2023-05-18T15:10:06.133Z"
   },
   {
    "duration": 13,
    "start_time": "2023-05-18T15:10:37.842Z"
   },
   {
    "duration": 58768,
    "start_time": "2023-05-18T15:10:46.248Z"
   },
   {
    "duration": 461,
    "start_time": "2023-05-18T15:11:56.906Z"
   },
   {
    "duration": 154,
    "start_time": "2023-05-18T15:12:55.084Z"
   },
   {
    "duration": 305,
    "start_time": "2023-05-18T15:13:03.485Z"
   },
   {
    "duration": 299,
    "start_time": "2023-05-18T15:13:25.844Z"
   },
   {
    "duration": 319,
    "start_time": "2023-05-18T15:13:30.149Z"
   },
   {
    "duration": 320,
    "start_time": "2023-05-18T15:13:35.877Z"
   },
   {
    "duration": 358,
    "start_time": "2023-05-18T15:13:43.509Z"
   },
   {
    "duration": 458,
    "start_time": "2023-05-18T15:13:51.010Z"
   },
   {
    "duration": 318,
    "start_time": "2023-05-18T15:13:56.474Z"
   },
   {
    "duration": 343,
    "start_time": "2023-05-18T15:14:02.382Z"
   },
   {
    "duration": 1484,
    "start_time": "2023-05-18T15:14:15.709Z"
   },
   {
    "duration": 54,
    "start_time": "2023-05-18T15:14:43.192Z"
   },
   {
    "duration": 315,
    "start_time": "2023-05-18T15:17:39.086Z"
   },
   {
    "duration": 325,
    "start_time": "2023-05-18T15:18:56.482Z"
   },
   {
    "duration": 330,
    "start_time": "2023-05-18T15:19:14.156Z"
   },
   {
    "duration": 324,
    "start_time": "2023-05-18T15:19:34.119Z"
   },
   {
    "duration": 338,
    "start_time": "2023-05-18T15:20:19.154Z"
   },
   {
    "duration": 179,
    "start_time": "2023-05-18T15:21:00.087Z"
   },
   {
    "duration": 12,
    "start_time": "2023-05-18T15:21:59.227Z"
   },
   {
    "duration": 333,
    "start_time": "2023-05-18T15:22:16.685Z"
   },
   {
    "duration": 10,
    "start_time": "2023-05-18T15:24:48.989Z"
   },
   {
    "duration": 17,
    "start_time": "2023-05-18T15:25:36.517Z"
   },
   {
    "duration": 396,
    "start_time": "2023-05-18T15:25:51.912Z"
   },
   {
    "duration": 356,
    "start_time": "2023-05-18T15:26:13.205Z"
   },
   {
    "duration": 336,
    "start_time": "2023-05-18T15:26:23.790Z"
   },
   {
    "duration": 347,
    "start_time": "2023-05-18T15:26:29.246Z"
   },
   {
    "duration": 373,
    "start_time": "2023-05-18T15:28:13.294Z"
   },
   {
    "duration": 385,
    "start_time": "2023-05-18T15:28:24.645Z"
   },
   {
    "duration": 570,
    "start_time": "2023-05-18T15:29:12.116Z"
   },
   {
    "duration": 59,
    "start_time": "2023-05-18T15:29:49.646Z"
   },
   {
    "duration": 396,
    "start_time": "2023-05-18T15:30:22.484Z"
   },
   {
    "duration": 384,
    "start_time": "2023-05-18T15:30:34.380Z"
   },
   {
    "duration": 67,
    "start_time": "2023-05-18T15:31:02.661Z"
   },
   {
    "duration": 66,
    "start_time": "2023-05-18T15:31:09.661Z"
   },
   {
    "duration": 75,
    "start_time": "2023-05-18T15:31:18.014Z"
   },
   {
    "duration": 405,
    "start_time": "2023-05-18T15:31:31.163Z"
   },
   {
    "duration": 369,
    "start_time": "2023-05-18T15:31:58.522Z"
   },
   {
    "duration": 383,
    "start_time": "2023-05-18T15:33:18.909Z"
   },
   {
    "duration": 525,
    "start_time": "2023-05-18T15:33:42.667Z"
   },
   {
    "duration": 379,
    "start_time": "2023-05-18T15:34:21.255Z"
   },
   {
    "duration": 380,
    "start_time": "2023-05-18T15:34:34.867Z"
   },
   {
    "duration": 388,
    "start_time": "2023-05-18T15:34:40.294Z"
   },
   {
    "duration": 435,
    "start_time": "2023-05-18T15:35:22.084Z"
   },
   {
    "duration": 371,
    "start_time": "2023-05-18T15:35:34.391Z"
   },
   {
    "duration": 511,
    "start_time": "2023-05-18T15:35:43.467Z"
   },
   {
    "duration": 388,
    "start_time": "2023-05-18T15:35:53.582Z"
   },
   {
    "duration": 424,
    "start_time": "2023-05-18T15:36:01.746Z"
   },
   {
    "duration": 395,
    "start_time": "2023-05-18T15:36:07.987Z"
   },
   {
    "duration": 409,
    "start_time": "2023-05-18T15:36:13.962Z"
   },
   {
    "duration": 511,
    "start_time": "2023-05-18T15:36:23.307Z"
   },
   {
    "duration": 157,
    "start_time": "2023-05-18T15:36:42.560Z"
   },
   {
    "duration": 354,
    "start_time": "2023-05-18T15:37:07.788Z"
   },
   {
    "duration": 420,
    "start_time": "2023-05-18T15:37:12.487Z"
   },
   {
    "duration": 419,
    "start_time": "2023-05-18T15:37:26.286Z"
   },
   {
    "duration": 426,
    "start_time": "2023-05-18T15:37:32.460Z"
   },
   {
    "duration": 400,
    "start_time": "2023-05-18T15:37:40.403Z"
   },
   {
    "duration": 500,
    "start_time": "2023-05-18T15:37:44.516Z"
   },
   {
    "duration": 18,
    "start_time": "2023-05-18T15:40:01.283Z"
   },
   {
    "duration": 1559,
    "start_time": "2023-05-18T15:40:09.362Z"
   },
   {
    "duration": 394,
    "start_time": "2023-05-18T15:40:10.923Z"
   },
   {
    "duration": 6,
    "start_time": "2023-05-18T15:40:11.319Z"
   },
   {
    "duration": 6334,
    "start_time": "2023-05-18T15:40:11.345Z"
   },
   {
    "duration": 7,
    "start_time": "2023-05-18T15:40:17.682Z"
   },
   {
    "duration": 2975,
    "start_time": "2023-05-18T15:40:17.691Z"
   },
   {
    "duration": 7,
    "start_time": "2023-05-18T15:40:20.668Z"
   },
   {
    "duration": 1413,
    "start_time": "2023-05-18T15:40:20.677Z"
   },
   {
    "duration": 57,
    "start_time": "2023-05-18T15:40:22.092Z"
   },
   {
    "duration": 269,
    "start_time": "2023-05-18T15:40:22.156Z"
   },
   {
    "duration": 287,
    "start_time": "2023-05-18T15:40:22.428Z"
   },
   {
    "duration": 4,
    "start_time": "2023-05-18T15:40:22.717Z"
   },
   {
    "duration": 118,
    "start_time": "2023-05-18T15:40:22.723Z"
   },
   {
    "duration": 235,
    "start_time": "2023-05-18T15:40:22.842Z"
   },
   {
    "duration": 5,
    "start_time": "2023-05-18T15:40:23.079Z"
   },
   {
    "duration": 115,
    "start_time": "2023-05-18T15:40:23.087Z"
   },
   {
    "duration": 225,
    "start_time": "2023-05-18T15:40:23.204Z"
   },
   {
    "duration": 185,
    "start_time": "2023-05-18T15:40:23.431Z"
   },
   {
    "duration": 1674,
    "start_time": "2023-05-18T15:40:23.618Z"
   },
   {
    "duration": 18,
    "start_time": "2023-05-18T15:40:25.294Z"
   },
   {
    "duration": 135,
    "start_time": "2023-05-18T15:40:25.314Z"
   },
   {
    "duration": 44065,
    "start_time": "2023-05-18T15:40:25.454Z"
   },
   {
    "duration": 59378,
    "start_time": "2023-05-18T15:41:09.521Z"
   },
   {
    "duration": 415,
    "start_time": "2023-05-18T15:42:08.901Z"
   },
   {
    "duration": 7,
    "start_time": "2023-05-18T15:42:09.318Z"
   },
   {
    "duration": 204,
    "start_time": "2023-05-18T15:45:17.083Z"
   },
   {
    "duration": 242,
    "start_time": "2023-05-18T15:48:59.519Z"
   },
   {
    "duration": 361,
    "start_time": "2023-05-18T15:49:10.653Z"
   },
   {
    "duration": 367,
    "start_time": "2023-05-18T15:49:19.295Z"
   },
   {
    "duration": 385,
    "start_time": "2023-05-18T15:49:26.245Z"
   },
   {
    "duration": 154,
    "start_time": "2023-05-18T15:50:01.594Z"
   },
   {
    "duration": 1486,
    "start_time": "2023-05-18T15:53:04.200Z"
   },
   {
    "duration": 365,
    "start_time": "2023-05-18T15:53:05.688Z"
   },
   {
    "duration": 6,
    "start_time": "2023-05-18T15:53:06.055Z"
   },
   {
    "duration": 6029,
    "start_time": "2023-05-18T15:53:06.064Z"
   },
   {
    "duration": 9,
    "start_time": "2023-05-18T15:53:12.095Z"
   },
   {
    "duration": 2975,
    "start_time": "2023-05-18T15:53:12.105Z"
   },
   {
    "duration": 7,
    "start_time": "2023-05-18T15:53:15.082Z"
   },
   {
    "duration": 1400,
    "start_time": "2023-05-18T15:53:15.090Z"
   },
   {
    "duration": 55,
    "start_time": "2023-05-18T15:53:16.492Z"
   },
   {
    "duration": 249,
    "start_time": "2023-05-18T15:53:16.550Z"
   },
   {
    "duration": 237,
    "start_time": "2023-05-18T15:53:16.801Z"
   },
   {
    "duration": 6,
    "start_time": "2023-05-18T15:53:17.047Z"
   },
   {
    "duration": 115,
    "start_time": "2023-05-18T15:53:17.055Z"
   },
   {
    "duration": 211,
    "start_time": "2023-05-18T15:53:17.173Z"
   },
   {
    "duration": 4,
    "start_time": "2023-05-18T15:53:17.386Z"
   },
   {
    "duration": 147,
    "start_time": "2023-05-18T15:53:17.391Z"
   },
   {
    "duration": 182,
    "start_time": "2023-05-18T15:53:17.539Z"
   },
   {
    "duration": 174,
    "start_time": "2023-05-18T15:53:17.722Z"
   },
   {
    "duration": 1623,
    "start_time": "2023-05-18T15:53:17.897Z"
   },
   {
    "duration": 16,
    "start_time": "2023-05-18T15:53:19.522Z"
   },
   {
    "duration": 24,
    "start_time": "2023-05-18T15:53:19.540Z"
   },
   {
    "duration": 42325,
    "start_time": "2023-05-18T15:53:19.567Z"
   },
   {
    "duration": 55601,
    "start_time": "2023-05-18T15:54:01.895Z"
   },
   {
    "duration": 402,
    "start_time": "2023-05-18T15:54:57.497Z"
   },
   {
    "duration": 8,
    "start_time": "2023-05-18T15:54:57.901Z"
   },
   {
    "duration": 1550,
    "start_time": "2023-05-18T15:55:27.731Z"
   },
   {
    "duration": 335,
    "start_time": "2023-05-18T15:55:29.283Z"
   },
   {
    "duration": 32,
    "start_time": "2023-05-18T15:55:29.620Z"
   },
   {
    "duration": 6079,
    "start_time": "2023-05-18T15:55:29.654Z"
   },
   {
    "duration": 14,
    "start_time": "2023-05-18T15:55:35.736Z"
   },
   {
    "duration": 2932,
    "start_time": "2023-05-18T15:55:35.751Z"
   },
   {
    "duration": 7,
    "start_time": "2023-05-18T15:55:38.685Z"
   },
   {
    "duration": 1388,
    "start_time": "2023-05-18T15:55:38.693Z"
   },
   {
    "duration": 36,
    "start_time": "2023-05-18T15:55:40.082Z"
   },
   {
    "duration": 270,
    "start_time": "2023-05-18T15:55:40.119Z"
   },
   {
    "duration": 235,
    "start_time": "2023-05-18T15:55:40.391Z"
   },
   {
    "duration": 5,
    "start_time": "2023-05-18T15:55:40.628Z"
   },
   {
    "duration": 159,
    "start_time": "2023-05-18T15:55:40.646Z"
   },
   {
    "duration": 218,
    "start_time": "2023-05-18T15:55:40.808Z"
   },
   {
    "duration": 4,
    "start_time": "2023-05-18T15:55:41.028Z"
   },
   {
    "duration": 120,
    "start_time": "2023-05-18T15:55:41.033Z"
   },
   {
    "duration": 195,
    "start_time": "2023-05-18T15:55:41.155Z"
   },
   {
    "duration": 188,
    "start_time": "2023-05-18T15:55:41.353Z"
   },
   {
    "duration": 1650,
    "start_time": "2023-05-18T15:55:41.546Z"
   },
   {
    "duration": 16,
    "start_time": "2023-05-18T15:55:43.198Z"
   },
   {
    "duration": 36,
    "start_time": "2023-05-18T15:55:43.216Z"
   },
   {
    "duration": 42753,
    "start_time": "2023-05-18T15:55:43.254Z"
   },
   {
    "duration": 55035,
    "start_time": "2023-05-18T15:56:26.008Z"
   },
   {
    "duration": 374,
    "start_time": "2023-05-18T15:57:21.045Z"
   },
   {
    "duration": 8,
    "start_time": "2023-05-18T15:57:21.421Z"
   },
   {
    "duration": 462,
    "start_time": "2023-05-18T15:58:28.076Z"
   },
   {
    "duration": 162,
    "start_time": "2023-05-18T15:58:44.930Z"
   },
   {
    "duration": 1641,
    "start_time": "2023-05-18T15:59:02.737Z"
   },
   {
    "duration": 320,
    "start_time": "2023-05-18T15:59:04.380Z"
   },
   {
    "duration": 6,
    "start_time": "2023-05-18T15:59:04.702Z"
   },
   {
    "duration": 5922,
    "start_time": "2023-05-18T15:59:04.710Z"
   },
   {
    "duration": 13,
    "start_time": "2023-05-18T15:59:10.634Z"
   },
   {
    "duration": 2920,
    "start_time": "2023-05-18T15:59:10.649Z"
   },
   {
    "duration": 7,
    "start_time": "2023-05-18T15:59:13.571Z"
   },
   {
    "duration": 1338,
    "start_time": "2023-05-18T15:59:13.580Z"
   },
   {
    "duration": 52,
    "start_time": "2023-05-18T15:59:14.920Z"
   },
   {
    "duration": 241,
    "start_time": "2023-05-18T15:59:14.974Z"
   },
   {
    "duration": 232,
    "start_time": "2023-05-18T15:59:15.217Z"
   },
   {
    "duration": 5,
    "start_time": "2023-05-18T15:59:15.451Z"
   },
   {
    "duration": 112,
    "start_time": "2023-05-18T15:59:15.458Z"
   },
   {
    "duration": 199,
    "start_time": "2023-05-18T15:59:15.571Z"
   },
   {
    "duration": 4,
    "start_time": "2023-05-18T15:59:15.772Z"
   },
   {
    "duration": 109,
    "start_time": "2023-05-18T15:59:15.777Z"
   },
   {
    "duration": 210,
    "start_time": "2023-05-18T15:59:15.887Z"
   },
   {
    "duration": 185,
    "start_time": "2023-05-18T15:59:16.099Z"
   },
   {
    "duration": 1543,
    "start_time": "2023-05-18T15:59:16.285Z"
   },
   {
    "duration": 14,
    "start_time": "2023-05-18T15:59:17.830Z"
   },
   {
    "duration": 103,
    "start_time": "2023-05-18T15:59:17.846Z"
   },
   {
    "duration": 31689,
    "start_time": "2023-05-18T15:59:17.952Z"
   },
   {
    "duration": 0,
    "start_time": "2023-05-18T15:59:49.645Z"
   },
   {
    "duration": 0,
    "start_time": "2023-05-18T15:59:49.647Z"
   },
   {
    "duration": 0,
    "start_time": "2023-05-18T15:59:49.648Z"
   },
   {
    "duration": 1478,
    "start_time": "2023-05-18T16:00:24.499Z"
   },
   {
    "duration": 327,
    "start_time": "2023-05-18T16:00:25.979Z"
   },
   {
    "duration": 8,
    "start_time": "2023-05-18T16:00:26.307Z"
   },
   {
    "duration": 5903,
    "start_time": "2023-05-18T16:00:26.345Z"
   },
   {
    "duration": 6,
    "start_time": "2023-05-18T16:00:32.250Z"
   },
   {
    "duration": 2739,
    "start_time": "2023-05-18T16:00:32.258Z"
   },
   {
    "duration": 6,
    "start_time": "2023-05-18T16:00:34.999Z"
   },
   {
    "duration": 1389,
    "start_time": "2023-05-18T16:00:35.007Z"
   },
   {
    "duration": 58,
    "start_time": "2023-05-18T16:00:36.398Z"
   },
   {
    "duration": 274,
    "start_time": "2023-05-18T16:00:36.459Z"
   },
   {
    "duration": 219,
    "start_time": "2023-05-18T16:00:36.735Z"
   },
   {
    "duration": 5,
    "start_time": "2023-05-18T16:00:36.956Z"
   },
   {
    "duration": 120,
    "start_time": "2023-05-18T16:00:36.962Z"
   },
   {
    "duration": 209,
    "start_time": "2023-05-18T16:00:37.084Z"
   },
   {
    "duration": 5,
    "start_time": "2023-05-18T16:00:37.295Z"
   },
   {
    "duration": 123,
    "start_time": "2023-05-18T16:00:37.301Z"
   },
   {
    "duration": 206,
    "start_time": "2023-05-18T16:00:37.427Z"
   },
   {
    "duration": 179,
    "start_time": "2023-05-18T16:00:37.635Z"
   },
   {
    "duration": 1600,
    "start_time": "2023-05-18T16:00:37.816Z"
   },
   {
    "duration": 14,
    "start_time": "2023-05-18T16:00:39.418Z"
   },
   {
    "duration": 7,
    "start_time": "2023-05-18T16:00:39.434Z"
   },
   {
    "duration": 9,
    "start_time": "2023-05-18T16:00:39.443Z"
   },
   {
    "duration": 14,
    "start_time": "2023-05-18T16:00:39.454Z"
   },
   {
    "duration": 17,
    "start_time": "2023-05-18T16:00:39.470Z"
   },
   {
    "duration": 9,
    "start_time": "2023-05-18T16:00:39.489Z"
   },
   {
    "duration": 186,
    "start_time": "2023-05-18T16:01:56.489Z"
   },
   {
    "duration": 190,
    "start_time": "2023-05-18T16:02:00.344Z"
   },
   {
    "duration": 1458,
    "start_time": "2023-05-18T16:02:26.706Z"
   },
   {
    "duration": 320,
    "start_time": "2023-05-18T16:02:28.166Z"
   },
   {
    "duration": 6,
    "start_time": "2023-05-18T16:02:28.488Z"
   },
   {
    "duration": 6010,
    "start_time": "2023-05-18T16:02:28.497Z"
   },
   {
    "duration": 6,
    "start_time": "2023-05-18T16:02:34.509Z"
   },
   {
    "duration": 2915,
    "start_time": "2023-05-18T16:02:34.517Z"
   },
   {
    "duration": 14,
    "start_time": "2023-05-18T16:02:37.434Z"
   },
   {
    "duration": 1378,
    "start_time": "2023-05-18T16:02:37.450Z"
   },
   {
    "duration": 40,
    "start_time": "2023-05-18T16:02:38.846Z"
   },
   {
    "duration": 259,
    "start_time": "2023-05-18T16:02:38.889Z"
   },
   {
    "duration": 237,
    "start_time": "2023-05-18T16:02:39.150Z"
   },
   {
    "duration": 6,
    "start_time": "2023-05-18T16:02:39.389Z"
   },
   {
    "duration": 116,
    "start_time": "2023-05-18T16:02:39.397Z"
   },
   {
    "duration": 208,
    "start_time": "2023-05-18T16:02:39.515Z"
   },
   {
    "duration": 4,
    "start_time": "2023-05-18T16:02:39.725Z"
   },
   {
    "duration": 104,
    "start_time": "2023-05-18T16:02:39.731Z"
   },
   {
    "duration": 201,
    "start_time": "2023-05-18T16:02:39.848Z"
   },
   {
    "duration": 165,
    "start_time": "2023-05-18T16:02:40.051Z"
   },
   {
    "duration": 1574,
    "start_time": "2023-05-18T16:02:40.218Z"
   },
   {
    "duration": 14,
    "start_time": "2023-05-18T16:02:41.794Z"
   },
   {
    "duration": 23,
    "start_time": "2023-05-18T16:02:41.810Z"
   },
   {
    "duration": 20,
    "start_time": "2023-05-18T16:02:41.835Z"
   },
   {
    "duration": 16,
    "start_time": "2023-05-18T16:02:41.857Z"
   },
   {
    "duration": 15,
    "start_time": "2023-05-18T16:02:41.876Z"
   },
   {
    "duration": 23,
    "start_time": "2023-05-18T16:02:41.893Z"
   },
   {
    "duration": 1497,
    "start_time": "2023-05-18T16:24:30.221Z"
   },
   {
    "duration": 363,
    "start_time": "2023-05-18T16:24:31.723Z"
   },
   {
    "duration": 6,
    "start_time": "2023-05-18T16:24:32.089Z"
   },
   {
    "duration": 5741,
    "start_time": "2023-05-18T16:24:32.097Z"
   },
   {
    "duration": 6,
    "start_time": "2023-05-18T16:24:37.846Z"
   },
   {
    "duration": 2770,
    "start_time": "2023-05-18T16:24:37.853Z"
   },
   {
    "duration": 27,
    "start_time": "2023-05-18T16:24:40.625Z"
   },
   {
    "duration": 1343,
    "start_time": "2023-05-18T16:24:40.654Z"
   },
   {
    "duration": 60,
    "start_time": "2023-05-18T16:24:42.000Z"
   },
   {
    "duration": 242,
    "start_time": "2023-05-18T16:24:42.062Z"
   },
   {
    "duration": 281,
    "start_time": "2023-05-18T16:24:42.306Z"
   },
   {
    "duration": 5,
    "start_time": "2023-05-18T16:24:42.589Z"
   },
   {
    "duration": 123,
    "start_time": "2023-05-18T16:24:42.596Z"
   },
   {
    "duration": 218,
    "start_time": "2023-05-18T16:24:42.721Z"
   },
   {
    "duration": 7,
    "start_time": "2023-05-18T16:24:42.941Z"
   },
   {
    "duration": 130,
    "start_time": "2023-05-18T16:24:42.950Z"
   },
   {
    "duration": 228,
    "start_time": "2023-05-18T16:24:43.082Z"
   },
   {
    "duration": 161,
    "start_time": "2023-05-18T16:24:43.311Z"
   },
   {
    "duration": 979,
    "start_time": "2023-05-18T16:24:43.474Z"
   },
   {
    "duration": 0,
    "start_time": "2023-05-18T16:24:44.454Z"
   },
   {
    "duration": 0,
    "start_time": "2023-05-18T16:24:44.456Z"
   },
   {
    "duration": 0,
    "start_time": "2023-05-18T16:24:44.457Z"
   },
   {
    "duration": 0,
    "start_time": "2023-05-18T16:24:44.458Z"
   },
   {
    "duration": 0,
    "start_time": "2023-05-18T16:24:44.459Z"
   },
   {
    "duration": 0,
    "start_time": "2023-05-18T16:24:44.460Z"
   },
   {
    "duration": 1615,
    "start_time": "2023-05-18T16:24:58.657Z"
   },
   {
    "duration": 329,
    "start_time": "2023-05-18T16:25:00.274Z"
   },
   {
    "duration": 7,
    "start_time": "2023-05-18T16:25:00.605Z"
   },
   {
    "duration": 6091,
    "start_time": "2023-05-18T16:25:00.614Z"
   },
   {
    "duration": 6,
    "start_time": "2023-05-18T16:25:06.707Z"
   },
   {
    "duration": 2771,
    "start_time": "2023-05-18T16:25:06.715Z"
   },
   {
    "duration": 7,
    "start_time": "2023-05-18T16:25:09.488Z"
   },
   {
    "duration": 1319,
    "start_time": "2023-05-18T16:25:09.498Z"
   },
   {
    "duration": 51,
    "start_time": "2023-05-18T16:25:10.819Z"
   },
   {
    "duration": 249,
    "start_time": "2023-05-18T16:25:10.873Z"
   },
   {
    "duration": 236,
    "start_time": "2023-05-18T16:25:11.123Z"
   },
   {
    "duration": 5,
    "start_time": "2023-05-18T16:25:11.361Z"
   },
   {
    "duration": 117,
    "start_time": "2023-05-18T16:25:11.367Z"
   },
   {
    "duration": 205,
    "start_time": "2023-05-18T16:25:11.485Z"
   },
   {
    "duration": 5,
    "start_time": "2023-05-18T16:25:11.692Z"
   },
   {
    "duration": 110,
    "start_time": "2023-05-18T16:25:11.699Z"
   },
   {
    "duration": 219,
    "start_time": "2023-05-18T16:25:11.811Z"
   },
   {
    "duration": 195,
    "start_time": "2023-05-18T16:25:12.032Z"
   },
   {
    "duration": 1691,
    "start_time": "2023-05-18T16:25:12.229Z"
   },
   {
    "duration": 16,
    "start_time": "2023-05-18T16:25:13.922Z"
   },
   {
    "duration": 103,
    "start_time": "2023-05-18T16:25:13.946Z"
   },
   {
    "duration": 41102,
    "start_time": "2023-05-18T16:25:14.052Z"
   },
   {
    "duration": 54406,
    "start_time": "2023-05-18T16:25:55.156Z"
   },
   {
    "duration": 360,
    "start_time": "2023-05-18T16:26:49.564Z"
   },
   {
    "duration": 8,
    "start_time": "2023-05-18T16:26:49.926Z"
   },
   {
    "duration": 7,
    "start_time": "2023-05-18T16:52:49.527Z"
   },
   {
    "duration": 6,
    "start_time": "2023-05-18T16:53:15.486Z"
   },
   {
    "duration": 8064,
    "start_time": "2023-05-18T21:41:06.884Z"
   },
   {
    "duration": 1331,
    "start_time": "2023-05-18T21:41:15.002Z"
   },
   {
    "duration": 15,
    "start_time": "2023-05-18T21:41:16.382Z"
   },
   {
    "duration": 37973,
    "start_time": "2023-05-18T21:41:16.408Z"
   },
   {
    "duration": 20,
    "start_time": "2023-05-18T21:41:54.419Z"
   },
   {
    "duration": 18497,
    "start_time": "2023-05-18T21:41:54.520Z"
   },
   {
    "duration": 79,
    "start_time": "2023-05-18T21:42:13.026Z"
   },
   {
    "duration": 9307,
    "start_time": "2023-05-18T21:42:13.113Z"
   },
   {
    "duration": 115,
    "start_time": "2023-05-18T21:42:22.422Z"
   },
   {
    "duration": 1193,
    "start_time": "2023-05-18T21:42:22.600Z"
   },
   {
    "duration": 1565,
    "start_time": "2023-05-18T21:42:23.820Z"
   },
   {
    "duration": 25,
    "start_time": "2023-05-18T21:42:25.405Z"
   },
   {
    "duration": 531,
    "start_time": "2023-05-18T21:42:34.000Z"
   },
   {
    "duration": 1065,
    "start_time": "2023-05-18T21:42:35.516Z"
   },
   {
    "duration": 71,
    "start_time": "2023-05-18T21:42:37.214Z"
   },
   {
    "duration": 394,
    "start_time": "2023-05-18T21:42:38.139Z"
   },
   {
    "duration": 1101,
    "start_time": "2023-05-18T21:42:40.112Z"
   },
   {
    "duration": 126,
    "start_time": "2023-05-18T21:43:14.410Z"
   },
   {
    "duration": 146,
    "start_time": "2023-05-18T21:44:07.482Z"
   },
   {
    "duration": 538,
    "start_time": "2023-05-18T21:44:21.848Z"
   }
  ],
  "kernelspec": {
   "display_name": "Python 3 (ipykernel)",
   "language": "python",
   "name": "python3"
  },
  "language_info": {
   "codemirror_mode": {
    "name": "ipython",
    "version": 3
   },
   "file_extension": ".py",
   "mimetype": "text/x-python",
   "name": "python",
   "nbconvert_exporter": "python",
   "pygments_lexer": "ipython3",
   "version": "3.9.13"
  },
  "toc": {
   "base_numbering": 1,
   "nav_menu": {},
   "number_sections": true,
   "sideBar": true,
   "skip_h1_title": true,
   "title_cell": "Table of Contents",
   "title_sidebar": "Contents",
   "toc_cell": false,
   "toc_position": {},
   "toc_section_display": true,
   "toc_window_display": false
  }
 },
 "nbformat": 4,
 "nbformat_minor": 5
}
